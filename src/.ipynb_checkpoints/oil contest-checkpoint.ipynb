{
 "cells": [
  {
   "cell_type": "code",
   "execution_count": 1,
   "metadata": {
    "nbpresent": {
     "id": "c5f8ba3d-0d2d-448b-8f4e-759725a5bd52"
    }
   },
   "outputs": [
    {
     "name": "stderr",
     "output_type": "stream",
     "text": [
      "/anaconda2/envs/env/lib/python3.6/site-packages/sklearn/ensemble/weight_boosting.py:29: DeprecationWarning: numpy.core.umath_tests is an internal NumPy module and should not be imported. It will be removed in a future NumPy release.\n",
      "  from numpy.core.umath_tests import inner1d\n"
     ]
    }
   ],
   "source": [
    "import pandas as pd \n",
    "import numpy as np\n",
    "pd.set_option('display.max_columns', 500)\n",
    "pd.set_option('display.max_rows', 500)\n",
    "import matplotlib.pyplot as plt\n",
    "from sklearn.model_selection import train_test_split\n",
    "from sklearn.linear_model import Ridge, Lasso\n",
    "from sklearn.ensemble import RandomForestRegressor,ExtraTreesRegressor\n",
    "from sklearn.model_selection import cross_val_predict\n",
    "from sklearn.model_selection import cross_val_score\n",
    "from sklearn.svm import LinearSVR\n",
    "import xgboost as xgb\n",
    "MAX_TOWERS = 6\n",
    "from catboost import CatBoostRegressor\n",
    "from sklearn.preprocessing import LabelEncoder, OneHotEncoder\n",
    "\n",
    "import random\n",
    "\n",
    "from sklearn.model_selection import KFold, StratifiedKFold\n",
    "from sklearn.metrics import mean_absolute_error\n",
    "from scipy.sparse import hstack \n",
    "from sklearn.neural_network import MLPRegressor\n",
    "from sklearn.decomposition import PCA\n",
    "import math\n",
    "from collections import defaultdict\n",
    "from utils import get_test, get_train\n",
    "from ensemble import Ensembler\n",
    "from utils import clean_non_targeted\n",
    "%load_ext line_profiler"
   ]
  },
  {
   "cell_type": "code",
   "execution_count": 15,
   "metadata": {
    "scrolled": true
   },
   "outputs": [
    {
     "name": "stdout",
     "output_type": "stream",
     "text": [
      "Main shape (3357, 123)\n",
      "0 duplicates\n",
      "396 duplicates\n",
      "242 duplicates\n",
      "final shape (3357, 153)\n",
      "Main shape (266, 114)\n",
      "0 duplicates\n",
      "53 duplicates\n",
      "66 duplicates\n",
      "final shape (266, 144)\n",
      "after hooks\n",
      "(3357, 153)\n",
      "(266, 144)\n",
      "Нефть, т dropped\n",
      "{'Фирма ГРП', 'Тип газосепаратора', 'Агент закачки', 'Примечание', 'Станок-качалка'} dropped\n",
      "['ГП - Общий прирост Qн', 'ТП(ИДН) Дебит жидкости скорр-ый', 'Дебит жидкости', 'Нефть, м3', 'ТП(ГРП) Дебит жидкости скорр-ый', 'Жидкость, м3', 'ТП(ИДН) Дебит жидкости', 'ТП(ГРП) Дебит жидкости'] dropped\n",
      "After common_pipeline\n",
      "(3357, 139)\n",
      "(266, 139)\n"
     ]
    },
    {
     "name": "stderr",
     "output_type": "stream",
     "text": [
      "/Users/kkushaev/PycharmProjects/gp_oil/src/pipelines.py:367: SettingWithCopyWarning: \n",
      "A value is trying to be set on a copy of a slice from a DataFrame.\n",
      "Try using .loc[row_indexer,col_indexer] = value instead\n",
      "\n",
      "See the caveats in the documentation: http://pandas.pydata.org/pandas-docs/stable/indexing.html#indexing-view-versus-copy\n",
      "  train[c] = train[c].astype(str)\n",
      "/Users/kkushaev/PycharmProjects/gp_oil/src/pipelines.py:368: SettingWithCopyWarning: \n",
      "A value is trying to be set on a copy of a slice from a DataFrame.\n",
      "Try using .loc[row_indexer,col_indexer] = value instead\n",
      "\n",
      "See the caveats in the documentation: http://pandas.pydata.org/pandas-docs/stable/indexing.html#indexing-view-versus-copy\n",
      "  test[c] = test[c].astype(str)\n",
      "/Users/kkushaev/PycharmProjects/gp_oil/src/pipelines.py:383: SettingWithCopyWarning: \n",
      "A value is trying to be set on a copy of a slice from a DataFrame.\n",
      "Try using .loc[row_indexer,col_indexer] = value instead\n",
      "\n",
      "See the caveats in the documentation: http://pandas.pydata.org/pandas-docs/stable/indexing.html#indexing-view-versus-copy\n",
      "  train[c] = train[c].str.lower()\n",
      "/Users/kkushaev/PycharmProjects/gp_oil/src/pipelines.py:384: SettingWithCopyWarning: \n",
      "A value is trying to be set on a copy of a slice from a DataFrame.\n",
      "Try using .loc[row_indexer,col_indexer] = value instead\n",
      "\n",
      "See the caveats in the documentation: http://pandas.pydata.org/pandas-docs/stable/indexing.html#indexing-view-versus-copy\n",
      "  test[c] = test[c].str.lower()\n"
     ]
    },
    {
     "name": "stdout",
     "output_type": "stream",
     "text": [
      "nans in column pipelines\n",
      "False\n",
      "shape_after_column_pipelines\n",
      "(3357, 293)\n",
      "(266, 293)\n",
      "(2493, 293)\n",
      "(2493,)\n",
      "(2493,)\n"
     ]
    }
   ],
   "source": [
    "from utils import get_test, get_train\n",
    "from pipelines import common_pipeline, train_hook, target_hook, \\\n",
    "    cont_pipeline, cat_pipeline, null_cat_step, text_pipeline, date_pipeline\n",
    "from cleaner import DataCleaner\n",
    "\n",
    "dc = DataCleaner(common_pipelines=common_pipeline, column_pipelines=[\n",
    "    cont_pipeline, null_cat_step, cat_pipeline, text_pipeline, date_pipeline],\n",
    "                 train_hooks=train_hook, target_hooks=target_hook)\n",
    "\n",
    "X_train, X_test, y_train, groups = dc.get_clean_data(get_train(), get_test(), group_col=\"Скважина\")\n",
    "X_train, groups, y_train = clean_non_targeted([X_train, groups], y_train)"
   ]
  },
  {
   "cell_type": "code",
   "execution_count": 3,
   "metadata": {
    "scrolled": false
   },
   "outputs": [],
   "source": [
    "def get_df_from_posts(X_pos,Y_pos, X, y):\n",
    "    return X.loc[X_pos], y.loc[Y_pos]\n",
    "        \n",
    "\n",
    "def getXY_for_step(X,y, groups, group_col_prefix=\"pos_number_\"):\n",
    "    X_stepped = {}\n",
    "    y_stepped = {}\n",
    "    comb = pd.concat([X, groups], axis=1)\n",
    "    groups_by_skw = comb.groupby(groups.name)\n",
    "    indexes_X = defaultdict(list)\n",
    "    indexes_y = defaultdict(list)\n",
    "    for name, group in groups_by_skw:\n",
    "        for i in range(6):\n",
    "            next_item_idx = group[group[group_col_prefix+str(i)]==1].index\n",
    "            if len(next_item_idx)>0:\n",
    "                indexes_X[i].append(group.index[0])\n",
    "                indexes_y[i].append(next_item_idx[0])\n",
    "    for i in range(6):\n",
    "        X_step, y_step = get_df_from_posts(indexes_X[i], indexes_y[i], X, y)\n",
    "        X_stepped[i] = X_step\n",
    "        y_stepped[i] = y_step\n",
    "    return X_stepped, y_stepped\n",
    "\n",
    "def get_XY_mean(X,y, groups):\n",
    "    comb = pd.concat([X, groups], axis=1)\n",
    "    X_mean = comb.groupby(groups.name).first().reset_index()\n",
    "    comb_y = pd.concat([groups, y], axis = 1)\n",
    "    y_mean = comb_y.groupby(groups.name).mean().reset_index()\n",
    "    return X_mean.drop([groups.name],axis=1), y_mean[y.name]"
   ]
  },
  {
   "cell_type": "code",
   "execution_count": 4,
   "metadata": {},
   "outputs": [],
   "source": [
    "def get_preds(X_step, y_step, X_test, X_ov, y_ov, groups_ov):\n",
    "    preds = []\n",
    "    for i in range(6):\n",
    "        x = X_step[i]\n",
    "        y = y_step[i]\n",
    "        ensem = Ensembler()\n",
    "        ensem.fit(x,y)\n",
    "        preds.append(ensem.predict(X_test))\n",
    "    \"\"\"\n",
    "    preds = np.vstack(preds)\n",
    "    X_mean, y_mean = get_XY_mean(X_ov, y_ov, groups_ov)\n",
    "    mean_ensem = Ensembler()\n",
    "    mean_ensem.fit(X_mean, y_mean)\n",
    "    mean_preds = mean_ensem.predict(X_test)\n",
    "    print(mean_preds.shape)\n",
    "    print(preds.shape)\n",
    "    diff = preds.mean(axis=0) - mean_preds\n",
    "    preds = preds+diff\n",
    "    \"\"\"\n",
    "    return np.hstack(preds)"
   ]
  },
  {
   "cell_type": "code",
   "execution_count": 5,
   "metadata": {},
   "outputs": [],
   "source": [
    "def get_prediction(X_train, y_train, X_groups, X_test, constant = 701.4750):\n",
    "    X_step, y_step = getXY_for_step(X_train, y_train, X_groups)\n",
    "    preds = get_preds(X_step, y_step, X_test, X_train, y_train,X_groups)\n",
    "    return preds+(constant- np.mean(preds))"
   ]
  },
  {
   "cell_type": "code",
   "execution_count": 7,
   "metadata": {},
   "outputs": [],
   "source": [
    "def transform_train_into_test(X_train,y_train,group):\n",
    "    comb = pd.concat([X_train, group], axis=1)\n",
    "    X_test = comb.groupby(group.name).head(1)\n",
    "    \n",
    "    comb_y = pd.concat([y_train, group], axis=1)\n",
    "    preds = []\n",
    "    for name, grp in comb_y.groupby(group.name):\n",
    "        cur = grp[y_train.name].values\n",
    "        preds.extend(cur)\n",
    "        to_full = 6 - len(cur)\n",
    "        for i in range(to_full):\n",
    "            preds.append(0)\n",
    "        \n",
    "    return X_test.drop([group.name],axis=1), pd.Series(preds, name = y_train.name)"
   ]
  },
  {
   "cell_type": "code",
   "execution_count": 8,
   "metadata": {},
   "outputs": [],
   "source": [
    "from sklearn.model_selection import GroupKFold\n",
    "\n",
    "def cross_validate(train, y, groups,n_folds = 5):\n",
    "    errors = []\n",
    "    k_fold = GroupKFold(n_splits=n_folds)\n",
    "    for tr_ix, test_ix in k_fold.split(train,y, groups=groups):\n",
    "        train_x = train.iloc[tr_ix]\n",
    "        test_x = train.iloc[test_ix]\n",
    "        \n",
    "        train_y = y.iloc[tr_ix]\n",
    "        test_y = y.iloc[test_ix]\n",
    "        \n",
    "        train_groups = groups.iloc[tr_ix]\n",
    "        test_groups = groups.iloc[test_ix]\n",
    "        \n",
    "        constant = np.mean(test_y)\n",
    "        test_x, test_y = transform_train_into_test(test_x, test_y, test_groups)\n",
    "        test_preds = get_prediction(train_x, train_y, train_groups, test_x, constant=constant)\n",
    "        null_mask = test_y==0\n",
    "        test_y = test_y[~null_mask]\n",
    "        test_preds = test_preds.ravel()[~null_mask]\n",
    "        error=mean_absolute_error(y_true=test_y, y_pred=test_preds)\n",
    "        print(\"fold error:%s\" % error)\n",
    "        errors.append(error)\n",
    "    print(\"overall error: %s\" % np.mean(errors))\n",
    "    print(errors)"
   ]
  },
  {
   "cell_type": "code",
   "execution_count": 16,
   "metadata": {},
   "outputs": [
    {
     "name": "stdout",
     "output_type": "stream",
     "text": [
      "fold error:535.9321806666464\n",
      "fold error:575.6088907701267\n",
      "fold error:512.8400828611874\n",
      "fold error:565.9094617305893\n",
      "fold error:647.2833720765631\n",
      "overall error: 567.5147976210226\n",
      "[535.9321806666464, 575.6088907701267, 512.8400828611874, 565.9094617305893, 647.2833720765631]\n"
     ]
    }
   ],
   "source": [
    "cross_validate(X_train, y_train, groups)"
   ]
  },
  {
   "cell_type": "code",
   "execution_count": 10,
   "metadata": {},
   "outputs": [
    {
     "ename": "SyntaxError",
     "evalue": "invalid syntax (<ipython-input-10-4dda3127e56b>, line 1)",
     "output_type": "error",
     "traceback": [
      "\u001b[0;36m  File \u001b[0;32m\"<ipython-input-10-4dda3127e56b>\"\u001b[0;36m, line \u001b[0;32m1\u001b[0m\n\u001b[0;31m    overall error: 586.8529780351473 - no tuning at all\u001b[0m\n\u001b[0m                ^\u001b[0m\n\u001b[0;31mSyntaxError\u001b[0m\u001b[0;31m:\u001b[0m invalid syntax\n"
     ]
    }
   ],
   "source": [
    "with constant\n",
    "overall error: 586.8529780351473 - no tuning at all\n",
    "overall error: 593.3171589377365 - fine_tuning - trees and xgboost\n",
    "overall error: 590.1729245403773 - no fine_tuning with svr\n",
    "overall error: 585.9466054464082 - no tuning without svr\n",
    "overall error: 595.2589313926577 - with mean predictor\n",
    "overall error: 566.5446037967746 - with split cont cat\n",
    "overall error: 573.2952045615001 - no indicators\n",
    "without constant\n",
    "overall error: 817.3616031345466 - no median no ft\n",
    "overall error: 816.6795520993119 - less correlated continious deleted\n",
    "overall error: 814.0470972136585 - less important idgnored + less correlated\n",
    "overall error: 826.1290941377698 - with mean predictor\n",
    "overall error: 799.327075232282  - with split cont cat\n",
    "overall error: 813.7139790849839 - with split and median\n",
    "    \n",
    "lb_scores:\n",
    "470.0650 - split cont_cat\n",
    "489.6310 - no tuning - simple step ensembler- have correlation!!!!\n"
   ]
  },
  {
   "cell_type": "code",
   "execution_count": 17,
   "metadata": {},
   "outputs": [
    {
     "data": {
      "text/plain": [
       "(1596,)"
      ]
     },
     "execution_count": 17,
     "metadata": {},
     "output_type": "execute_result"
    }
   ],
   "source": [
    "pred = get_prediction(X_train, y_train, groups, X_test)\n",
    "pred.shape"
   ]
  },
  {
   "cell_type": "code",
   "execution_count": 18,
   "metadata": {},
   "outputs": [],
   "source": [
    "def create_submission(fname, df):\n",
    "    final_pred = pd.Series(df)\n",
    "    final_pred.to_csv(fname,header=[\"_VAL_\"],index_label=[\"_ID_\"])"
   ]
  },
  {
   "cell_type": "code",
   "execution_count": 19,
   "metadata": {},
   "outputs": [],
   "source": [
    "create_submission(\"test_spli.csv\", pred)"
   ]
  },
  {
   "cell_type": "code",
   "execution_count": null,
   "metadata": {},
   "outputs": [],
   "source": []
  },
  {
   "cell_type": "code",
   "execution_count": 381,
   "metadata": {},
   "outputs": [
    {
     "data": {
      "text/plain": [
       "array([ 935, 3556, 1145, 2288, 8105, 8106,  893,  893, 6388, 4998, 8159,\n",
       "       6303, 4854, 4472, 3457, 8159, 4125, 3667, 1161, 3596, 8159, 4728,\n",
       "       4728, 3310, 3310, 6894, 4664, 7538, 3271, 3272, 6894, 3392, 2260,\n",
       "       4998, 5550, 4854, 4854, 3170, 8687, 6388, 3383, 3383, 1173, 2918,\n",
       "       3577, 4394, 3554, 6119, 3805, 3805, 1229, 1230, 4397, 3595, 4397,\n",
       "       2690, 4362, 6390, 1550, 1550, 1550, 1550, 1551, 1551, 1551, 1551,\n",
       "       7226, 7226, 5154, 3793, 8651, 2618, 3596, 1251, 4854,  629, 6422,\n",
       "       6279, 1147, 3170, 3383, 2132, 4123, 4124, 4125, 1145, 5172, 5154,\n",
       "       8687, 6939, 5963, 2132, 2288, 5694, 5695, 5696, 5697, 7879, 4728,\n",
       "       4728, 1891, 1391, 7538,  300,  300, 7130, 4125, 4125, 2691, 5000,\n",
       "       3170, 1145, 2216, 5026, 5154, 5000, 5000,  581, 3595, 7685, 6388,\n",
       "       6388, 3691, 7957, 4746, 4746,  221, 6939, 3383, 8159,  935, 1389,\n",
       "       8651, 6388, 4394, 3457, 3457, 1121, 1121, 1121, 5526, 6279, 4728,\n",
       "       3595, 6387, 6881, 6881, 6881, 7681, 2438, 5617, 5617, 3391, 8651,\n",
       "       4496, 3555, 1891, 3865, 5000, 3271, 3272, 6894, 3691, 3992, 8159,\n",
       "       3853, 3853, 3853, 6914, 6917, 3865, 6387, 4397, 4568, 4628, 4051,\n",
       "       4051, 3555, 2132, 4051, 2408, 1251, 1251, 3691, 3691, 3691, 1389,\n",
       "       4728, 4722, 2936, 2438, 6938, 7640, 4640, 3667, 5466, 5468, 6119,\n",
       "       1173, 4394, 3457, 3461, 6914, 4958, 2342, 1526, 1526, 6894, 3457,\n",
       "       3461, 2691, 4394, 6303,  537,  917,  935,  294, 3595, 6938, 2216,\n",
       "       2090, 2216, 2217, 2218, 3383, 3383, 2444, 2445, 2446, 2447, 4394,\n",
       "       1574, 1574, 8702, 1576, 8699, 8699, 8708, 1580, 8705, 8705, 8706,\n",
       "       8705, 3697, 6135, 6135, 5136, 3556, 4496, 7142, 7143, 7144, 7145,\n",
       "       7142, 7143, 7144, 7145, 8888, 8888, 2793, 2793, 7879, 7879, 7879,\n",
       "       7879, 7879, 2225, 2226, 2216, 2223, 4854,  402, 6351, 4854, 8435,\n",
       "       8435, 6042,  864,  865,  866, 5136, 2343, 6387, 4568, 4628, 2216,\n",
       "       3996, 3996, 3871, 4640, 4442, 3553, 6159, 4362, 7919, 7640, 6894,\n",
       "       1391, 3667, 4854, 5551, 3271, 3272, 3273, 3271, 3272, 3273, 3271,\n",
       "       3272, 3273,  669,  670,  671,  672, 6914, 6914, 6894, 6894, 5000,\n",
       "       2912, 2066, 4950, 4956, 2216, 6387, 3271, 3272, 6894, 4568, 3679,\n",
       "       3679, 4536, 4536, 4536, 4998, 1145, 4371, 4998,  939, 3609, 3610,\n",
       "       3611, 3612, 5136, 3691, 7674, 6280,  402, 4498, 4498, 4496, 6279,\n",
       "       1622, 1622, 1622, 1622, 1622, 1622, 4671, 1145, 7490, 7491, 7492,\n",
       "       7493, 6159, 3596, 4958, 4298, 4299, 4300, 4301, 4298, 4299, 4300,\n",
       "       4301, 4298, 4299, 4300, 4301, 3271, 3273, 2612, 3727, 6948, 6948,\n",
       "       6948, 6948, 3271, 3272, 4628,  300, 3570, 3570, 3570, 3570, 7514,\n",
       "       2618, 2618, 6894, 3170, 7124, 2132, 6894, 5154, 3457, 3459, 3457,\n",
       "       3459, 3457, 3459, 3457, 3459])"
      ]
     },
     "execution_count": 381,
     "metadata": {},
     "output_type": "execute_result"
    }
   ],
   "source": [
    "from sklearn.metrics.pairwise import cosine_similarity\n",
    "def get_most_similar(x1,x2):\n",
    "    matr = cosine_similarity(x1,x2)\n",
    "    return np.argmax(matr, axis = 0)\n",
    "\n",
    "similar_to_test  = get_most_similar(X_train,X_test)\n",
    "similar_to_test"
   ]
  },
  {
   "cell_type": "code",
   "execution_count": 382,
   "metadata": {},
   "outputs": [],
   "source": [
    "target_group = group.loc[similar_to_test]\n",
    "target_group = target_groups.values.ravel()\n",
    "test_sim_idx = group[group.isin(target_group).values]"
   ]
  },
  {
   "cell_type": "code",
   "execution_count": 383,
   "metadata": {},
   "outputs": [
    {
     "name": "stderr",
     "output_type": "stream",
     "text": [
      "/anaconda2/envs/env/lib/python3.6/site-packages/ipykernel/__main__.py:1: FutureWarning: \n",
      "Passing list-likes to .loc or [] with any missing label will raise\n",
      "KeyError in the future, you can use .reindex() as an alternative.\n",
      "\n",
      "See the documentation here:\n",
      "https://pandas.pydata.org/pandas-docs/stable/indexing.html#deprecate-loc-reindex-listlike\n",
      "  if __name__ == '__main__':\n"
     ]
    }
   ],
   "source": [
    "true_test = pd.concat([X_train.loc[test_sim_idx.index]], axis=1)"
   ]
  },
  {
   "cell_type": "code",
   "execution_count": null,
   "metadata": {},
   "outputs": [],
   "source": []
  },
  {
   "cell_type": "code",
   "execution_count": null,
   "metadata": {},
   "outputs": [],
   "source": []
  },
  {
   "cell_type": "code",
   "execution_count": 8,
   "metadata": {},
   "outputs": [],
   "source": []
  },
  {
   "cell_type": "code",
   "execution_count": null,
   "metadata": {},
   "outputs": [],
   "source": []
  },
  {
   "cell_type": "code",
   "execution_count": null,
   "metadata": {},
   "outputs": [],
   "source": []
  },
  {
   "cell_type": "code",
   "execution_count": null,
   "metadata": {},
   "outputs": [],
   "source": []
  },
  {
   "cell_type": "code",
   "execution_count": 373,
   "metadata": {},
   "outputs": [],
   "source": [
    "X_sim_train = X_train.drop(index=true_test.index)\n",
    "y_sim_train = Y.drop(index=true_test.index)"
   ]
  },
  {
   "cell_type": "code",
   "execution_count": null,
   "metadata": {},
   "outputs": [],
   "source": []
  },
  {
   "cell_type": "code",
   "execution_count": null,
   "metadata": {},
   "outputs": [],
   "source": []
  },
  {
   "cell_type": "code",
   "execution_count": 154,
   "metadata": {},
   "outputs": [],
   "source": []
  },
  {
   "cell_type": "code",
   "execution_count": null,
   "metadata": {},
   "outputs": [],
   "source": []
  },
  {
   "cell_type": "code",
   "execution_count": 11,
   "metadata": {},
   "outputs": [],
   "source": [
    "gkf = list(GroupKFold(n_splits=4).split(X_train, y_train, groups=groups))"
   ]
  },
  {
   "cell_type": "code",
   "execution_count": 20,
   "metadata": {},
   "outputs": [
    {
     "data": {
      "text/plain": [
       "<matplotlib.collections.PathCollection at 0x1a24585128>"
      ]
     },
     "execution_count": 20,
     "metadata": {},
     "output_type": "execute_result"
    },
    {
     "data": {
      "image/png": "[encoded data removed]",
      "text/plain": [
       "<Figure size 432x288 with 1 Axes>"
      ]
     },
     "metadata": {},
     "output_type": "display_data"
    }
   ],
   "source": [
    "\n",
    "scores =[]\n",
    "for a in np.linspace(0.5, 0.6, 20):\n",
    "    scores.append(np.mean(-cross_val_score(Lasso(alpha=a),X_train, y_train, n_jobs=-1, \n",
    "                                   scoring=\"neg_mean_absolute_error\", cv=gkf)))\n",
    "plt.scatter(np.linspace(0.5, 0.6, 20),scores)"
   ]
  },
  {
   "cell_type": "code",
   "execution_count": 26,
   "metadata": {},
   "outputs": [
    {
     "data": {
      "text/plain": [
       "<matplotlib.collections.PathCollection at 0x1a24e49630>"
      ]
     },
     "execution_count": 26,
     "metadata": {},
     "output_type": "execute_result"
    },
    {
     "data": {
      "image/png": "[encoded data removed]",
      "text/plain": [
       "<Figure size 432x288 with 1 Axes>"
      ]
     },
     "metadata": {},
     "output_type": "display_data"
    }
   ],
   "source": [
    "\n",
    "scores =[]\n",
    "for a in np.linspace(16, 20, 20):\n",
    "    scores.append(np.mean(-cross_val_score(Ridge(alpha=a),X_train, y_train, n_jobs=-1, \n",
    "                                   scoring=\"neg_mean_absolute_error\", cv=gkf)))\n",
    "plt.scatter(np.linspace(16, 20, 20),scores)"
   ]
  },
  {
   "cell_type": "code",
   "execution_count": null,
   "metadata": {},
   "outputs": [],
   "source": [
    "\n",
    "scores =[]\n",
    "for a in np.linspace(16, 20, 20):\n",
    "    scores.append(np.mean(-cross_val_score(,X_train, y_train, n_jobs=-1, \n",
    "                                   scoring=\"neg_mean_absolute_error\", cv=gkf)))\n",
    "plt.scatter(np.linspace(16, 20, 20),scores)"
   ]
  },
  {
   "cell_type": "code",
   "execution_count": 29,
   "metadata": {},
   "outputs": [
    {
     "name": "stdout",
     "output_type": "stream",
     "text": [
      "Fitting 4 folds for each of 36 candidates, totalling 144 fits\n"
     ]
    },
    {
     "name": "stderr",
     "output_type": "stream",
     "text": [
      "[Parallel(n_jobs=-1)]: Done  42 tasks      | elapsed: 132.9min\n",
      "[Parallel(n_jobs=-1)]: Done 144 out of 144 | elapsed: 328.2min finished\n"
     ]
    },
    {
     "name": "stdout",
     "output_type": "stream",
     "text": [
      "RandomForestRegressor(bootstrap=True, criterion='mae', max_depth=None,\n",
      "           max_features='auto', max_leaf_nodes=None,\n",
      "           min_impurity_decrease=0.0, min_impurity_split=None,\n",
      "           min_samples_leaf=1, min_samples_split=3,\n",
      "           min_weight_fraction_leaf=0.0, n_estimators=500, n_jobs=1,\n",
      "           oob_score=False, random_state=None, verbose=0, warm_start=False)\n"
     ]
    }
   ],
   "source": [
    "from sklearn.grid_search import GridSearchCV\n",
    "# Set the parameters by cross-validation\n",
    "tuned_parameters = {'n_estimators': [100, 300, 500], 'max_depth': [None, 1, 2, 3], 'min_samples_split': [2, 3, 4]}\n",
    "\n",
    "# clf = ensemble.RandomForestRegressor(n_estimators=500, n_jobs=1, verbose=1)\n",
    "clf = GridSearchCV(RandomForestRegressor(criterion=\"mae\"), tuned_parameters, cv=gkf, scoring=\"neg_mean_absolute_error\", n_jobs=-1, verbose=1)\n",
    "clf.fit(X_train, y_train)\n",
    "print(clf.best_estimator_)\n"
   ]
  },
  {
   "cell_type": "code",
   "execution_count": 31,
   "metadata": {},
   "outputs": [
    {
     "name": "stdout",
     "output_type": "stream",
     "text": [
      "Fitting 4 folds for each of 27 candidates, totalling 108 fits\n"
     ]
    },
    {
     "name": "stderr",
     "output_type": "stream",
     "text": [
      "[Parallel(n_jobs=-1)]: Done  42 tasks      | elapsed:  2.5min\n",
      "[Parallel(n_jobs=-1)]: Done 108 out of 108 | elapsed:  7.7min finished\n"
     ]
    },
    {
     "name": "stdout",
     "output_type": "stream",
     "text": [
      "XGBRegressor(base_score=0.5, booster='gbtree', colsample_bylevel=1,\n",
      "       colsample_bytree=1, gamma=0, learning_rate=0.05, max_delta_step=0,\n",
      "       max_depth=5, min_child_weight=1, missing=None, n_estimators=500,\n",
      "       n_jobs=1, nthread=None, objective='reg:linear', random_state=0,\n",
      "       reg_alpha=0, reg_lambda=1, scale_pos_weight=1, seed=None,\n",
      "       silent=True, subsample=1)\n"
     ]
    }
   ],
   "source": [
    "from sklearn.grid_search import GridSearchCV\n",
    "# Set the parameters by cross-validation\n",
    "tuned_parameters = {'n_estimators': [100, 300, 500], 'max_depth': [1, 2, 5], 'learning_rate': [0.01, 0.05, 0.1]}\n",
    "\n",
    "# clf = ensemble.RandomForestRegressor(n_estimators=500, n_jobs=1, verbose=1)\n",
    "clf = GridSearchCV(xgb.XGBRegressor(), tuned_parameters, cv=gkf, scoring=\"neg_mean_absolute_error\", n_jobs=-1, verbose=1)\n",
    "clf.fit(X_train, y_train)\n",
    "print(clf.best_estimator_)\n"
   ]
  },
  {
   "cell_type": "code",
   "execution_count": 10,
   "metadata": {},
   "outputs": [],
   "source": [
    "coef = pd.concat([X_train, y_train], axis=1).corr()\n",
    "\n"
   ]
  },
  {
   "cell_type": "code",
   "execution_count": 11,
   "metadata": {},
   "outputs": [],
   "source": [
    "ineff_colls_corr = coef[\"Нефть, т\"][(coef[\"Нефть, т\"]<0.02)&(coef[\"Нефть, т\"]>-0.02)]"
   ]
  },
  {
   "cell_type": "code",
   "execution_count": 12,
   "metadata": {},
   "outputs": [
    {
     "data": {
      "text/plain": [
       "Обводненность_indicator                           -0.017276\n",
       "Дата ввода в эксплуатацию_indicator               -0.017276\n",
       "SKIN_indicator                                    -0.017276\n",
       "Коэффициент подачи насоса_indicator               -0.017276\n",
       "Частота_indicator                                 -0.017276\n",
       "ГП(ИДН) Дебит жидкости скорр-ый_indicator         -0.017276\n",
       "Xf_indicator                                       0.015215\n",
       "Динамическая высота_indicator                     -0.017276\n",
       "Время в накоплении_indicator                      -0.017276\n",
       "ГП(ИДН) Прирост дефита нефти_indicator            -0.017276\n",
       "Гель_indicator                                    -0.010807\n",
       "Диаметр плунжера_indicator                        -0.017276\n",
       "Коэффициент продуктивности_indicator              -0.017276\n",
       "JD факт_indicator                                 -0.017276\n",
       "Забойное давление_indicator                       -0.017276\n",
       "Замерное забойное давление_indicator              -0.017276\n",
       "КН закрепленный_indicator                         -0.017276\n",
       "Пластовое давление начальное_indicator            -0.017276\n",
       "К пр от стимуляции_indicator                      -0.017276\n",
       "Температура пласта_indicator                      -0.017276\n",
       "Дата запуска после КРС_indicator                  -0.015185\n",
       "Длина хода плунжера ШГН_indicator                 -0.017276\n",
       "Вязкость нефти в пластовых условиях_indicator     -0.017276\n",
       "Глубина верхних дыр перфорации_indicator          -0.017276\n",
       "объемный коэффициент_indicator                    -0.017276\n",
       "Давление на приеме_indicator                      -0.017276\n",
       "Время до псевдоуст-ся режима_indicator            -0.017276\n",
       "Вязкость жидкости в пласт. условиях_indicator     -0.017276\n",
       "Плотность раствора глушения_indicator             -0.017276\n",
       "Плотность нефти_indicator                         -0.017276\n",
       "Удельный коэффициент_indicator                    -0.017276\n",
       "Диаметр экспл.колонны_indicator                   -0.017276\n",
       "Производительность ЭЦН_indicator                  -0.017276\n",
       "Высота перфорации_indicator                       -0.017276\n",
       "Глубина спуска.1_indicator                        -0.017276\n",
       "Дата пуска_indicator                              -0.017276\n",
       "Радиус контура питания_indicator                  -0.017276\n",
       "Газовый фактор_indicator                          -0.017276\n",
       "Глубина текущего забоя_indicator                  -0.017276\n",
       "Дата останова_indicator                           -0.014594\n",
       "Давление наcыщения_indicator                      -0.017276\n",
       "Число качаний ШГН_indicator                       -0.017276\n",
       "Глубина спуска_indicator                          -0.017276\n",
       "Пластовое давление_indicator                      -0.017276\n",
       "Характеристический дебит жидкости_indicator       -0.017276\n",
       "ТП - JD опт._indicator                            -0.017276\n",
       "Время в работе_indicator                          -0.017276\n",
       "ТП - SKIN_indicator                               -0.017276\n",
       "FCD_indicator                                      0.015215\n",
       "Нефтенасыщенная толщина_indicator                 -0.017276\n",
       "Коэффициент сепарации_indicator                   -0.017276\n",
       "Глубина спуска доп. оборудования_indicator        -0.017276\n",
       "КВЧ_indicator                                     -0.017276\n",
       "Плотность воды_indicator                          -0.017276\n",
       "ГП(ИДН) Дебит жидкости_indicator                  -0.017276\n",
       "Дата ГРП_indicator                                 0.000719\n",
       "Удлинение_indicator                               -0.017276\n",
       "Диаметр дополнительного оборудования_indicator    -0.017276\n",
       "Вязкость воды в пластовых условиях_indicator      -0.017276\n",
       "Диаметр штуцера_indicator                         -0.017276\n",
       "Тип скважины_Вертикально                          -0.012013\n",
       "Неустановившийся режим_нет                         0.017276\n",
       "Метод_ФОН                                          0.005745\n",
       "Метод_ФОН/ЭЦН                                     -0.016850\n",
       "Пласт МЭР_nan                                     -0.017276\n",
       "Пласт МЭР_АС12.3-5(3)                             -0.007195\n",
       "Пласт МЭР_АС12.3-5(4)                              0.016599\n",
       "Пласт МЭР_Ю1                                       0.009755\n",
       "Способ эксплуатации_ФОН                            0.002420\n",
       "Способ эксплуатации_ЭЦН                            0.017091\n",
       "Состояние на конец месяца_Остановлена             -0.018361\n",
       "Номер бригады_1.0                                  0.004982\n",
       "Номер бригады_2.0                                  0.004595\n",
       "Номер бригады_nan                                 -0.017276\n",
       "Фонтан через насос_нет                             0.017276\n",
       "Нерентабельная_нет                                 0.017276\n",
       "Назначение по проекту_Нагнетательные              -0.009835\n",
       "Группа фонда_Действующий                           0.017276\n",
       "Тип ГЗУ_nan                                       -0.017276\n",
       "Тип ГЗУ_ГЗУ \"Спутник\" ()                          -0.015965\n",
       "КНС_КНС-2                                          0.001476\n",
       "КНС_КНС-3                                         -0.012560\n",
       "Причина простоя_ввод новой скважины               -0.017906\n",
       "Причина простоя_геологич.причина                   0.014861\n",
       "Причина простоя_грп                               -0.014256\n",
       "Причина простоя_заклинивание насос                -0.013135\n",
       "Причина простоя_заморожен коллектор               -0.017171\n",
       "Причина простоя_недогрузка                        -0.003101\n",
       "Причина простоя_неисправ.глуб.оборуд.             -0.005524\n",
       "Причина простоя_неисправность су, чп               0.005486\n",
       "Причина простоя_нет подачи                        -0.016618\n",
       "Причина простоя_освоение после бурения            -0.006786\n",
       "Причина простоя_отсутствие связи с тмс             0.018131\n",
       "Причина простоя_пропaркa фонтaн.aрмaтуры          -0.008350\n",
       "Причина простоя_прочие aвaрии                     -0.006333\n",
       "Причина простоя_ревиз.подзем.оборудования         -0.001206\n",
       "Причина простоя_ремонт запорной арматуры           0.002528\n",
       "Причина простоя_ско пласта                        -0.013000\n",
       "Причина простоя_технолог.причина                  -0.015360\n",
       "Причина простоя.1_отсутствие подaчи               -0.007047\n",
       "Причина простоя.1_пaдение изоляции уэцн до нуля   -0.018914\n",
       "pos_number_4                                      -0.001177\n",
       "Name: Нефть, т, dtype: float64"
      ]
     },
     "execution_count": 12,
     "metadata": {},
     "output_type": "execute_result"
    }
   ],
   "source": [
    "ineff_colls_corr"
   ]
  },
  {
   "cell_type": "code",
   "execution_count": 10,
   "metadata": {},
   "outputs": [
    {
     "data": {
      "text/plain": [
       "RandomForestRegressor(bootstrap=True, criterion='mse', max_depth=None,\n",
       "           max_features='auto', max_leaf_nodes=None,\n",
       "           min_impurity_decrease=0.0, min_impurity_split=None,\n",
       "           min_samples_leaf=1, min_samples_split=2,\n",
       "           min_weight_fraction_leaf=0.0, n_estimators=10, n_jobs=1,\n",
       "           oob_score=False, random_state=None, verbose=0, warm_start=False)"
      ]
     },
     "execution_count": 10,
     "metadata": {},
     "output_type": "execute_result"
    }
   ],
   "source": [
    "rgr = RandomForestRegressor()\n",
    "rgr.fit(X_train, y_train)\n"
   ]
  },
  {
   "cell_type": "code",
   "execution_count": 11,
   "metadata": {},
   "outputs": [],
   "source": [
    "ineff_cols_tree = X_train.columns[rgr.feature_importances_==0]"
   ]
  },
  {
   "cell_type": "code",
   "execution_count": 12,
   "metadata": {},
   "outputs": [
    {
     "data": {
      "text/plain": [
       "array(['Природный газ, м3', 'Коэффициент сепарации', 'Конденсат, т',\n",
       "       'Вязкость воды в пластовых условиях', 'Приемистость, м3/сут',\n",
       "       'Дебит конденсата', 'Число качаний ШГН', 'Закачка, м3',\n",
       "       'Диаметр плунжера', 'Газ из газовой шапки, м3',\n",
       "       'Радиус контура питания', 'КН закрепленный',\n",
       "       'Длина хода плунжера ШГН', 'Коэффициент подачи насоса',\n",
       "       'Природный газ, м3_indicator', 'Конденсат, т_indicator',\n",
       "       'Добыча растворенного газа, м3_indicator',\n",
       "       'Приемистость, м3/сут_indicator', 'Дебит конденсата_indicator',\n",
       "       'Закачка, м3_indicator', 'Газ из газовой шапки, м3_indicator',\n",
       "       'Простой, ч_indicator', 'Дебит попутного газа, м3/сут_indicator',\n",
       "       'Время накопления_indicator', 'Время работы, ч_indicator',\n",
       "       'Попутный газ, м3_indicator', 'Тип скважины_Вертикально',\n",
       "       'Неустановившийся режим_да', 'ГТМ_nan', 'Метод_ФОН',\n",
       "       'Метод_ФОН/ЭЦН', 'Характер работы_НАГ', 'Состояние_Б/Д ПР Л',\n",
       "       'Состояние_Б/Д ТГ', 'Состояние_ОЖ ОСВ ТГ', 'Состояние_ОСВ ПР ЛЕТ',\n",
       "       'Пласт МЭР_АС12.3-5(3)',\n",
       "       'Состояние на конец месяца_В бездействии текущего года',\n",
       "       'Состояние на конец месяца_Остановлена', 'Номер бригады_5.0',\n",
       "       'Номер бригады_6.0', 'Номер бригады_7.0',\n",
       "       'Назначение по проекту_Поисковая', 'Группа фонда_Бездействующий',\n",
       "       'ДНС_ДНС-6', 'ДНС_ДНС-7', 'КНС_КНС-7', 'Мероприятия_Ввод новой',\n",
       "       'ПЛАСТ_316c698ce9ffcbc11cba282c84bb2455',\n",
       "       'ПЛАСТ_8b48bb020606710d15d746eb9a2169a6',\n",
       "       'ПЛАСТ_b77e6ff069ae1e32a78d687b59ac7703',\n",
       "       'Причина простоя_дисбаланс напряжения',\n",
       "       'Причина простоя_замена су на чп', 'Причина простоя_недогрузка',\n",
       "       'Причина простоя_недоосвоена после прс',\n",
       "       'Причина простоя_неисправность су, чп',\n",
       "       'Причина простоя_нет приемистости',\n",
       "       'Причина простоя_ожидан.капитал.ремонта',\n",
       "       'Причина простоя_освоение после бурения',\n",
       "       'Причина простоя_отключение напряжения',\n",
       "       'Причина простоя_прочие aвaрии',\n",
       "       'Причина простоя_ревиз.подзем.оборудования',\n",
       "       'Причина простоя_ремонт запорной арматуры',\n",
       "       'Причина простоя_ремонт назем.электрообор.',\n",
       "       'Причина простоя_ремонт соседней скважина',\n",
       "       'Причина простоя_ско пласта', 'Причина простоя_технолог.причина',\n",
       "       'Причина простоя.1_гидрaвлический рaзрыв плaстa',\n",
       "       'Причина простоя.1_зaбуривaние второго стволa',\n",
       "       'Причина простоя.1_комплексная опз',\n",
       "       'Причина простоя.1_отсутствие подaчи',\n",
       "       'Причина простоя.1_пaдение изоляции уэцн до нуля',\n",
       "       'Причина простоя.1_соляно-кислотнaя обрaботка плaстa', 'Дата_1'],\n",
       "      dtype=object)"
      ]
     },
     "execution_count": 12,
     "metadata": {},
     "output_type": "execute_result"
    }
   ],
   "source": [
    "ineff_cols_tree.values"
   ]
  },
  {
   "cell_type": "code",
   "execution_count": null,
   "metadata": {},
   "outputs": [],
   "source": []
  }
 ],
 "metadata": {
  "kernelspec": {
   "display_name": "Python [conda env:env]",
   "language": "python",
   "name": "conda-env-env-py"
  },
  "language_info": {
   "codemirror_mode": {
    "name": "ipython",
    "version": 3
   },
   "file_extension": ".py",
   "mimetype": "text/x-python",
   "name": "python",
   "nbconvert_exporter": "python",
   "pygments_lexer": "ipython3",
   "version": "3.6.6"
  }
 },
 "nbformat": 4,
 "nbformat_minor": 2
}
