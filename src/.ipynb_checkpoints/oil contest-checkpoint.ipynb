{
 "cells": [
  {
   "cell_type": "code",
   "execution_count": 66,
   "metadata": {
    "nbpresent": {
     "id": "c5f8ba3d-0d2d-448b-8f4e-759725a5bd52"
    }
   },
   "outputs": [],
   "source": [
    "import pandas as pd \n",
    "import numpy as np\n",
    "pd.set_option('display.max_columns', 500)\n",
    "pd.set_option('display.max_rows', 500)\n",
    "import matplotlib.pyplot as plt\n",
    "from sklearn.model_selection import train_test_split\n",
    "from sklearn.linear_model import Ridge\n",
    "from sklearn.ensemble import RandomForestRegressor\n",
    "from sklearn.model_selection import cross_val_predict\n",
    "from sklearn.svm import LinearSVR\n",
    "import xgboost as xgb\n",
    "from sklearn.preprocessing import StandardScaler\n",
    "MAX_TOWERS = 6"
   ]
  },
  {
   "cell_type": "code",
   "execution_count": 67,
   "metadata": {
    "nbpresent": {
     "id": "ed112cb9-b62f-4ea0-892e-430c7112d015"
    }
   },
   "outputs": [],
   "source": [
    "def get_train():\n",
    "    train_main = pd.read_csv(\"../data/task1/train_1.7.csv\", encoding=\"cp1251\")\n",
    "    train_aux_coords = pd.read_csv(\"../data/task1_additional/coords_train_1.1.csv\", encoding=\"cp1251\")\n",
    "    train_aux_frac = pd.read_csv(\"../data/task1_additional/frac_train_1.csv\", encoding=\"cp1251\")\n",
    "    train_aux_gdis = pd.read_csv(\"../data/task1_additional/gdis_train1.2.csv\", encoding=\"cp1251\")\n",
    "    return train_main\n",
    "\n",
    "train = get_train()\n",
    "\n",
    "def get_test():\n",
    "    test_main = pd.read_csv(\"../data/task1/test_1.9.csv\", encoding=\"cp1251\")\n",
    "    test_aux_coords = pd.read_csv(\"../data/task1_additional/coords_train_1.1.csv\", encoding=\"cp1251\")\n",
    "    test_aux_frac = pd.read_csv(\"../data/task1_additional/frac_test_1.csv\", encoding=\"cp1251\")\n",
    "    test_aux_gdis = pd.read_csv(\"../data/task1_additional/gdis_test1.2.csv\", encoding=\"cp1251\")\n",
    "    return test_main\n",
    "\n",
    "test = get_test()\n",
    "\n",
    "\n",
    "\n"
   ]
  },
  {
   "cell_type": "code",
   "execution_count": 68,
   "metadata": {},
   "outputs": [],
   "source": [
    "#sort by converted date and group\n",
    "def convert_and_sort(df):\n",
    "    df[\"Дата\"] =  df[\"Дата\"].apply(pd.to_datetime)\n",
    "    df.sort_values(by=[\"Скважина\", \"Дата\"], inplace=True)\n",
    "    \n",
    "convert_and_sort(train)"
   ]
  },
  {
   "cell_type": "code",
   "execution_count": 69,
   "metadata": {
    "nbpresent": {
     "id": "ac785900-3323-46b5-b271-14d03a111f94"
    }
   },
   "outputs": [
    {
     "name": "stdout",
     "output_type": "stream",
     "text": [
      "{'Примечание', 'Агент закачки', 'Станок-качалка', 'Тип газосепаратора', 'Фирма ГРП'} dropped\n"
     ]
    }
   ],
   "source": [
    "#find columns with same value(useless) in train\n",
    "def get_non_useful(df):\n",
    "    non_useful_columns = []\n",
    "    for c in df.columns:\n",
    "        null_columns = df[df[c].isnull()]\n",
    "        if len(null_columns)== len(df):\n",
    "            non_useful_columns.append(c)\n",
    "    return non_useful_columns\n",
    "\n",
    "def drop_non_useful(train, test):\n",
    "    non_useful = set(get_non_useful(train)) |set(get_non_useful(test))\n",
    "    print(\"%s dropped\"% non_useful)\n",
    "    train.drop(list(non_useful), axis=1, inplace=True)\n",
    "    test.drop(list(non_useful), axis=1, inplace=True)\n",
    "    \n",
    "drop_non_useful(train, test)"
   ]
  },
  {
   "cell_type": "code",
   "execution_count": 70,
   "metadata": {
    "nbpresent": {
     "id": "4e81a246-fdee-4c9e-8a19-6042ccaf28d0"
    }
   },
   "outputs": [
    {
     "name": "stdout",
     "output_type": "stream",
     "text": [
      "Нефть, т dropped\n"
     ]
    }
   ],
   "source": [
    "def get_target(df, column=\"Нефть, т\"):\n",
    "    target = df[column]\n",
    "    df.drop([column], axis=1, inplace=True)\n",
    "    print(\"%s dropped\"% column)\n",
    "    return target\n",
    "\n",
    "#remove target from train\n",
    "y_train = get_target(train)"
   ]
  },
  {
   "cell_type": "code",
   "execution_count": 71,
   "metadata": {
    "nbpresent": {
     "id": "2ed455bb-c2b1-425f-b393-03d9aea0ccea"
    }
   },
   "outputs": [
    {
     "name": "stdout",
     "output_type": "stream",
     "text": [
      "['Нефть, м3', 'Дебит жидкости', 'ТП(ИДН) Дебит жидкости', 'Жидкость, м3', 'ГП - Общий прирост Qн', 'ТП(ГРП) Дебит жидкости скорр-ый', 'ТП(ГРП) Дебит жидкости', 'ТП(ИДН) Дебит жидкости скорр-ый'] dropped\n"
     ]
    }
   ],
   "source": [
    "#drop non present columns in test\n",
    "def drop_not_present(train, test):\n",
    "    absent_columns = list(set(train.columns) - set(test.columns))\n",
    "    print(\"%s dropped\"% absent_columns)\n",
    "    train.drop(absent_columns, axis=1, inplace=True)\n",
    "\n",
    "drop_not_present(train, test)"
   ]
  },
  {
   "cell_type": "code",
   "execution_count": 72,
   "metadata": {
    "nbpresent": {
     "id": "f84c3e23-f215-49f2-b485-8638acfaee3f"
    }
   },
   "outputs": [
    {
     "data": {
      "text/plain": [
       "True"
      ]
     },
     "execution_count": 72,
     "metadata": {},
     "output_type": "execute_result"
    }
   ],
   "source": [
    "len(train.columns)== len(test.columns)"
   ]
  },
  {
   "cell_type": "code",
   "execution_count": 73,
   "metadata": {
    "nbpresent": {
     "id": "787d3da3-d9dd-406c-be63-2e0970aefe0f"
    }
   },
   "outputs": [],
   "source": [
    "def show_uniq_test_train(train, test):\n",
    "    #check all values that have zero ans nan only\n",
    "    for c in train.columns:\n",
    "        un = train[c].unique()\n",
    "        if len(un)<100:\n",
    "            tun = test[c].unique()\n",
    "            print(\"%s ;train: %s; test:%s\"%(c, un, tun))"
   ]
  },
  {
   "cell_type": "code",
   "execution_count": 74,
   "metadata": {
    "nbpresent": {
     "id": "9b864954-91ac-40f5-b3c6-91c1c1518b4e"
    }
   },
   "outputs": [],
   "source": [
    "def split_continious_date_categorical_text(df):\n",
    "    group_id = [\"Скважина\"]\n",
    "    text = [\"Причина простоя\",\n",
    "            \"Куст\",\n",
    "            \"Состояние на конец месяца\",\n",
    "            \"Причина простоя.1\",\n",
    "            \"Мероприятия\"]\n",
    "    categorical = [\"Тип скважины\",\n",
    "                   \"Неустановившийся режим\",\n",
    "                   \"ГТМ\",\n",
    "                   \"Метод\",\n",
    "                   \"Характер работы\",\n",
    "                   \"Состояние\",\n",
    "                   \"Пласт МЭР\", \n",
    "                   \"Способ эксплуатации\", \n",
    "                   \"Тип насоса\", \n",
    "                   \"Состояние на конец месяца\", \n",
    "                   \"Номер бригады\", \n",
    "                   \"Фонтан через насос\", \n",
    "                   \"Нерентабельная\",\n",
    "                   \"Неустановившийся режим\",\n",
    "                   \"Назначение по проекту\",\n",
    "                   \"Группа фонда\",\n",
    "                   \"Тип дополнительного оборудования\",\n",
    "                   \"Марка ПЭД\",\n",
    "                   \"Тип ГЗУ\",\n",
    "                   \"ДНС\",\n",
    "                   \"КНС\",\n",
    "                   \"Нерентабельная\",\n",
    "                   #useless potentially\n",
    "                   \"Диаметр плунжера\",\n",
    "                   \"Природный газ, м3\",\n",
    "                   \"Конденсат, т\",\n",
    "                   \"Длина хода плунжера ШГН\",\n",
    "                   \"Коэффициент подачи насоса\",\n",
    "                   \"Дебит конденсата\",\n",
    "                   \"Вязкость воды в пластовых условиях\",\n",
    "                   \"Газ из газовой шапки, м3\",\n",
    "                   \"Число качаний ШГН\",\n",
    "                   \"Коэффициент сепарации\",\n",
    "                   \"SKIN\",\n",
    "                   \"КН закрепленный\",\n",
    "                   # radically different\n",
    "                   \"Время в работе\",\n",
    "                   \"Радиус контура питания\",\n",
    "                   \"Время в накоплении\",\n",
    "                   \"Время накопления\"\n",
    "                   ]\n",
    "    dates = [\"Дата\", \n",
    "             \"Дата ГРП\",\n",
    "             \"Время до псевдоуст-ся режима\", \n",
    "             \"Дата запуска после КРС\", \n",
    "             \"Дата пуска\", \n",
    "             \"Дата останова\",\n",
    "             \"Дата ввода в эксплуатацию\"]\n",
    "    continious = list(set(df.columns) - set(dates) - set(categorical) - set(text) - set(group_id))\n",
    "    return (df[group_id],df[continious], df[dates], df[categorical], df[text])\n",
    "\n",
    "train_group, train_cont, train_dat, train_cat, train_text = split_continious_date_categorical_text(train)\n",
    "test_group, test_cont, test_dat, test_cat, test_text = split_continious_date_categorical_text(test)"
   ]
  },
  {
   "cell_type": "code",
   "execution_count": 75,
   "metadata": {
    "nbpresent": {
     "id": "20ee0dde-1884-4f1c-a0f9-35d3f1dd66f5"
    }
   },
   "outputs": [
    {
     "name": "stderr",
     "output_type": "stream",
     "text": [
      "/anaconda2/envs/env/lib/python3.6/site-packages/pandas/core/indexing.py:543: SettingWithCopyWarning: \n",
      "A value is trying to be set on a copy of a slice from a DataFrame.\n",
      "Try using .loc[row_indexer,col_indexer] = value instead\n",
      "\n",
      "See the caveats in the documentation: http://pandas.pydata.org/pandas-docs/stable/indexing.html#indexing-view-versus-copy\n",
      "  self.obj[item] = s\n"
     ]
    }
   ],
   "source": [
    "def get_object_columns(df):\n",
    "    objects = []\n",
    "    for c in df.columns:\n",
    "        if df[c].dtype != pd.np.float:\n",
    "            objects.append(c)\n",
    "    return objects\n",
    "\n",
    "def get_float(v):\n",
    "    v = str(v)\n",
    "    if v != \"NaN\":\n",
    "        new = v.replace(\",\",\".\")\n",
    "        return float(new)\n",
    "    return v\n",
    "\n",
    "def convert_locale_to_float(df):\n",
    "    loc_float = get_object_columns(df)\n",
    "    for c in loc_float:\n",
    "        df.loc[:,c] = df[c].apply(get_float)\n",
    "        \n",
    "convert_locale_to_float(train_cont)\n",
    "convert_locale_to_float(test_cont)"
   ]
  },
  {
   "cell_type": "code",
   "execution_count": 76,
   "metadata": {
    "nbpresent": {
     "id": "301fd31f-62cb-4890-a3c7-0f8b16ff5a87"
    }
   },
   "outputs": [],
   "source": [
    "def fill_with_mean(train, test):\n",
    "    means=train.mean()\n",
    "    norm_train = train.fillna(means)\n",
    "    norm_test = test.fillna(means)\n",
    "    return norm_train, norm_test\n",
    "        \n",
    "train_cont, test_cont = fill_with_mean(train_cont, test_cont);"
   ]
  },
  {
   "cell_type": "code",
   "execution_count": 77,
   "metadata": {
    "nbpresent": {
     "id": "c906b5f1-de1b-411f-aca5-461c6c0437cf"
    }
   },
   "outputs": [
    {
     "data": {
      "text/plain": [
       "False"
      ]
     },
     "execution_count": 77,
     "metadata": {},
     "output_type": "execute_result"
    }
   ],
   "source": [
    "train_cont.isnull().values.any() or test_cont.isnull().values.any()"
   ]
  },
  {
   "cell_type": "code",
   "execution_count": 78,
   "metadata": {},
   "outputs": [
    {
     "data": {
      "text/plain": [
       "783"
      ]
     },
     "execution_count": 78,
     "metadata": {},
     "output_type": "execute_result"
    }
   ],
   "source": [
    "len(y_train[y_train.isnull()])"
   ]
  },
  {
   "cell_type": "code",
   "execution_count": 79,
   "metadata": {},
   "outputs": [
    {
     "name": "stdout",
     "output_type": "stream",
     "text": [
      "True\n",
      "True\n"
     ]
    }
   ],
   "source": [
    "#clear nans in target\n",
    "indexes_to_delete = y_train[y_train.isnull()].index\n",
    "y_train = y_train[~y_train.isnull()]\n",
    "train_cont = train_cont.drop(index=indexes_to_delete)\n",
    "y_train = y_train.apply(get_float)\n",
    "print(len(y_train) == len(train_cont))\n",
    "\n",
    "train_group = train_group.drop(index=indexes_to_delete)\n",
    "print(len(y_train) == len(train_group))"
   ]
  },
  {
   "cell_type": "code",
   "execution_count": 80,
   "metadata": {},
   "outputs": [],
   "source": [
    "# now we have clear non-normalized data, let's normalize first\n",
    "def normalize(train, test):\n",
    "    scaler = StandardScaler()\n",
    "    norm_train = pd.DataFrame(scaler.fit_transform(train), columns=train.columns, index = train.index)\n",
    "    norm_test = pd.DataFrame(scaler.transform(test), columns=test.columns, index = test.index)\n",
    "    return norm_train, norm_test\n",
    "\n",
    "train_cont, test_cont = normalize(train_cont, test_cont)"
   ]
  },
  {
   "cell_type": "code",
   "execution_count": 81,
   "metadata": {},
   "outputs": [],
   "source": [
    "def get_ensemble():\n",
    "    ridge = Ridge()\n",
    "    rtree = RandomForestRegressor(n_jobs=-1, n_estimators=50)\n",
    "    svr = LinearSVR()\n",
    "    return [ridge, rtree, svr]"
   ]
  },
  {
   "cell_type": "code",
   "execution_count": 82,
   "metadata": {},
   "outputs": [],
   "source": [
    "def get_meta_train_preds(X, y):\n",
    "    predicts = []\n",
    "    for cl in get_ensemble():\n",
    "        predicts.append(cross_val_predict(cl, X,y, n_jobs=-1))\n",
    "    return pd.DataFrame(np.vstack(predicts).transpose(), index = y.index)"
   ]
  },
  {
   "cell_type": "code",
   "execution_count": 83,
   "metadata": {},
   "outputs": [],
   "source": [
    "def get_meta_test_predict(X_train, y_train, X_test):\n",
    "    test_predicts = []\n",
    "    for cl in get_ensemble():\n",
    "        cl.fit(X_train, y_train)\n",
    "        pr = cl.predict(X_test)\n",
    "        test_predicts.append(pr)\n",
    "    return  pd.DataFrame(np.vstack(test_predicts).transpose(), index =X_test.index)"
   ]
  },
  {
   "cell_type": "code",
   "execution_count": 84,
   "metadata": {},
   "outputs": [],
   "source": [
    "def get_stacked_ensemble_predict(X_meta, y, X_test):\n",
    "    regressor = xgb.XGBRegressor()\n",
    "    regressor.fit(X_meta, y)\n",
    "    return regressor.predict(X_test)"
   ]
  },
  {
   "cell_type": "code",
   "execution_count": 85,
   "metadata": {},
   "outputs": [],
   "source": [
    "def get_meta_train_preds(X, y):\n",
    "    predicts = []\n",
    "    for cl in get_ensemble():\n",
    "        predicts.append(cross_val_predict(cl, X,y, n_jobs=-1))\n",
    "    return pd.DataFrame(np.vstack(predicts).transpose(), index = y.index)"
   ]
  },
  {
   "cell_type": "code",
   "execution_count": 86,
   "metadata": {},
   "outputs": [],
   "source": [
    "def get_first_tower_prediction(train, y, test):\n",
    "    X_meta_train = get_meta_train_preds(train, y)\n",
    "    X_meta_test = get_meta_test_predict(train, y, test)\n",
    "    X_meta_test = get_stacked_ensemble_predict(X_meta_train, y, X_meta_test)\n",
    "    return pd.DataFrame(X_meta_test, index = test.index)"
   ]
  },
  {
   "cell_type": "code",
   "execution_count": 62,
   "metadata": {},
   "outputs": [
    {
     "ename": "NameError",
     "evalue": "name 'X_meta_train' is not defined",
     "output_type": "error",
     "traceback": [
      "\u001b[0;31m---------------------------------------------------------------------------\u001b[0m",
      "\u001b[0;31mNameError\u001b[0m                                 Traceback (most recent call last)",
      "\u001b[0;32m<ipython-input-62-7e92fe78ebc3>\u001b[0m in \u001b[0;36m<module>\u001b[0;34m()\u001b[0m\n\u001b[1;32m     27\u001b[0m     \u001b[0mmetas_df\u001b[0m \u001b[0;34m=\u001b[0m \u001b[0mpd\u001b[0m\u001b[0;34m.\u001b[0m\u001b[0mDataFrame\u001b[0m\u001b[0;34m.\u001b[0m\u001b[0mfrom_records\u001b[0m\u001b[0;34m(\u001b[0m\u001b[0mmetas\u001b[0m\u001b[0;34m)\u001b[0m\u001b[0;34m\u001b[0m\u001b[0m\n\u001b[1;32m     28\u001b[0m     \u001b[0;32mreturn\u001b[0m \u001b[0mmetas\u001b[0m\u001b[0;34m\u001b[0m\u001b[0m\n\u001b[0;32m---> 29\u001b[0;31m \u001b[0mcreate_timeaware_dataset\u001b[0m\u001b[0;34m(\u001b[0m\u001b[0;36m2\u001b[0m\u001b[0;34m,\u001b[0m \u001b[0mtrain_cont\u001b[0m\u001b[0;34m,\u001b[0m \u001b[0mtrain_group\u001b[0m\u001b[0;34m,\u001b[0m \u001b[0mX_meta_train\u001b[0m\u001b[0;34m)\u001b[0m\u001b[0;34m\u001b[0m\u001b[0m\n\u001b[0m",
      "\u001b[0;31mNameError\u001b[0m: name 'X_meta_train' is not defined"
     ]
    }
   ],
   "source": [
    "def get_n_item_index(n, df, group):\n",
    "    new_df = pd.concat([df, group], axis = 1)\n",
    "    index = []\n",
    "    group = new_df.groupby([\"Скважина\"])\n",
    "    for name, group in group:\n",
    "        if len(group)<n:\n",
    "            continue\n",
    "        for i in group.index[::n]:\n",
    "            gr =[]\n",
    "            num_items = n\n",
    "            for t in range(n):\n",
    "                gr.append(i+t)\n",
    "            index.append(gr)\n",
    "    return index\n",
    "\n",
    "def create_timeaware_dataset(n, df, group,meta):\n",
    "    indexes = get_n_item_index(n, df, group)\n",
    "    first_value_idx = []\n",
    "    metas = []\n",
    "    if n > 1:\n",
    "        for a in indexes:\n",
    "            column_meta = []\n",
    "            first_value_idx.append(a[0])\n",
    "            for i in range(1, n):\n",
    "                column_meta.append(meta.at[a[i],i-1])\n",
    "            metas.append(column_meta)\n",
    "    metas_df = pd.DataFrame.from_records(metas)\n",
    "    return metas\n",
    "create_timeaware_dataset(2, train_cont, train_group, X_meta_train)"
   ]
  },
  {
   "cell_type": "code",
   "execution_count": null,
   "metadata": {},
   "outputs": [],
   "source": [
    "def get_n_tower_predictions(n, train, y, test, meta):\n",
    "    for i in range(n)"
   ]
  },
  {
   "cell_type": "code",
   "execution_count": 88,
   "metadata": {},
   "outputs": [],
   "source": [
    "final_pred = get_first_tower_prediction(train_cont, y_train, test_cont)"
   ]
  },
  {
   "cell_type": "code",
   "execution_count": 90,
   "metadata": {},
   "outputs": [],
   "source": [
    "all_towers = final_pred.append([final_pred]*5,ignore_index=True)"
   ]
  },
  {
   "cell_type": "code",
   "execution_count": 16,
   "metadata": {},
   "outputs": [],
   "source": []
  },
  {
   "cell_type": "code",
   "execution_count": 17,
   "metadata": {},
   "outputs": [],
   "source": []
  },
  {
   "cell_type": "code",
   "execution_count": 18,
   "metadata": {},
   "outputs": [],
   "source": []
  },
  {
   "cell_type": "code",
   "execution_count": 19,
   "metadata": {},
   "outputs": [
    {
     "data": {
      "text/plain": [
       "array([   4.06756  ,  320.1259   ,  406.68927  ,  106.23559  ,\n",
       "          4.06756  ,  155.18633  ,  389.99057  ,  526.5164   ,\n",
       "        676.88196  ,    4.06756  ,    4.06756  ,    4.06756  ,\n",
       "          4.06756  ,  274.34998  ,  236.81964  ,    4.06756  ,\n",
       "          4.06756  , 1429.0045   ,  286.8976   ,    4.06756  ,\n",
       "        254.24849  ,  301.49786  ,  316.76917  ,    4.06756  ,\n",
       "        126.29368  ,  567.0333   , 1762.6816   ,  384.85544  ,\n",
       "        299.04144  ,    4.06756  ,    4.06756  ,    4.06756  ,\n",
       "          4.06756  ,  641.9355   ,  406.68927  ,    4.06756  ,\n",
       "          4.06756  ,    4.06756  ,    4.06756  ,   35.700012 ,\n",
       "        392.7796   ,    5.2989907,    8.122421 ,  461.4249   ,\n",
       "          4.06756  ,  501.35574  ,    4.06756  ,  253.35794  ,\n",
       "        329.56558  ,    4.06756  ,   41.853123 ,    4.06756  ,\n",
       "          4.06756  ,    4.06756  ,   73.66632  ,  571.3332   ,\n",
       "          4.06756  ,    4.06756  ,  718.45337  ,    4.06756  ,\n",
       "          4.06756  ,  306.55948  ,    4.06756  ,  759.48737  ,\n",
       "         13.040102 ,    4.06756  ,  384.85544  ,    4.06756  ,\n",
       "          4.06756  ,    4.06756  ,   13.593702 ,  891.8127   ,\n",
       "        115.615875 ,   13.306665 , 1052.0056   , 1501.0895   ,\n",
       "        136.8674   ,  384.85544  ,  684.27875  ,    4.06756  ,\n",
       "          4.06756  ,  269.9881   , 1346.8666   , 1027.2175   ,\n",
       "          4.06756  ,  475.28986  ,  301.49786  ,  522.75665  ,\n",
       "          4.06756  , 1666.0846   ,    4.06756  ,    4.06756  ,\n",
       "          4.06756  ,  667.6165   ,    4.06756  ,  100.38391  ,\n",
       "        407.82446  ,  295.42     , 1276.3812   ,  506.66006  ,\n",
       "          4.06756  ,  740.8021   ,    4.06756  ,  752.7798   ,\n",
       "          4.06756  ,    4.06756  ,  543.9034   ,  313.42465  ,\n",
       "          4.06756  ,    4.06756  ,    4.06756  ,    4.06756  ,\n",
       "        385.04147  ,  328.91302  ,  431.8235   ,    4.06756  ,\n",
       "        157.86818  ,    4.06756  ,    4.06756  ,    4.06756  ,\n",
       "        320.1259   ,  389.99057  ,  265.16888  ,  752.7798   ,\n",
       "         26.902445 ,  111.62119  ,    4.06756  ,  406.68927  ,\n",
       "        532.1914   ,    4.06756  ,    4.06756  ,  100.38391  ,\n",
       "        384.85544  ,  481.83173  ,   41.853123 ,    4.06756  ,\n",
       "         13.593702 ,  290.8859   ,   86.87161  ,    4.06756  ,\n",
       "          4.06756  ,    4.06756  ,  752.7798   ,    4.06756  ,\n",
       "          4.06756  ,    4.06756  ,    4.06756  ,    4.06756  ,\n",
       "          4.06756  ,    4.06756  ,    4.06756  ,    9.88895  ,\n",
       "        368.20212  ,    4.06756  ,    4.06756  ,    4.06756  ,\n",
       "          4.06756  , 1052.0056   ,    4.06756  ,    4.06756  ,\n",
       "        263.9956   ,    4.06756  , 1501.0895   ,    4.06756  ,\n",
       "          4.06756  ,  467.95673  ,    4.06756  ,    4.06756  ,\n",
       "          4.06756  ,    4.06756  ,   49.896362 ,    4.06756  ,\n",
       "        106.85976  , 1477.2952   ,    4.06756  ,    4.06756  ,\n",
       "          4.06756  ,    4.06756  ,   41.853123 ,    4.06756  ,\n",
       "        308.69626  ,    4.06756  ,  290.13504  ,  622.90656  ,\n",
       "          4.06756  , 1345.8057   ,  322.48877  ,    4.06756  ,\n",
       "        406.68927  ,    4.06756  ,  526.5164   ,  342.27203  ,\n",
       "          4.06756  ,    4.06756  ,  290.44696  ,  368.20212  ,\n",
       "        752.7798   ,    4.06756  ,  612.75226  ,  307.56387  ,\n",
       "          4.06756  ,    4.06756  ,    4.06756  ,    4.06756  ,\n",
       "        115.615875 ,  284.80957  ,  296.0653   ,    4.06756  ,\n",
       "         80.718506 ,  622.90656  ,    4.06756  ,    4.06756  ,\n",
       "        384.85544  ,   86.87161  ,   86.87161  ,    4.06756  ,\n",
       "        578.4478   , 1027.2175   ,  286.8976   ,  740.8021   ,\n",
       "       1345.8057   ,  298.15335  ,  365.69882  ,  106.85976  ,\n",
       "        740.5395   ,   42.477295 ,    4.06756  ,   54.5591   ,\n",
       "         20.020292 ,  384.85544  , 1040.9133   ,   43.743256 ,\n",
       "        412.36423  ,  328.91302  ,    4.06756  ,    4.06756  ,\n",
       "          4.06756  , 1060.2372   ,  384.97058  ,    4.06756  ,\n",
       "          4.06756  ,   86.87161  ,  599.4117   ,  406.68927  ,\n",
       "          4.06756  ,  168.00893  ,  106.23559  ,  515.10205  ,\n",
       "          4.06756  ,  328.91302  ,   94.230804 ,    4.06756  ,\n",
       "         94.230804 ,  316.76917  ,    4.06756  ,    4.06756  ,\n",
       "        318.77686  ,  595.36536  ,   35.700012 ,   86.87161  ,\n",
       "          4.06756  ,   23.426851 ,  295.42     ,    4.06756  ,\n",
       "          4.06756  ,    4.06756  ], dtype=float32)"
      ]
     },
     "execution_count": 19,
     "metadata": {},
     "output_type": "execute_result"
    }
   ],
   "source": [
    "final_predict"
   ]
  },
  {
   "cell_type": "code",
   "execution_count": 20,
   "metadata": {},
   "outputs": [],
   "source": []
  },
  {
   "cell_type": "code",
   "execution_count": null,
   "metadata": {
    "nbpresent": {
     "id": "9f4a9786-29d4-4ccc-9251-a394f49dc757"
    }
   },
   "outputs": [],
   "source": []
  },
  {
   "cell_type": "code",
   "execution_count": null,
   "metadata": {
    "nbpresent": {
     "id": "8267fed8-e7d4-45f0-b874-323bf97df8ac"
    }
   },
   "outputs": [],
   "source": []
  },
  {
   "cell_type": "code",
   "execution_count": null,
   "metadata": {},
   "outputs": [],
   "source": [
    "X_meta_train"
   ]
  },
  {
   "cell_type": "code",
   "execution_count": 162,
   "metadata": {
    "nbpresent": {
     "id": "360959d3-65aa-419a-9082-4417244350f3"
    }
   },
   "outputs": [
    {
     "data": {
      "text/html": [
       "<div>\n",
       "<style scoped>\n",
       "    .dataframe tbody tr th:only-of-type {\n",
       "        vertical-align: middle;\n",
       "    }\n",
       "\n",
       "    .dataframe tbody tr th {\n",
       "        vertical-align: top;\n",
       "    }\n",
       "\n",
       "    .dataframe thead th {\n",
       "        text-align: right;\n",
       "    }\n",
       "</style>\n",
       "<table border=\"1\" class=\"dataframe\">\n",
       "  <thead>\n",
       "    <tr style=\"text-align: right;\">\n",
       "      <th></th>\n",
       "      <th>Скважина</th>\n",
       "      <th>Нефть, т</th>\n",
       "    </tr>\n",
       "  </thead>\n",
       "  <tbody>\n",
       "    <tr>\n",
       "      <th>0</th>\n",
       "      <td>53514b4c4150ad897d82dd7d42cfc1a5</td>\n",
       "      <td>613,71</td>\n",
       "    </tr>\n",
       "    <tr>\n",
       "      <th>1</th>\n",
       "      <td>53514b4c4150ad897d82dd7d42cfc1a5</td>\n",
       "      <td>547,31</td>\n",
       "    </tr>\n",
       "    <tr>\n",
       "      <th>2</th>\n",
       "      <td>53514b4c4150ad897d82dd7d42cfc1a5</td>\n",
       "      <td>NaN</td>\n",
       "    </tr>\n",
       "    <tr>\n",
       "      <th>3</th>\n",
       "      <td>53514b4c4150ad897d82dd7d42cfc1a5</td>\n",
       "      <td>554,92</td>\n",
       "    </tr>\n",
       "    <tr>\n",
       "      <th>4</th>\n",
       "      <td>53514b4c4150ad897d82dd7d42cfc1a5</td>\n",
       "      <td>510,64</td>\n",
       "    </tr>\n",
       "  </tbody>\n",
       "</table>\n",
       "</div>"
      ],
      "text/plain": [
       "                           Скважина Нефть, т\n",
       "0  53514b4c4150ad897d82dd7d42cfc1a5   613,71\n",
       "1  53514b4c4150ad897d82dd7d42cfc1a5   547,31\n",
       "2  53514b4c4150ad897d82dd7d42cfc1a5      NaN\n",
       "3  53514b4c4150ad897d82dd7d42cfc1a5   554,92\n",
       "4  53514b4c4150ad897d82dd7d42cfc1a5   510,64"
      ]
     },
     "execution_count": 162,
     "metadata": {},
     "output_type": "execute_result"
    }
   ],
   "source": [
    "idx_oil = pd.concat([train_group,y_train], axis=1)\n",
    "idx_oil.head()"
   ]
  },
  {
   "cell_type": "code",
   "execution_count": 175,
   "metadata": {
    "nbpresent": {
     "id": "4df2f420-c3fd-42e1-a812-64601ce3e8c4"
    }
   },
   "outputs": [
    {
     "data": {
      "text/plain": [
       "<matplotlib.axes._subplots.AxesSubplot at 0x1a268ca630>"
      ]
     },
     "execution_count": 175,
     "metadata": {},
     "output_type": "execute_result"
    },
    {
     "data": {
      "image/png": "[encoded data removed]",
      "text/plain": [
       "<Figure size 432x288 with 1 Axes>"
      ]
     },
     "metadata": {},
     "output_type": "display_data"
    }
   ],
   "source": [
    "idx_oil.groupby([\"Скважина\"])[\"Нефть, т\"].transform(lambda a: np.sum(pd.isnull(a))).hist(bins=50)"
   ]
  },
  {
   "cell_type": "code",
   "execution_count": 188,
   "metadata": {
    "nbpresent": {
     "id": "bc8e2418-a6e3-4389-b99c-308c5df75b03"
    }
   },
   "outputs": [
    {
     "data": {
      "text/plain": [
       "<matplotlib.axes._subplots.AxesSubplot at 0x1a22b53898>"
      ]
     },
     "execution_count": 188,
     "metadata": {},
     "output_type": "execute_result"
    },
    {
     "data": {
      "image/png": "[encoded data removed]",
      "text/plain": [
       "<Figure size 720x720 with 1 Axes>"
      ]
     },
     "metadata": {},
     "output_type": "display_data"
    }
   ],
   "source": [
    "idx_oil.groupby([\"Скважина\"])[\"Нефть, т\"].transform(lambda a: len(a)).hist(bins=50, figsize=(10,10))"
   ]
  },
  {
   "cell_type": "code",
   "execution_count": 190,
   "metadata": {
    "nbpresent": {
     "id": "db9dd16e-d768-4906-bebb-4a77e4a57933"
    }
   },
   "outputs": [],
   "source": [
    "#train first step predictors_here\n",
    "y_train_clear = y_train[y_train.notnull()]"
   ]
  },
  {
   "cell_type": "code",
   "execution_count": 191,
   "metadata": {
    "nbpresent": {
     "id": "d0ed0acd-85d0-4253-bc63-d64be6f4ce27"
    }
   },
   "outputs": [
    {
     "data": {
      "text/html": [
       "<div>\n",
       "<style scoped>\n",
       "    .dataframe tbody tr th:only-of-type {\n",
       "        vertical-align: middle;\n",
       "    }\n",
       "\n",
       "    .dataframe tbody tr th {\n",
       "        vertical-align: top;\n",
       "    }\n",
       "\n",
       "    .dataframe thead th {\n",
       "        text-align: right;\n",
       "    }\n",
       "</style>\n",
       "<table border=\"1\" class=\"dataframe\">\n",
       "  <thead>\n",
       "    <tr style=\"text-align: right;\">\n",
       "      <th></th>\n",
       "      <th>Характеристический дебит жидкости</th>\n",
       "      <th>Диаметр штуцера</th>\n",
       "      <th>Удельный коэффициент</th>\n",
       "      <th>Глубина текущего забоя</th>\n",
       "      <th>ТП - Забойное давление</th>\n",
       "      <th>Глубина спуска.1</th>\n",
       "      <th>Производительность ЭЦН</th>\n",
       "      <th>Плотность нефти</th>\n",
       "      <th>Мощность ПЭД</th>\n",
       "      <th>Вязкость жидкости в пласт. условиях</th>\n",
       "      <th>Температура пласта</th>\n",
       "      <th>ГП(ИДН) Дебит жидкости</th>\n",
       "      <th>Затрубное давление</th>\n",
       "      <th>Плотность раствора глушения</th>\n",
       "      <th>Обводненность (вес), %</th>\n",
       "      <th>I X/X</th>\n",
       "      <th>Высота перфорации</th>\n",
       "      <th>ГП(ИДН) Дебит жидкости скорр-ый</th>\n",
       "      <th>JD факт</th>\n",
       "      <th>Глубина верхних дыр перфорации</th>\n",
       "      <th>Попутный газ, м3</th>\n",
       "      <th>Диаметр экспл.колонны</th>\n",
       "      <th>Вязкость нефти в пластовых условиях</th>\n",
       "      <th>Коэффициент продуктивности</th>\n",
       "      <th>объемный коэффициент</th>\n",
       "      <th>Дебит попутного газа, м3/сут</th>\n",
       "      <th>ГП(ИДН) Прирост дефита нефти</th>\n",
       "      <th>Частота</th>\n",
       "      <th>ТП - SKIN</th>\n",
       "      <th>Ток рабочий</th>\n",
       "      <th>Давление наcыщения</th>\n",
       "      <th>Давление в линии</th>\n",
       "      <th>Ток номинальный</th>\n",
       "      <th>Динамическая высота</th>\n",
       "      <th>Буферное давление</th>\n",
       "      <th>Замерное забойное давление</th>\n",
       "      <th>Пластовое давление начальное</th>\n",
       "      <th>Приемистость, м3/сут</th>\n",
       "      <th>Нефтенасыщенная толщина</th>\n",
       "      <th>Глубина спуска</th>\n",
       "      <th>КВЧ</th>\n",
       "      <th>ТП - JD опт.</th>\n",
       "      <th>ГП - Забойное давление</th>\n",
       "      <th>Простой, ч</th>\n",
       "      <th>Обводненность</th>\n",
       "      <th>Время работы, ч</th>\n",
       "      <th>Добыча растворенного газа, м3</th>\n",
       "      <th>Давление на приеме</th>\n",
       "      <th>Диаметр дополнительного оборудования</th>\n",
       "      <th>Удлинение</th>\n",
       "      <th>ГП(ГРП) Дебит жидкости скорр-ый</th>\n",
       "      <th>Диаметр НКТ</th>\n",
       "      <th>Газовый фактор</th>\n",
       "      <th>Пластовое давление</th>\n",
       "      <th>Напор</th>\n",
       "      <th>Забойное давление</th>\n",
       "      <th>Плотность воды</th>\n",
       "      <th>ГП(ГРП) Дебит жидкости</th>\n",
       "      <th>Глубина спуска доп. оборудования</th>\n",
       "      <th>Закачка, м3</th>\n",
       "      <th>К пр от стимуляции</th>\n",
       "    </tr>\n",
       "  </thead>\n",
       "  <tbody>\n",
       "    <tr>\n",
       "      <th>0</th>\n",
       "      <td>429.716226</td>\n",
       "      <td>0.0</td>\n",
       "      <td>6.155860</td>\n",
       "      <td>2458.0</td>\n",
       "      <td>38.388042</td>\n",
       "      <td>0.0</td>\n",
       "      <td>60.0</td>\n",
       "      <td>0.87</td>\n",
       "      <td>100.0</td>\n",
       "      <td>1.669065</td>\n",
       "      <td>87.0</td>\n",
       "      <td>33.796767</td>\n",
       "      <td>25.9</td>\n",
       "      <td>0.656205</td>\n",
       "      <td>35,2</td>\n",
       "      <td>14.0</td>\n",
       "      <td>13.0</td>\n",
       "      <td>33.796767</td>\n",
       "      <td>0.130662</td>\n",
       "      <td>2387.0</td>\n",
       "      <td>24577.0</td>\n",
       "      <td>146.8</td>\n",
       "      <td>1.67</td>\n",
       "      <td>0.328893</td>\n",
       "      <td>1.12</td>\n",
       "      <td>792,8</td>\n",
       "      <td>0.499095</td>\n",
       "      <td>50.0</td>\n",
       "      <td>-5.518691</td>\n",
       "      <td>211.0</td>\n",
       "      <td>80.9</td>\n",
       "      <td>24.0</td>\n",
       "      <td>38.5</td>\n",
       "      <td>2271.0</td>\n",
       "      <td>25.0</td>\n",
       "      <td>38.0</td>\n",
       "      <td>231.0</td>\n",
       "      <td>0</td>\n",
       "      <td>6.0</td>\n",
       "      <td>2311.0</td>\n",
       "      <td>82.0</td>\n",
       "      <td>0.642940</td>\n",
       "      <td>34.0</td>\n",
       "      <td>0.0</td>\n",
       "      <td>28.0</td>\n",
       "      <td>744.0</td>\n",
       "      <td>24576,93</td>\n",
       "      <td>32.0</td>\n",
       "      <td>0.0</td>\n",
       "      <td>34.84</td>\n",
       "      <td>153.714039</td>\n",
       "      <td>67.4</td>\n",
       "      <td>36.0</td>\n",
       "      <td>147.0</td>\n",
       "      <td>2460.0</td>\n",
       "      <td>38.388042</td>\n",
       "      <td>1.03</td>\n",
       "      <td>153.714039</td>\n",
       "      <td>0.0</td>\n",
       "      <td>0.0</td>\n",
       "      <td>1.495868</td>\n",
       "    </tr>\n",
       "    <tr>\n",
       "      <th>1</th>\n",
       "      <td>491.506909</td>\n",
       "      <td>0.0</td>\n",
       "      <td>7.041037</td>\n",
       "      <td>2416.0</td>\n",
       "      <td>38.000000</td>\n",
       "      <td>2311.0</td>\n",
       "      <td>60.0</td>\n",
       "      <td>0.87</td>\n",
       "      <td>100.0</td>\n",
       "      <td>1.668832</td>\n",
       "      <td>87.0</td>\n",
       "      <td>33.677317</td>\n",
       "      <td>21.0</td>\n",
       "      <td>0.584782</td>\n",
       "      <td>42,1</td>\n",
       "      <td>14.0</td>\n",
       "      <td>13.0</td>\n",
       "      <td>33.677317</td>\n",
       "      <td>0.129351</td>\n",
       "      <td>2387.0</td>\n",
       "      <td>22893.0</td>\n",
       "      <td>146.8</td>\n",
       "      <td>1.67</td>\n",
       "      <td>0.376239</td>\n",
       "      <td>1.12</td>\n",
       "      <td>741,49</td>\n",
       "      <td>0.948523</td>\n",
       "      <td>50.0</td>\n",
       "      <td>-5.456899</td>\n",
       "      <td>211.0</td>\n",
       "      <td>80.9</td>\n",
       "      <td>19.6</td>\n",
       "      <td>38.5</td>\n",
       "      <td>2267.0</td>\n",
       "      <td>20.5</td>\n",
       "      <td>38.0</td>\n",
       "      <td>231.0</td>\n",
       "      <td>0</td>\n",
       "      <td>6.0</td>\n",
       "      <td>2311.0</td>\n",
       "      <td>28.0</td>\n",
       "      <td>0.618373</td>\n",
       "      <td>29.6</td>\n",
       "      <td>3.0</td>\n",
       "      <td>35.0</td>\n",
       "      <td>741.0</td>\n",
       "      <td>22893,44</td>\n",
       "      <td>0.0</td>\n",
       "      <td>0.0</td>\n",
       "      <td>34.84</td>\n",
       "      <td>147.318018</td>\n",
       "      <td>67.4</td>\n",
       "      <td>36.0</td>\n",
       "      <td>131.0</td>\n",
       "      <td>2460.0</td>\n",
       "      <td>38.000000</td>\n",
       "      <td>1.03</td>\n",
       "      <td>147.318018</td>\n",
       "      <td>0.0</td>\n",
       "      <td>0.0</td>\n",
       "      <td>1.645819</td>\n",
       "    </tr>\n",
       "    <tr>\n",
       "      <th>2</th>\n",
       "      <td>544.934423</td>\n",
       "      <td>0.0</td>\n",
       "      <td>7.806408</td>\n",
       "      <td>2416.0</td>\n",
       "      <td>28.588167</td>\n",
       "      <td>2311.0</td>\n",
       "      <td>60.0</td>\n",
       "      <td>0.87</td>\n",
       "      <td>100.0</td>\n",
       "      <td>1.668865</td>\n",
       "      <td>87.0</td>\n",
       "      <td>40.109561</td>\n",
       "      <td>20.0</td>\n",
       "      <td>0.611566</td>\n",
       "      <td>NaN</td>\n",
       "      <td>14.0</td>\n",
       "      <td>13.0</td>\n",
       "      <td>40.109561</td>\n",
       "      <td>0.125107</td>\n",
       "      <td>2387.0</td>\n",
       "      <td>NaN</td>\n",
       "      <td>146.8</td>\n",
       "      <td>1.67</td>\n",
       "      <td>0.417128</td>\n",
       "      <td>1.12</td>\n",
       "      <td>NaN</td>\n",
       "      <td>0.062910</td>\n",
       "      <td>52.0</td>\n",
       "      <td>-5.408689</td>\n",
       "      <td>21.0</td>\n",
       "      <td>80.9</td>\n",
       "      <td>18.0</td>\n",
       "      <td>38.5</td>\n",
       "      <td>2281.0</td>\n",
       "      <td>19.0</td>\n",
       "      <td>0.0</td>\n",
       "      <td>231.0</td>\n",
       "      <td>NaN</td>\n",
       "      <td>6.0</td>\n",
       "      <td>2311.0</td>\n",
       "      <td>270.0</td>\n",
       "      <td>0.600472</td>\n",
       "      <td>28.0</td>\n",
       "      <td>NaN</td>\n",
       "      <td>34.0</td>\n",
       "      <td>NaN</td>\n",
       "      <td>NaN</td>\n",
       "      <td>0.0</td>\n",
       "      <td>0.0</td>\n",
       "      <td>34.84</td>\n",
       "      <td>170.376031</td>\n",
       "      <td>67.4</td>\n",
       "      <td>36.0</td>\n",
       "      <td>137.0</td>\n",
       "      <td>2460.0</td>\n",
       "      <td>28.588167</td>\n",
       "      <td>1.03</td>\n",
       "      <td>170.376031</td>\n",
       "      <td>0.0</td>\n",
       "      <td>NaN</td>\n",
       "      <td>1.771863</td>\n",
       "    </tr>\n",
       "    <tr>\n",
       "      <th>3</th>\n",
       "      <td>435.315305</td>\n",
       "      <td>0.0</td>\n",
       "      <td>6.236069</td>\n",
       "      <td>2458.0</td>\n",
       "      <td>37.413236</td>\n",
       "      <td>0.0</td>\n",
       "      <td>60.0</td>\n",
       "      <td>0.87</td>\n",
       "      <td>100.0</td>\n",
       "      <td>1.668999</td>\n",
       "      <td>87.0</td>\n",
       "      <td>31.622997</td>\n",
       "      <td>25.4</td>\n",
       "      <td>0.620494</td>\n",
       "      <td>35,3</td>\n",
       "      <td>14.0</td>\n",
       "      <td>13.0</td>\n",
       "      <td>31.622997</td>\n",
       "      <td>0.129538</td>\n",
       "      <td>2387.0</td>\n",
       "      <td>23799.0</td>\n",
       "      <td>146.8</td>\n",
       "      <td>1.67</td>\n",
       "      <td>0.333192</td>\n",
       "      <td>1.12</td>\n",
       "      <td>820,65</td>\n",
       "      <td>0.379405</td>\n",
       "      <td>50.0</td>\n",
       "      <td>-5.512790</td>\n",
       "      <td>211.0</td>\n",
       "      <td>80.9</td>\n",
       "      <td>24.0</td>\n",
       "      <td>38.5</td>\n",
       "      <td>2248.0</td>\n",
       "      <td>25.0</td>\n",
       "      <td>38.0</td>\n",
       "      <td>231.0</td>\n",
       "      <td>0</td>\n",
       "      <td>6.0</td>\n",
       "      <td>2311.0</td>\n",
       "      <td>82.0</td>\n",
       "      <td>0.640510</td>\n",
       "      <td>34.0</td>\n",
       "      <td>0.0</td>\n",
       "      <td>30.0</td>\n",
       "      <td>696.0</td>\n",
       "      <td>23798,79</td>\n",
       "      <td>31.0</td>\n",
       "      <td>0.0</td>\n",
       "      <td>34.84</td>\n",
       "      <td>143.283728</td>\n",
       "      <td>67.4</td>\n",
       "      <td>36.0</td>\n",
       "      <td>139.0</td>\n",
       "      <td>2460.0</td>\n",
       "      <td>37.413236</td>\n",
       "      <td>1.03</td>\n",
       "      <td>143.283728</td>\n",
       "      <td>0.0</td>\n",
       "      <td>0.0</td>\n",
       "      <td>1.509692</td>\n",
       "    </tr>\n",
       "    <tr>\n",
       "      <th>4</th>\n",
       "      <td>490.294664</td>\n",
       "      <td>0.0</td>\n",
       "      <td>7.023671</td>\n",
       "      <td>2416.0</td>\n",
       "      <td>32.802041</td>\n",
       "      <td>2311.0</td>\n",
       "      <td>60.0</td>\n",
       "      <td>0.87</td>\n",
       "      <td>100.0</td>\n",
       "      <td>1.668832</td>\n",
       "      <td>87.0</td>\n",
       "      <td>33.629449</td>\n",
       "      <td>21.4</td>\n",
       "      <td>0.584782</td>\n",
       "      <td>41,3</td>\n",
       "      <td>14.0</td>\n",
       "      <td>13.0</td>\n",
       "      <td>33.629449</td>\n",
       "      <td>0.126645</td>\n",
       "      <td>2387.0</td>\n",
       "      <td>21172.0</td>\n",
       "      <td>146.8</td>\n",
       "      <td>1.67</td>\n",
       "      <td>0.375311</td>\n",
       "      <td>1.12</td>\n",
       "      <td>756,14</td>\n",
       "      <td>0.355954</td>\n",
       "      <td>50.0</td>\n",
       "      <td>-5.458045</td>\n",
       "      <td>211.0</td>\n",
       "      <td>80.9</td>\n",
       "      <td>19.4</td>\n",
       "      <td>38.5</td>\n",
       "      <td>2247.0</td>\n",
       "      <td>20.4</td>\n",
       "      <td>0.0</td>\n",
       "      <td>231.0</td>\n",
       "      <td>0</td>\n",
       "      <td>6.0</td>\n",
       "      <td>2311.0</td>\n",
       "      <td>56.0</td>\n",
       "      <td>0.618812</td>\n",
       "      <td>29.4</td>\n",
       "      <td>0.0</td>\n",
       "      <td>35.0</td>\n",
       "      <td>672.0</td>\n",
       "      <td>21171,91</td>\n",
       "      <td>0.0</td>\n",
       "      <td>0.0</td>\n",
       "      <td>34.84</td>\n",
       "      <td>147.212969</td>\n",
       "      <td>67.4</td>\n",
       "      <td>36.0</td>\n",
       "      <td>131.0</td>\n",
       "      <td>2460.0</td>\n",
       "      <td>32.802041</td>\n",
       "      <td>1.03</td>\n",
       "      <td>147.212969</td>\n",
       "      <td>0.0</td>\n",
       "      <td>0.0</td>\n",
       "      <td>1.642924</td>\n",
       "    </tr>\n",
       "  </tbody>\n",
       "</table>\n",
       "</div>"
      ],
      "text/plain": [
       "   Характеристический дебит жидкости  Диаметр штуцера  Удельный коэффициент  \\\n",
       "0                         429.716226              0.0              6.155860   \n",
       "1                         491.506909              0.0              7.041037   \n",
       "2                         544.934423              0.0              7.806408   \n",
       "3                         435.315305              0.0              6.236069   \n",
       "4                         490.294664              0.0              7.023671   \n",
       "\n",
       "   Глубина текущего забоя  ТП - Забойное давление  Глубина спуска.1  \\\n",
       "0                  2458.0               38.388042               0.0   \n",
       "1                  2416.0               38.000000            2311.0   \n",
       "2                  2416.0               28.588167            2311.0   \n",
       "3                  2458.0               37.413236               0.0   \n",
       "4                  2416.0               32.802041            2311.0   \n",
       "\n",
       "   Производительность ЭЦН  Плотность нефти  Мощность ПЭД  \\\n",
       "0                    60.0             0.87         100.0   \n",
       "1                    60.0             0.87         100.0   \n",
       "2                    60.0             0.87         100.0   \n",
       "3                    60.0             0.87         100.0   \n",
       "4                    60.0             0.87         100.0   \n",
       "\n",
       "   Вязкость жидкости в пласт. условиях  Температура пласта  \\\n",
       "0                             1.669065                87.0   \n",
       "1                             1.668832                87.0   \n",
       "2                             1.668865                87.0   \n",
       "3                             1.668999                87.0   \n",
       "4                             1.668832                87.0   \n",
       "\n",
       "   ГП(ИДН) Дебит жидкости  Затрубное давление  Плотность раствора глушения  \\\n",
       "0               33.796767                25.9                     0.656205   \n",
       "1               33.677317                21.0                     0.584782   \n",
       "2               40.109561                20.0                     0.611566   \n",
       "3               31.622997                25.4                     0.620494   \n",
       "4               33.629449                21.4                     0.584782   \n",
       "\n",
       "  Обводненность (вес), %  I X/X  Высота перфорации  \\\n",
       "0                   35,2   14.0               13.0   \n",
       "1                   42,1   14.0               13.0   \n",
       "2                    NaN   14.0               13.0   \n",
       "3                   35,3   14.0               13.0   \n",
       "4                   41,3   14.0               13.0   \n",
       "\n",
       "   ГП(ИДН) Дебит жидкости скорр-ый   JD факт  Глубина верхних дыр перфорации  \\\n",
       "0                        33.796767  0.130662                          2387.0   \n",
       "1                        33.677317  0.129351                          2387.0   \n",
       "2                        40.109561  0.125107                          2387.0   \n",
       "3                        31.622997  0.129538                          2387.0   \n",
       "4                        33.629449  0.126645                          2387.0   \n",
       "\n",
       "   Попутный газ, м3  Диаметр экспл.колонны  \\\n",
       "0           24577.0                  146.8   \n",
       "1           22893.0                  146.8   \n",
       "2               NaN                  146.8   \n",
       "3           23799.0                  146.8   \n",
       "4           21172.0                  146.8   \n",
       "\n",
       "   Вязкость нефти в пластовых условиях  Коэффициент продуктивности  \\\n",
       "0                                 1.67                    0.328893   \n",
       "1                                 1.67                    0.376239   \n",
       "2                                 1.67                    0.417128   \n",
       "3                                 1.67                    0.333192   \n",
       "4                                 1.67                    0.375311   \n",
       "\n",
       "   объемный коэффициент Дебит попутного газа, м3/сут  \\\n",
       "0                  1.12                        792,8   \n",
       "1                  1.12                       741,49   \n",
       "2                  1.12                          NaN   \n",
       "3                  1.12                       820,65   \n",
       "4                  1.12                       756,14   \n",
       "\n",
       "   ГП(ИДН) Прирост дефита нефти  Частота  ТП - SKIN  Ток рабочий  \\\n",
       "0                      0.499095     50.0  -5.518691        211.0   \n",
       "1                      0.948523     50.0  -5.456899        211.0   \n",
       "2                      0.062910     52.0  -5.408689         21.0   \n",
       "3                      0.379405     50.0  -5.512790        211.0   \n",
       "4                      0.355954     50.0  -5.458045        211.0   \n",
       "\n",
       "   Давление наcыщения  Давление в линии  Ток номинальный  Динамическая высота  \\\n",
       "0                80.9              24.0             38.5               2271.0   \n",
       "1                80.9              19.6             38.5               2267.0   \n",
       "2                80.9              18.0             38.5               2281.0   \n",
       "3                80.9              24.0             38.5               2248.0   \n",
       "4                80.9              19.4             38.5               2247.0   \n",
       "\n",
       "   Буферное давление  Замерное забойное давление  \\\n",
       "0               25.0                        38.0   \n",
       "1               20.5                        38.0   \n",
       "2               19.0                         0.0   \n",
       "3               25.0                        38.0   \n",
       "4               20.4                         0.0   \n",
       "\n",
       "   Пластовое давление начальное Приемистость, м3/сут  Нефтенасыщенная толщина  \\\n",
       "0                         231.0                    0                      6.0   \n",
       "1                         231.0                    0                      6.0   \n",
       "2                         231.0                  NaN                      6.0   \n",
       "3                         231.0                    0                      6.0   \n",
       "4                         231.0                    0                      6.0   \n",
       "\n",
       "   Глубина спуска    КВЧ  ТП - JD опт.  ГП - Забойное давление  Простой, ч  \\\n",
       "0          2311.0   82.0      0.642940                    34.0         0.0   \n",
       "1          2311.0   28.0      0.618373                    29.6         3.0   \n",
       "2          2311.0  270.0      0.600472                    28.0         NaN   \n",
       "3          2311.0   82.0      0.640510                    34.0         0.0   \n",
       "4          2311.0   56.0      0.618812                    29.4         0.0   \n",
       "\n",
       "   Обводненность  Время работы, ч Добыча растворенного газа, м3  \\\n",
       "0           28.0            744.0                      24576,93   \n",
       "1           35.0            741.0                      22893,44   \n",
       "2           34.0              NaN                           NaN   \n",
       "3           30.0            696.0                      23798,79   \n",
       "4           35.0            672.0                      21171,91   \n",
       "\n",
       "   Давление на приеме  Диаметр дополнительного оборудования  Удлинение  \\\n",
       "0                32.0                                   0.0      34.84   \n",
       "1                 0.0                                   0.0      34.84   \n",
       "2                 0.0                                   0.0      34.84   \n",
       "3                31.0                                   0.0      34.84   \n",
       "4                 0.0                                   0.0      34.84   \n",
       "\n",
       "   ГП(ГРП) Дебит жидкости скорр-ый  Диаметр НКТ  Газовый фактор  \\\n",
       "0                       153.714039         67.4            36.0   \n",
       "1                       147.318018         67.4            36.0   \n",
       "2                       170.376031         67.4            36.0   \n",
       "3                       143.283728         67.4            36.0   \n",
       "4                       147.212969         67.4            36.0   \n",
       "\n",
       "   Пластовое давление   Напор  Забойное давление  Плотность воды  \\\n",
       "0               147.0  2460.0          38.388042            1.03   \n",
       "1               131.0  2460.0          38.000000            1.03   \n",
       "2               137.0  2460.0          28.588167            1.03   \n",
       "3               139.0  2460.0          37.413236            1.03   \n",
       "4               131.0  2460.0          32.802041            1.03   \n",
       "\n",
       "   ГП(ГРП) Дебит жидкости  Глубина спуска доп. оборудования  Закачка, м3  \\\n",
       "0              153.714039                               0.0          0.0   \n",
       "1              147.318018                               0.0          0.0   \n",
       "2              170.376031                               0.0          NaN   \n",
       "3              143.283728                               0.0          0.0   \n",
       "4              147.212969                               0.0          0.0   \n",
       "\n",
       "   К пр от стимуляции  \n",
       "0            1.495868  \n",
       "1            1.645819  \n",
       "2            1.771863  \n",
       "3            1.509692  \n",
       "4            1.642924  "
      ]
     },
     "execution_count": 191,
     "metadata": {},
     "output_type": "execute_result"
    }
   ],
   "source": [
    "train_cont.head()"
   ]
  },
  {
   "cell_type": "code",
   "execution_count": 195,
   "metadata": {
    "nbpresent": {
     "id": "5f6b81c1-7f1a-4414-95b8-3f297c4136ea"
    }
   },
   "outputs": [
    {
     "data": {
      "text/plain": [
       "Характеристический дебит жидкости         282.887482\n",
       "Диаметр штуцера                            15.035131\n",
       "Удельный коэффициент                        3.319725\n",
       "Глубина текущего забоя                   3341.525210\n",
       "ТП - Забойное давление                     42.819827\n",
       "Глубина спуска.1                         1544.199466\n",
       "Производительность ЭЦН                     86.421573\n",
       "Плотность нефти                             0.860699\n",
       "Мощность ПЭД                               25.839189\n",
       "Вязкость жидкости в пласт. условиях         1.382156\n",
       "Температура пласта                         91.870856\n",
       "ГП(ИДН) Дебит жидкости                     39.468976\n",
       "Затрубное давление                         18.724978\n",
       "Плотность раствора глушения                 0.785375\n",
       "Обводненность (вес), %                     24.096047\n",
       "I X/X                                       1.147056\n",
       "Высота перфорации                          86.721890\n",
       "ГП(ИДН) Дебит жидкости скорр-ый            39.468992\n",
       "JD факт                                     0.280317\n",
       "Глубина верхних дыр перфорации           3105.507986\n",
       "Попутный газ, м3                        29520.403876\n",
       "Диаметр экспл.колонны                     148.753795\n",
       "Вязкость нефти в пластовых условиях         1.301029\n",
       "Коэффициент продуктивности                  0.285037\n",
       "объемный коэффициент                        1.165721\n",
       "Дебит попутного газа, м3/сут             1007.603966\n",
       "ГП(ИДН) Прирост дефита нефти                2.911972\n",
       "Частота                                    51.060435\n",
       "ТП - SKIN                                  -4.067188\n",
       "Ток рабочий                                17.066714\n",
       "Давление наcыщения                         98.916081\n",
       "Давление в линии                           17.881395\n",
       "Ток номинальный                             5.396190\n",
       "Динамическая высота                      2556.951014\n",
       "Буферное давление                          19.305938\n",
       "Замерное забойное давление                 14.863137\n",
       "Пластовое давление начальное              275.227511\n",
       "Приемистость, м3/сут                       11.286376\n",
       "Нефтенасыщенная толщина                    13.925052\n",
       "Глубина спуска                           2834.882088\n",
       "КВЧ                                       111.327313\n",
       "ТП - JD опт.                                0.745314\n",
       "ГП - Забойное давление                     28.922221\n",
       "Простой, ч                                 31.684109\n",
       "Обводненность                              32.438345\n",
       "Время работы, ч                           636.449225\n",
       "Добыча растворенного газа, м3           29554.773426\n",
       "Давление на приеме                         23.987323\n",
       "Диаметр дополнительного оборудования       27.230678\n",
       "Удлинение                                 469.094038\n",
       "ГП(ГРП) Дебит жидкости скорр-ый            79.021932\n",
       "Диаметр НКТ                                68.451806\n",
       "Газовый фактор                             75.358631\n",
       "Пластовое давление                        200.708511\n",
       "Напор                                    2408.853538\n",
       "Забойное давление                          51.278185\n",
       "Плотность воды                              1.014420\n",
       "ГП(ГРП) Дебит жидкости                     79.648958\n",
       "Глубина спуска доп. оборудования         1197.354676\n",
       "Закачка, м3                               328.764341\n",
       "К пр от стимуляции                          0.649404\n",
       "dtype: float64"
      ]
     },
     "execution_count": 195,
     "metadata": {},
     "output_type": "execute_result"
    }
   ],
   "source": [
    "train_cont.mean()"
   ]
  },
  {
   "cell_type": "code",
   "execution_count": null,
   "metadata": {
    "nbpresent": {
     "id": "7c9599ca-9c8f-4ef4-8d2e-2e600c969afd"
    }
   },
   "outputs": [],
   "source": []
  },
  {
   "cell_type": "code",
   "execution_count": null,
   "metadata": {
    "nbpresent": {
     "id": "96a9a243-e982-45f8-aefc-420a038b7aab"
    }
   },
   "outputs": [],
   "source": []
  },
  {
   "cell_type": "code",
   "execution_count": null,
   "metadata": {
    "nbpresent": {
     "id": "4eb34f7f-03db-4756-a60c-f1ff2bae5532"
    }
   },
   "outputs": [],
   "source": []
  },
  {
   "cell_type": "code",
   "execution_count": null,
   "metadata": {
    "nbpresent": {
     "id": "284b96ad-a48f-49fc-83af-2a41205b7abb"
    }
   },
   "outputs": [],
   "source": []
  },
  {
   "cell_type": "code",
   "execution_count": null,
   "metadata": {
    "nbpresent": {
     "id": "097fddf6-f37c-4d1a-9c21-91e5ab69f560"
    }
   },
   "outputs": [],
   "source": []
  },
  {
   "cell_type": "code",
   "execution_count": null,
   "metadata": {
    "nbpresent": {
     "id": "6c7e8637-8be8-4f53-9c04-6419cf73ff01"
    }
   },
   "outputs": [],
   "source": []
  },
  {
   "cell_type": "code",
   "execution_count": 246,
   "metadata": {
    "nbpresent": {
     "id": "c6942390-c8ae-4593-bddb-f9c23dfa2776"
    }
   },
   "outputs": [],
   "source": [
    "X_train_cont_final, X_val_cont, y_train_final, y_val = train_test_split(train_cont, y_train, test_size=0.2, random_state=42)"
   ]
  },
  {
   "cell_type": "code",
   "execution_count": null,
   "metadata": {
    "nbpresent": {
     "id": "e3b933f0-7494-4e82-af09-a68fc00f0550"
    }
   },
   "outputs": [],
   "source": []
  },
  {
   "cell_type": "code",
   "execution_count": null,
   "metadata": {
    "nbpresent": {
     "id": "19147eea-bb11-475e-8fce-9dbd8e1bbd6f"
    }
   },
   "outputs": [],
   "source": []
  },
  {
   "cell_type": "code",
   "execution_count": null,
   "metadata": {
    "nbpresent": {
     "id": "d46ac5d2-3f4b-40ef-a70b-44973f846a1f"
    }
   },
   "outputs": [],
   "source": []
  },
  {
   "cell_type": "code",
   "execution_count": null,
   "metadata": {
    "nbpresent": {
     "id": "628e6637-e4dd-47cc-872b-e78a06e9c28e"
    }
   },
   "outputs": [],
   "source": []
  },
  {
   "cell_type": "code",
   "execution_count": null,
   "metadata": {
    "nbpresent": {
     "id": "d11fd7ef-12cb-4ea6-b9ed-427f4c094369"
    }
   },
   "outputs": [],
   "source": []
  },
  {
   "cell_type": "code",
   "execution_count": null,
   "metadata": {
    "nbpresent": {
     "id": "61386794-a4f2-476a-81ba-434f06e4a051"
    }
   },
   "outputs": [],
   "source": []
  },
  {
   "cell_type": "code",
   "execution_count": null,
   "metadata": {
    "nbpresent": {
     "id": "b3d6005e-cb5c-4b39-949d-d6a0c7998e43"
    }
   },
   "outputs": [],
   "source": []
  },
  {
   "cell_type": "code",
   "execution_count": null,
   "metadata": {
    "nbpresent": {
     "id": "11ee4672-953e-43ed-9516-c886ff52d2e3"
    }
   },
   "outputs": [],
   "source": []
  },
  {
   "cell_type": "code",
   "execution_count": null,
   "metadata": {
    "nbpresent": {
     "id": "4d0b6e1b-469b-449c-b23f-5be2cf09a091"
    }
   },
   "outputs": [],
   "source": []
  },
  {
   "cell_type": "code",
   "execution_count": null,
   "metadata": {
    "nbpresent": {
     "id": "b6004da0-b928-4fa5-954e-aac2f29c62e2"
    }
   },
   "outputs": [],
   "source": []
  },
  {
   "cell_type": "code",
   "execution_count": null,
   "metadata": {
    "nbpresent": {
     "id": "22108ef9-2e81-404b-934c-ffa2fb03e8ea"
    }
   },
   "outputs": [],
   "source": []
  },
  {
   "cell_type": "code",
   "execution_count": null,
   "metadata": {
    "nbpresent": {
     "id": "8e107b76-20e8-47a4-84c2-0705a26d6469"
    }
   },
   "outputs": [],
   "source": []
  },
  {
   "cell_type": "code",
   "execution_count": null,
   "metadata": {
    "nbpresent": {
     "id": "836fe13b-7b0d-4e4a-892e-8f722f2ed5b9"
    }
   },
   "outputs": [],
   "source": []
  },
  {
   "cell_type": "code",
   "execution_count": null,
   "metadata": {
    "nbpresent": {
     "id": "a7833b8f-7828-40b3-8a8b-3279a560c88b"
    }
   },
   "outputs": [],
   "source": []
  }
 ],
 "metadata": {
  "kernelspec": {
   "display_name": "Python [conda env:env]",
   "language": "python",
   "name": "conda-env-env-py"
  },
  "language_info": {
   "codemirror_mode": {
    "name": "ipython",
    "version": 3
   },
   "file_extension": ".py",
   "mimetype": "text/x-python",
   "name": "python",
   "nbconvert_exporter": "python",
   "pygments_lexer": "ipython3",
   "version": "3.6.6"
  }
 },
 "nbformat": 4,
 "nbformat_minor": 2
}
