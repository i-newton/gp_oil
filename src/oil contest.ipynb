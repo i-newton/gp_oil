{
 "cells": [
  {
   "cell_type": "code",
   "execution_count": 1,
   "metadata": {
    "nbpresent": {
     "id": "c5f8ba3d-0d2d-448b-8f4e-759725a5bd52"
    }
   },
   "outputs": [
    {
     "name": "stderr",
     "output_type": "stream",
     "text": [
      "/anaconda2/envs/env/lib/python3.6/site-packages/sklearn/ensemble/weight_boosting.py:29: DeprecationWarning: numpy.core.umath_tests is an internal NumPy module and should not be imported. It will be removed in a future NumPy release.\n",
      "  from numpy.core.umath_tests import inner1d\n"
     ]
    }
   ],
   "source": [
    "import pandas as pd \n",
    "import numpy as np\n",
    "pd.set_option('display.max_columns', 500)\n",
    "pd.set_option('display.max_rows', 500)\n",
    "import matplotlib.pyplot as plt\n",
    "from sklearn.model_selection import train_test_split\n",
    "from sklearn.linear_model import Ridge, Lasso\n",
    "from sklearn.ensemble import RandomForestRegressor,ExtraTreesRegressor\n",
    "from sklearn.model_selection import cross_val_predict\n",
    "from sklearn.model_selection import cross_val_score\n",
    "from sklearn.svm import LinearSVR\n",
    "import xgboost as xgb\n",
    "MAX_TOWERS = 6\n",
    "from catboost import CatBoostRegressor\n",
    "from sklearn.preprocessing import LabelEncoder, OneHotEncoder\n",
    "\n",
    "import random\n",
    "\n",
    "from sklearn.model_selection import KFold, StratifiedKFold\n",
    "from sklearn.metrics import mean_absolute_error\n",
    "from scipy.sparse import hstack \n",
    "from sklearn.neural_network import MLPRegressor\n",
    "from sklearn.decomposition import PCA\n",
    "import math\n",
    "from collections import defaultdict\n",
    "from utils import get_test, get_train\n",
    "from ensemble import Ensembler\n",
    "from utils import clean_non_targeted\n",
    "%load_ext line_profiler"
   ]
  },
  {
   "cell_type": "code",
   "execution_count": 2,
   "metadata": {
    "scrolled": true
   },
   "outputs": [
    {
     "name": "stdout",
     "output_type": "stream",
     "text": [
      "Main shape (3357, 123)\n",
      "0 duplicates\n",
      "396 duplicates\n",
      "242 duplicates\n",
      "final shape (3357, 153)\n",
      "Main shape (266, 114)\n",
      "0 duplicates\n",
      "53 duplicates\n",
      "66 duplicates\n",
      "final shape (266, 144)\n",
      "after hooks\n",
      "(3357, 153)\n",
      "(266, 144)\n",
      "Нефть, т dropped\n",
      "{'Станок-качалка', 'Фирма ГРП', 'Тип газосепаратора', 'Примечание', 'Агент закачки'} dropped\n",
      "['ТП(ИДН) Дебит жидкости скорр-ый', 'ТП(ГРП) Дебит жидкости', 'ТП(ГРП) Дебит жидкости скорр-ый', 'ГП - Общий прирост Qн', 'Жидкость, м3', 'Нефть, м3', 'Дебит жидкости', 'ТП(ИДН) Дебит жидкости'] dropped\n",
      "After common_pipeline\n",
      "(3357, 139)\n",
      "(266, 139)\n"
     ]
    },
    {
     "name": "stderr",
     "output_type": "stream",
     "text": [
      "/Users/kkushaev/PycharmProjects/gp_oil/src/pipelines.py:367: SettingWithCopyWarning: \n",
      "A value is trying to be set on a copy of a slice from a DataFrame.\n",
      "Try using .loc[row_indexer,col_indexer] = value instead\n",
      "\n",
      "See the caveats in the documentation: http://pandas.pydata.org/pandas-docs/stable/indexing.html#indexing-view-versus-copy\n",
      "  train[c] = train[c].astype(str)\n",
      "/Users/kkushaev/PycharmProjects/gp_oil/src/pipelines.py:368: SettingWithCopyWarning: \n",
      "A value is trying to be set on a copy of a slice from a DataFrame.\n",
      "Try using .loc[row_indexer,col_indexer] = value instead\n",
      "\n",
      "See the caveats in the documentation: http://pandas.pydata.org/pandas-docs/stable/indexing.html#indexing-view-versus-copy\n",
      "  test[c] = test[c].astype(str)\n",
      "/Users/kkushaev/PycharmProjects/gp_oil/src/pipelines.py:383: SettingWithCopyWarning: \n",
      "A value is trying to be set on a copy of a slice from a DataFrame.\n",
      "Try using .loc[row_indexer,col_indexer] = value instead\n",
      "\n",
      "See the caveats in the documentation: http://pandas.pydata.org/pandas-docs/stable/indexing.html#indexing-view-versus-copy\n",
      "  train[c] = train[c].str.lower()\n",
      "/Users/kkushaev/PycharmProjects/gp_oil/src/pipelines.py:384: SettingWithCopyWarning: \n",
      "A value is trying to be set on a copy of a slice from a DataFrame.\n",
      "Try using .loc[row_indexer,col_indexer] = value instead\n",
      "\n",
      "See the caveats in the documentation: http://pandas.pydata.org/pandas-docs/stable/indexing.html#indexing-view-versus-copy\n",
      "  test[c] = test[c].str.lower()\n"
     ]
    },
    {
     "name": "stdout",
     "output_type": "stream",
     "text": [
      "nans in column pipelines\n",
      "False\n",
      "shape_after_column_pipelines\n",
      "(3357, 741)\n",
      "(266, 741)\n",
      "(2493, 741)\n",
      "(2493,)\n",
      "(2493,)\n"
     ]
    }
   ],
   "source": [
    "from utils import get_test, get_train\n",
    "from pipelines import common_pipeline, train_hook, target_hook, \\\n",
    "    cont_pipeline, cat_pipeline, null_cat_step, text_pipeline, date_pipeline\n",
    "from cleaner import DataCleaner\n",
    "\n",
    "dc = DataCleaner(common_pipelines=common_pipeline, column_pipelines=[\n",
    "    cont_pipeline, null_cat_step, cat_pipeline, text_pipeline, date_pipeline],\n",
    "                 train_hooks=train_hook, target_hooks=target_hook)\n",
    "\n",
    "X_train, X_test, y_train, groups = dc.get_clean_data(get_train(), get_test(), group_col=\"Скважина\")\n",
    "X_train, groups, y_train = clean_non_targeted([X_train, groups], y_train)"
   ]
  },
  {
   "cell_type": "code",
   "execution_count": 3,
   "metadata": {
    "scrolled": false
   },
   "outputs": [],
   "source": [
    "def get_df_from_posts(X_pos,Y_pos, X, y):\n",
    "    return X.loc[X_pos], y.loc[Y_pos]\n",
    "        \n",
    "\n",
    "def getXY_for_step(X,y, groups, group_col_prefix=\"pos_number_\"):\n",
    "    X_stepped = {}\n",
    "    y_stepped = {}\n",
    "    comb = pd.concat([X, groups], axis=1)\n",
    "    groups_by_skw = comb.groupby(groups.name)\n",
    "    indexes_X = defaultdict(list)\n",
    "    indexes_y = defaultdict(list)\n",
    "    for name, group in groups_by_skw:\n",
    "        for i in range(6):\n",
    "            next_item_idx = group[group[\"pos_number_%s\"%i]==1].index\n",
    "            if len(next_item_idx)>0:\n",
    "                indexes_X[i].append(group.index[0])\n",
    "                indexes_y[i].append(next_item_idx[0])\n",
    "    for i in range(6):\n",
    "        X_step, y_step = get_df_from_posts(indexes_X[i], indexes_y[i], X, y)\n",
    "        X_stepped[i] = X_step\n",
    "        y_stepped[i] = y_step\n",
    "        print(\"step %s : %s total\"%(i,len(X_step)))\n",
    "    return X_stepped, y_stepped"
   ]
  },
  {
   "cell_type": "code",
   "execution_count": 4,
   "metadata": {},
   "outputs": [],
   "source": [
    "def get_preds(X_step, y_step, X_test):\n",
    "    preds = []\n",
    "    for i in range(6):\n",
    "        x = X_step[i]\n",
    "        y = y_step[i]\n",
    "        ensem = Ensembler()\n",
    "        ensem.fit(x,y)\n",
    "        preds.append(ensem.predict(X_test))\n",
    "    return np.hstack(preds)"
   ]
  },
  {
   "cell_type": "code",
   "execution_count": 5,
   "metadata": {},
   "outputs": [],
   "source": [
    "def get_prediction(X_train, y_train, X_groups, X_test, constant = 701.4750):\n",
    "    X_step, y_step = getXY_for_step(X_train, y_train, X_groups)\n",
    "    preds = get_preds(X_step, y_step, X_test)\n",
    "    return preds+(constant- np.mean(preds))"
   ]
  },
  {
   "cell_type": "code",
   "execution_count": 6,
   "metadata": {},
   "outputs": [],
   "source": [
    "def create_submission(fname, df):\n",
    "    final_pred = pd.Series(df)\n",
    "    final_pred.to_csv(fname,header=[\"_VAL_\"],index_label=[\"_ID_\"])"
   ]
  },
  {
   "cell_type": "code",
   "execution_count": 7,
   "metadata": {},
   "outputs": [],
   "source": [
    "def transform_train_into_test(X_train,y_train,group):\n",
    "    comb = pd.concat([X_train, group], axis=1)\n",
    "    X_test = comb.groupby(group.name).head(1)\n",
    "    \n",
    "    comb_y = pd.concat([y_train, group], axis=1)\n",
    "    preds = []\n",
    "    for name, grp in comb_y.groupby(group.name):\n",
    "        cur = grp[y_train.name].values\n",
    "        preds.extend(cur)\n",
    "        to_full = 6 - len(cur)\n",
    "        for i in range(to_full):\n",
    "            preds.append(0)\n",
    "        \n",
    "    return X_test.drop([group.name],axis=1), pd.Series(preds, name = y_train.name)"
   ]
  },
  {
   "cell_type": "code",
   "execution_count": 8,
   "metadata": {},
   "outputs": [],
   "source": [
    "\n",
    "from sklearn.model_selection import GroupKFold\n",
    "def cross_validate(train, y, groups,n_folds = 5):\n",
    "    errors = []\n",
    "    k_fold = GroupKFold(n_splits=n_folds)\n",
    "    for tr_ix, test_ix in k_fold.split(train,y, groups=groups):\n",
    "        print(\"new fold started\")\n",
    "        train_x = train.iloc[tr_ix]\n",
    "        test_x = train.iloc[test_ix]\n",
    "        \n",
    "        train_y = y.iloc[tr_ix]\n",
    "        test_y = y.iloc[test_ix]\n",
    "        \n",
    "        train_groups = groups.iloc[tr_ix]\n",
    "        test_groups = groups.iloc[test_ix]\n",
    "        \n",
    "        constant = np.mean(test_y)\n",
    "        test_x, test_y = transform_train_into_test(test_x, test_y, test_groups)\n",
    "        print(\"train \"+str(train_x.shape)+\":\"+str(train_y.shape))\n",
    "        print(\"test \"+str(test_x.shape)+\":\"+str(test_y.shape))\n",
    "        print(\"groups\"+str(train_groups.shape)+\":\"+str(test_groups.shape))\n",
    "        test_preds = get_prediction(train_x, train_y, train_groups, test_x, constant=constant)\n",
    "        null_mask = test_y==0\n",
    "        test_y = test_y[~null_mask]\n",
    "        test_preds = test_preds.ravel()[~null_mask]\n",
    "        error=mean_absolute_error(y_true=test_y, y_pred=test_preds)\n",
    "        print(\"fold error:%s\" % error)\n",
    "        errors.append(error)\n",
    "    print(\"overall error: %s\" % np.mean(errors))\n",
    "    print(errors)"
   ]
  },
  {
   "cell_type": "code",
   "execution_count": 9,
   "metadata": {},
   "outputs": [
    {
     "name": "stdout",
     "output_type": "stream",
     "text": [
      "new fold started\n",
      "train (1994, 741):(1994,)\n",
      "test (95, 741):(570,)\n",
      "groups(1994,):(499,)\n",
      "step 0 : 195 total\n",
      "step 1 : 358 total\n",
      "step 2 : 352 total\n",
      "step 3 : 366 total\n",
      "step 4 : 365 total\n",
      "step 5 : 358 total\n",
      "fold error:556.1596958172249\n",
      "new fold started\n",
      "train (1994, 741):(1994,)\n",
      "test (95, 741):(570,)\n",
      "groups(1994,):(499,)\n",
      "step 0 : 194 total\n",
      "step 1 : 355 total\n",
      "step 2 : 354 total\n",
      "step 3 : 367 total\n",
      "step 4 : 366 total\n",
      "step 5 : 358 total\n",
      "fold error:597.4128493356036\n",
      "new fold started\n",
      "train (1994, 741):(1994,)\n",
      "test (95, 741):(570,)\n",
      "groups(1994,):(499,)\n",
      "step 0 : 190 total\n",
      "step 1 : 356 total\n",
      "step 2 : 354 total\n",
      "step 3 : 367 total\n",
      "step 4 : 367 total\n",
      "step 5 : 360 total\n",
      "fold error:534.0947767060458\n",
      "new fold started\n",
      "train (1995, 741):(1995,)\n",
      "test (94, 741):(564,)\n",
      "groups(1995,):(498,)\n",
      "step 0 : 194 total\n",
      "step 1 : 356 total\n",
      "step 2 : 354 total\n",
      "step 3 : 367 total\n",
      "step 4 : 365 total\n",
      "step 5 : 359 total\n",
      "fold error:594.0610632364817\n",
      "new fold started\n",
      "train (1995, 741):(1995,)\n",
      "test (94, 741):(564,)\n",
      "groups(1995,):(498,)\n",
      "step 0 : 191 total\n",
      "step 1 : 359 total\n",
      "step 2 : 354 total\n",
      "step 3 : 365 total\n",
      "step 4 : 365 total\n",
      "step 5 : 361 total\n",
      "fold error:652.5365050803802\n",
      "overall error: 586.8529780351473\n",
      "[556.1596958172249, 597.4128493356036, 534.0947767060458, 594.0610632364817, 652.5365050803802]\n"
     ]
    }
   ],
   "source": [
    "cross_validate(X_train, y_train, groups)"
   ]
  },
  {
   "cell_type": "code",
   "execution_count": null,
   "metadata": {},
   "outputs": [],
   "source": [
    "overall error: 586.8529780351473 - no tuning at all"
   ]
  },
  {
   "cell_type": "code",
   "execution_count": 381,
   "metadata": {},
   "outputs": [
    {
     "data": {
      "text/plain": [
       "array([ 935, 3556, 1145, 2288, 8105, 8106,  893,  893, 6388, 4998, 8159,\n",
       "       6303, 4854, 4472, 3457, 8159, 4125, 3667, 1161, 3596, 8159, 4728,\n",
       "       4728, 3310, 3310, 6894, 4664, 7538, 3271, 3272, 6894, 3392, 2260,\n",
       "       4998, 5550, 4854, 4854, 3170, 8687, 6388, 3383, 3383, 1173, 2918,\n",
       "       3577, 4394, 3554, 6119, 3805, 3805, 1229, 1230, 4397, 3595, 4397,\n",
       "       2690, 4362, 6390, 1550, 1550, 1550, 1550, 1551, 1551, 1551, 1551,\n",
       "       7226, 7226, 5154, 3793, 8651, 2618, 3596, 1251, 4854,  629, 6422,\n",
       "       6279, 1147, 3170, 3383, 2132, 4123, 4124, 4125, 1145, 5172, 5154,\n",
       "       8687, 6939, 5963, 2132, 2288, 5694, 5695, 5696, 5697, 7879, 4728,\n",
       "       4728, 1891, 1391, 7538,  300,  300, 7130, 4125, 4125, 2691, 5000,\n",
       "       3170, 1145, 2216, 5026, 5154, 5000, 5000,  581, 3595, 7685, 6388,\n",
       "       6388, 3691, 7957, 4746, 4746,  221, 6939, 3383, 8159,  935, 1389,\n",
       "       8651, 6388, 4394, 3457, 3457, 1121, 1121, 1121, 5526, 6279, 4728,\n",
       "       3595, 6387, 6881, 6881, 6881, 7681, 2438, 5617, 5617, 3391, 8651,\n",
       "       4496, 3555, 1891, 3865, 5000, 3271, 3272, 6894, 3691, 3992, 8159,\n",
       "       3853, 3853, 3853, 6914, 6917, 3865, 6387, 4397, 4568, 4628, 4051,\n",
       "       4051, 3555, 2132, 4051, 2408, 1251, 1251, 3691, 3691, 3691, 1389,\n",
       "       4728, 4722, 2936, 2438, 6938, 7640, 4640, 3667, 5466, 5468, 6119,\n",
       "       1173, 4394, 3457, 3461, 6914, 4958, 2342, 1526, 1526, 6894, 3457,\n",
       "       3461, 2691, 4394, 6303,  537,  917,  935,  294, 3595, 6938, 2216,\n",
       "       2090, 2216, 2217, 2218, 3383, 3383, 2444, 2445, 2446, 2447, 4394,\n",
       "       1574, 1574, 8702, 1576, 8699, 8699, 8708, 1580, 8705, 8705, 8706,\n",
       "       8705, 3697, 6135, 6135, 5136, 3556, 4496, 7142, 7143, 7144, 7145,\n",
       "       7142, 7143, 7144, 7145, 8888, 8888, 2793, 2793, 7879, 7879, 7879,\n",
       "       7879, 7879, 2225, 2226, 2216, 2223, 4854,  402, 6351, 4854, 8435,\n",
       "       8435, 6042,  864,  865,  866, 5136, 2343, 6387, 4568, 4628, 2216,\n",
       "       3996, 3996, 3871, 4640, 4442, 3553, 6159, 4362, 7919, 7640, 6894,\n",
       "       1391, 3667, 4854, 5551, 3271, 3272, 3273, 3271, 3272, 3273, 3271,\n",
       "       3272, 3273,  669,  670,  671,  672, 6914, 6914, 6894, 6894, 5000,\n",
       "       2912, 2066, 4950, 4956, 2216, 6387, 3271, 3272, 6894, 4568, 3679,\n",
       "       3679, 4536, 4536, 4536, 4998, 1145, 4371, 4998,  939, 3609, 3610,\n",
       "       3611, 3612, 5136, 3691, 7674, 6280,  402, 4498, 4498, 4496, 6279,\n",
       "       1622, 1622, 1622, 1622, 1622, 1622, 4671, 1145, 7490, 7491, 7492,\n",
       "       7493, 6159, 3596, 4958, 4298, 4299, 4300, 4301, 4298, 4299, 4300,\n",
       "       4301, 4298, 4299, 4300, 4301, 3271, 3273, 2612, 3727, 6948, 6948,\n",
       "       6948, 6948, 3271, 3272, 4628,  300, 3570, 3570, 3570, 3570, 7514,\n",
       "       2618, 2618, 6894, 3170, 7124, 2132, 6894, 5154, 3457, 3459, 3457,\n",
       "       3459, 3457, 3459, 3457, 3459])"
      ]
     },
     "execution_count": 381,
     "metadata": {},
     "output_type": "execute_result"
    }
   ],
   "source": [
    "from sklearn.metrics.pairwise import cosine_similarity\n",
    "def get_most_similar(x1,x2):\n",
    "    matr = cosine_similarity(x1,x2)\n",
    "    return np.argmax(matr, axis = 0)\n",
    "\n",
    "similar_to_test  = get_most_similar(X_train,X_test)\n",
    "similar_to_test"
   ]
  },
  {
   "cell_type": "code",
   "execution_count": 382,
   "metadata": {},
   "outputs": [],
   "source": [
    "target_group = group.loc[similar_to_test]\n",
    "target_group = target_groups.values.ravel()\n",
    "test_sim_idx = group[group.isin(target_group).values]"
   ]
  },
  {
   "cell_type": "code",
   "execution_count": 383,
   "metadata": {},
   "outputs": [
    {
     "name": "stderr",
     "output_type": "stream",
     "text": [
      "/anaconda2/envs/env/lib/python3.6/site-packages/ipykernel/__main__.py:1: FutureWarning: \n",
      "Passing list-likes to .loc or [] with any missing label will raise\n",
      "KeyError in the future, you can use .reindex() as an alternative.\n",
      "\n",
      "See the documentation here:\n",
      "https://pandas.pydata.org/pandas-docs/stable/indexing.html#deprecate-loc-reindex-listlike\n",
      "  if __name__ == '__main__':\n"
     ]
    }
   ],
   "source": [
    "true_test = pd.concat([X_train.loc[test_sim_idx.index]], axis=1)"
   ]
  },
  {
   "cell_type": "code",
   "execution_count": null,
   "metadata": {},
   "outputs": [],
   "source": []
  },
  {
   "cell_type": "code",
   "execution_count": null,
   "metadata": {},
   "outputs": [],
   "source": []
  },
  {
   "cell_type": "code",
   "execution_count": 8,
   "metadata": {},
   "outputs": [],
   "source": []
  },
  {
   "cell_type": "code",
   "execution_count": null,
   "metadata": {},
   "outputs": [],
   "source": []
  },
  {
   "cell_type": "code",
   "execution_count": null,
   "metadata": {},
   "outputs": [],
   "source": []
  },
  {
   "cell_type": "code",
   "execution_count": null,
   "metadata": {},
   "outputs": [],
   "source": []
  },
  {
   "cell_type": "code",
   "execution_count": 373,
   "metadata": {},
   "outputs": [],
   "source": [
    "X_sim_train = X_train.drop(index=true_test.index)\n",
    "y_sim_train = Y.drop(index=true_test.index)"
   ]
  },
  {
   "cell_type": "code",
   "execution_count": null,
   "metadata": {},
   "outputs": [],
   "source": []
  },
  {
   "cell_type": "code",
   "execution_count": null,
   "metadata": {},
   "outputs": [],
   "source": []
  },
  {
   "cell_type": "code",
   "execution_count": 154,
   "metadata": {},
   "outputs": [],
   "source": []
  },
  {
   "cell_type": "code",
   "execution_count": null,
   "metadata": {},
   "outputs": [],
   "source": []
  },
  {
   "cell_type": "code",
   "execution_count": 11,
   "metadata": {},
   "outputs": [],
   "source": [
    "gkf = list(GroupKFold(n_splits=4).split(X_train, y_train, groups=groups))"
   ]
  },
  {
   "cell_type": "code",
   "execution_count": 20,
   "metadata": {},
   "outputs": [
    {
     "data": {
      "text/plain": [
       "<matplotlib.collections.PathCollection at 0x1a24585128>"
      ]
     },
     "execution_count": 20,
     "metadata": {},
     "output_type": "execute_result"
    },
    {
     "data": {
      "image/png": "[encoded data removed]",
      "text/plain": [
       "<Figure size 432x288 with 1 Axes>"
      ]
     },
     "metadata": {},
     "output_type": "display_data"
    }
   ],
   "source": [
    "\n",
    "scores =[]\n",
    "for a in np.linspace(0.5, 0.6, 20):\n",
    "    scores.append(np.mean(-cross_val_score(Lasso(alpha=a),X_train, y_train, n_jobs=-1, \n",
    "                                   scoring=\"neg_mean_absolute_error\", cv=gkf)))\n",
    "plt.scatter(np.linspace(0.5, 0.6, 20),scores)"
   ]
  },
  {
   "cell_type": "code",
   "execution_count": 26,
   "metadata": {},
   "outputs": [
    {
     "data": {
      "text/plain": [
       "<matplotlib.collections.PathCollection at 0x1a24e49630>"
      ]
     },
     "execution_count": 26,
     "metadata": {},
     "output_type": "execute_result"
    },
    {
     "data": {
      "image/png": "[encoded data removed]",
      "text/plain": [
       "<Figure size 432x288 with 1 Axes>"
      ]
     },
     "metadata": {},
     "output_type": "display_data"
    }
   ],
   "source": [
    "\n",
    "scores =[]\n",
    "for a in np.linspace(16, 20, 20):\n",
    "    scores.append(np.mean(-cross_val_score(Ridge(alpha=a),X_train, y_train, n_jobs=-1, \n",
    "                                   scoring=\"neg_mean_absolute_error\", cv=gkf)))\n",
    "plt.scatter(np.linspace(16, 20, 20),scores)"
   ]
  },
  {
   "cell_type": "code",
   "execution_count": null,
   "metadata": {},
   "outputs": [],
   "source": [
    "\n",
    "scores =[]\n",
    "for a in np.linspace(16, 20, 20):\n",
    "    scores.append(np.mean(-cross_val_score(,X_train, y_train, n_jobs=-1, \n",
    "                                   scoring=\"neg_mean_absolute_error\", cv=gkf)))\n",
    "plt.scatter(np.linspace(16, 20, 20),scores)"
   ]
  },
  {
   "cell_type": "code",
   "execution_count": null,
   "metadata": {},
   "outputs": [
    {
     "name": "stdout",
     "output_type": "stream",
     "text": [
      "Fitting 4 folds for each of 36 candidates, totalling 144 fits\n"
     ]
    }
   ],
   "source": [
    "from sklearn.grid_search import GridSearchCV\n",
    "# Set the parameters by cross-validation\n",
    "tuned_parameters = {'n_estimators': [100, 300, 500], 'max_depth': [None, 1, 2, 3], 'min_samples_split': [2, 3, 4]}\n",
    "\n",
    "# clf = ensemble.RandomForestRegressor(n_estimators=500, n_jobs=1, verbose=1)\n",
    "clf = GridSearchCV(RandomForestRegressor(criterion=\"mae\"), tuned_parameters, cv=gkf, scoring=\"neg_mean_absolute_error\", n_jobs=-1, verbose=1)\n",
    "clf.fit(X_train, y_train)\n",
    "print(clf.best_estimator_)\n"
   ]
  },
  {
   "cell_type": "code",
   "execution_count": null,
   "metadata": {},
   "outputs": [],
   "source": [
    "from sklearn.grid_search import GridSearchCV\n",
    "# Set the parameters by cross-validation\n",
    "tuned_parameters = {'n_estimators': [100, 300, 500], 'max_depth': [None, 1, 2, 3], 'learning_rate': [0.01, 0.05, 0.1]}\n",
    "\n",
    "# clf = ensemble.RandomForestRegressor(n_estimators=500, n_jobs=1, verbose=1)\n",
    "clf = GridSearchCV(xgb.XGBRegressor(), tuned_parameters, cv=gkf, scoring=\"neg_mean_absolute_error\", n_jobs=-1, verbose=1)\n",
    "clf.fit(X_train, y_train)\n",
    "print(clf.best_estimator_)\n"
   ]
  },
  {
   "cell_type": "code",
   "execution_count": null,
   "metadata": {},
   "outputs": [],
   "source": []
  }
 ],
 "metadata": {
  "kernelspec": {
   "display_name": "Python [conda env:env]",
   "language": "python",
   "name": "conda-env-env-py"
  },
  "language_info": {
   "codemirror_mode": {
    "name": "ipython",
    "version": 3
   },
   "file_extension": ".py",
   "mimetype": "text/x-python",
   "name": "python",
   "nbconvert_exporter": "python",
   "pygments_lexer": "ipython3",
   "version": "3.6.6"
  }
 },
 "nbformat": 4,
 "nbformat_minor": 2
}
