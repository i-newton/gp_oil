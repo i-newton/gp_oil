{
 "cells": [
  {
   "cell_type": "code",
   "execution_count": 1,
   "metadata": {
    "nbpresent": {
     "id": "c5f8ba3d-0d2d-448b-8f4e-759725a5bd52"
    }
   },
   "outputs": [
    {
     "name": "stderr",
     "output_type": "stream",
     "text": [
      "/anaconda2/envs/env/lib/python3.6/site-packages/sklearn/ensemble/weight_boosting.py:29: DeprecationWarning: numpy.core.umath_tests is an internal NumPy module and should not be imported. It will be removed in a future NumPy release.\n",
      "  from numpy.core.umath_tests import inner1d\n"
     ]
    }
   ],
   "source": [
    "import pandas as pd \n",
    "import numpy as np\n",
    "pd.set_option('display.max_columns', 500)\n",
    "pd.set_option('display.max_rows', 500)\n",
    "import matplotlib.pyplot as plt\n",
    "from sklearn.model_selection import train_test_split\n",
    "from sklearn.linear_model import Ridge, Lasso\n",
    "from sklearn.ensemble import RandomForestRegressor,ExtraTreesRegressor\n",
    "from sklearn.model_selection import cross_val_predict\n",
    "from sklearn.model_selection import cross_val_score\n",
    "from sklearn.svm import LinearSVR\n",
    "import xgboost as xgb\n",
    "MAX_TOWERS = 6\n",
    "from catboost import CatBoostRegressor\n",
    "from sklearn.preprocessing import LabelEncoder, OneHotEncoder\n",
    "\n",
    "import random\n",
    "\n",
    "from sklearn.model_selection import KFold, StratifiedKFold\n",
    "from sklearn.metrics import mean_absolute_error\n",
    "from scipy.sparse import hstack \n",
    "from sklearn.neural_network import MLPRegressor\n",
    "from sklearn.decomposition import PCA\n",
    "import math"
   ]
  },
  {
   "cell_type": "code",
   "execution_count": 2,
   "metadata": {},
   "outputs": [
    {
     "name": "stdout",
     "output_type": "stream",
     "text": [
      "after hooks\n",
      "(8975, 153)\n",
      "(412, 144)\n",
      "Нефть, т dropped\n",
      "{'Примечание', 'Агент закачки', 'Фирма ГРП', 'Тип газосепаратора', 'Станок-качалка'} dropped\n",
      "['Жидкость, м3', 'ТП(ИДН) Дебит жидкости', 'ТП(ГРП) Дебит жидкости скорр-ый', 'ТП(ГРП) Дебит жидкости', 'ТП(ИДН) Дебит жидкости скорр-ый', 'Нефть, м3', 'ГП - Общий прирост Qн', 'Дебит жидкости'] dropped\n",
      "After common_pipeline\n",
      "(8975, 139)\n",
      "(412, 139)\n"
     ]
    },
    {
     "name": "stderr",
     "output_type": "stream",
     "text": [
      "/Users/kkushaev/PycharmProjects/gp_oil/src/pipelines.py:366: SettingWithCopyWarning: \n",
      "A value is trying to be set on a copy of a slice from a DataFrame.\n",
      "Try using .loc[row_indexer,col_indexer] = value instead\n",
      "\n",
      "See the caveats in the documentation: http://pandas.pydata.org/pandas-docs/stable/indexing.html#indexing-view-versus-copy\n",
      "  train[c] = train[c].astype(str)\n",
      "/Users/kkushaev/PycharmProjects/gp_oil/src/pipelines.py:367: SettingWithCopyWarning: \n",
      "A value is trying to be set on a copy of a slice from a DataFrame.\n",
      "Try using .loc[row_indexer,col_indexer] = value instead\n",
      "\n",
      "See the caveats in the documentation: http://pandas.pydata.org/pandas-docs/stable/indexing.html#indexing-view-versus-copy\n",
      "  test[c] = test[c].astype(str)\n",
      "/Users/kkushaev/PycharmProjects/gp_oil/src/pipelines.py:379: SettingWithCopyWarning: \n",
      "A value is trying to be set on a copy of a slice from a DataFrame.\n",
      "Try using .loc[row_indexer,col_indexer] = value instead\n",
      "\n",
      "See the caveats in the documentation: http://pandas.pydata.org/pandas-docs/stable/indexing.html#indexing-view-versus-copy\n",
      "  train[c] = train[c].str.lower()\n",
      "/Users/kkushaev/PycharmProjects/gp_oil/src/pipelines.py:380: SettingWithCopyWarning: \n",
      "A value is trying to be set on a copy of a slice from a DataFrame.\n",
      "Try using .loc[row_indexer,col_indexer] = value instead\n",
      "\n",
      "See the caveats in the documentation: http://pandas.pydata.org/pandas-docs/stable/indexing.html#indexing-view-versus-copy\n",
      "  test[c] = test[c].str.lower()\n"
     ]
    },
    {
     "name": "stdout",
     "output_type": "stream",
     "text": [
      "nans in column pipelines\n",
      "False\n",
      "shape_after_column_pipelines\n",
      "(8975, 883)\n",
      "(412, 883)\n"
     ]
    }
   ],
   "source": [
    "from utils import get_test, get_train\n",
    "from pipelines import common_pipeline, train_hook, target_hook, \\\n",
    "    cont_pipeline, cat_pipeline, null_cat_step, text_pipeline, date_pipeline\n",
    "from cleaner import DataCleaner\n",
    "\n",
    "dc = DataCleaner(common_pipelines=common_pipeline, column_pipelines=[\n",
    "    cont_pipeline, null_cat_step, cat_pipeline, text_pipeline, date_pipeline],\n",
    "                 train_hooks=train_hook, target_hooks=target_hook)\n",
    "\n",
    "X_train, X_test, y_train, groups = dc.get_clean_data(get_train(), get_test(), group_col=\"Скважина\")"
   ]
  },
  {
   "cell_type": "code",
   "execution_count": 3,
   "metadata": {},
   "outputs": [
    {
     "name": "stdout",
     "output_type": "stream",
     "text": [
      "(7115, 883)\n",
      "(7115,)\n",
      "(7115,)\n"
     ]
    }
   ],
   "source": [
    "from utils import clean_non_targeted\n",
    "X_train, groups, y_train = clean_non_targeted([X_train, groups], y_train)"
   ]
  },
  {
   "cell_type": "code",
   "execution_count": 22,
   "metadata": {},
   "outputs": [],
   "source": [
    "def get_fold():\n",
    "    return KFold(n_splits = 4,shuffle=True, random_state = 17)"
   ]
  },
  {
   "cell_type": "code",
   "execution_count": 12,
   "metadata": {},
   "outputs": [],
   "source": [
    "def get_preds_for_cats(train, test, y, cat_features):\n",
    "    print(\"start catboost\")\n",
    "    cb_regressor = CatBoostRegressor(logging_level=\"Silent\", random_state=17)\n",
    "    train_catboost_preds = cross_val_predict(cb_regressor, train, y)\n",
    "    cb_regressor.fit(train,y=y, cat_features=cat_features)\n",
    "    test_catboost_preds = pd.Series(cb_regressor.predict(test), index=test.index)\n",
    "    print(\"finish catboost\")\n",
    "    return train_catboost_preds, test_catboost_preds"
   ]
  },
  {
   "cell_type": "code",
   "execution_count": 13,
   "metadata": {},
   "outputs": [],
   "source": [
    "def get_cont_ensemble():\n",
    "    print(\"start ensemble\")\n",
    "    ridge = Ridge(random_state=17)\n",
    "    rtree = RandomForestRegressor(n_jobs=-1, n_estimators=150, random_state=17)\n",
    "    svr = LinearSVR(random_state=17)\n",
    "    xgboost = xgb.XGBRegressor(n_estimators=200, max_depth=5, random_state=17, n_jobs=-1)\n",
    "    nn = MLPRegressor(max_iter=500, random_state=17)\n",
    "    et = ExtraTreesRegressor(n_jobs=-1, n_estimators=100, random_state=17)\n",
    "    lasso = Lasso(random_state=17)\n",
    "    return [lasso, rtree, xgboost]\n",
    "\n",
    "def get_cont_ensemble_names():\n",
    "    return [\"lasso\", \"rtree\", \"xgboost\"]"
   ]
  },
  {
   "cell_type": "code",
   "execution_count": 14,
   "metadata": {},
   "outputs": [],
   "source": [
    "def get_meta_train_preds(X, y, ):\n",
    "    predicts = []\n",
    "    for cl in get_cont_ensemble():\n",
    "        predicts.append(cross_val_predict(cl, X,y, n_jobs=-1, cv=get_fold()))\n",
    "    return pd.DataFrame(np.vstack(predicts).transpose(), index=y.index, columns=get_cont_ensemble_names())\n",
    "\n",
    "def get_meta_test_predict(X_train, y_train, X_test):\n",
    "    test_predicts = []\n",
    "    \n",
    "    for i,cl in enumerate(get_cont_ensemble()):\n",
    "        print(\"%s:%s\"%(i,cross_val_score(cl, X_train, y_train, n_jobs=-1, scoring=\"neg_mean_absolute_error\", cv=get_fold())))\n",
    "        cl.fit(X_train, y_train)\n",
    "        pr = cl.predict(X_test)\n",
    "        test_predicts.append(pr)\n",
    "    #add svd predicts\n",
    "    return  pd.DataFrame(np.vstack(test_predicts).transpose(), index=X_test.index, columns=get_cont_ensemble_names())\n",
    "\n",
    "def get_stacked_ensemble_predict(X_meta, y, X_test):\n",
    "    regressor = xgb.XGBRegressor(random_state=17, n_jobs=-1)\n",
    "    regressor.fit(X_meta, y)\n",
    "    return pd.DataFrame(regressor.predict(X_test), index=X_test.index)"
   ]
  },
  {
   "cell_type": "code",
   "execution_count": 15,
   "metadata": {},
   "outputs": [],
   "source": [
    "def get_n_item_index(group_size, df, group):\n",
    "    new_df = pd.concat([df, group], axis = 1)\n",
    "    index = []\n",
    "    group = new_df.groupby([\"Скважина\"])\n",
    "    for name, group in group:\n",
    "        if len(group)<group_size:\n",
    "            continue\n",
    "        for start in range(len(group.index) - group_size):\n",
    "            gr =group.index[start:start+group_size]\n",
    "            index.append(gr)\n",
    "    return index\n",
    "\n",
    "def get_timed_ds(meta_size, df, group, y):\n",
    "    if meta_size >= 1:\n",
    "        meta_indexes = get_n_item_index(meta_size, df, group)\n",
    "        first_value_idx = []\n",
    "        timed_ds = df.copy()\n",
    "        metas = []\n",
    "        columns = []\n",
    "        for i in range(meta_size):\n",
    "            columns.append(\"meta%s\"%str(i))\n",
    "        for a in meta_indexes:\n",
    "            first_value_idx.append(a[0])\n",
    "            metas.append(list(y.loc[a]))\n",
    "        metas_df = pd.DataFrame.from_records(metas, index=first_value_idx, columns=columns)\n",
    "        return pd.concat([timed_ds.loc[first_value_idx], metas_df], axis=1)\n",
    "    elif meta_size == 0:\n",
    "        return df\n",
    "    \n",
    "def get_n_tower_predictions(n, train, y, test, train_group):\n",
    "    X_meta_train = get_meta_train_preds(train, y)\n",
    "    X_meta_test = get_meta_test_predict(train, y, test)\n",
    "    test_predictions= []\n",
    "    for i in range(0,n):\n",
    "        train_timed_ds = get_timed_ds(i,X_meta_train, train_group, y)\n",
    "        y_timed = y.loc[train_timed_ds.index]\n",
    "        test_predict = get_stacked_ensemble_predict(train_timed_ds, y_timed,X_meta_test)\n",
    "        test_predictions.append(test_predict)\n",
    "        X_meta_test[\"meta%s\"%i]=test_predict\n",
    "    return pd.concat(test_predictions,axis=1)"
   ]
  },
  {
   "cell_type": "code",
   "execution_count": 16,
   "metadata": {},
   "outputs": [],
   "source": [
    "def create_submission(fname, df):\n",
    "    final_pred = pd.Series(df)\n",
    "    final_pred.to_csv(fname,header=[\"_VAL_\"],index_label=[\"_ID_\"])"
   ]
  },
  {
   "cell_type": "code",
   "execution_count": 23,
   "metadata": {},
   "outputs": [
    {
     "name": "stdout",
     "output_type": "stream",
     "text": [
      "start ensemble\n"
     ]
    },
    {
     "name": "stderr",
     "output_type": "stream",
     "text": [
      "/anaconda2/envs/env/lib/python3.6/site-packages/sklearn/linear_model/coordinate_descent.py:491: ConvergenceWarning: Objective did not converge. You might want to increase the number of iterations. Fitting data with very small alpha may cause precision problems.\n",
      "  ConvergenceWarning)\n",
      "/anaconda2/envs/env/lib/python3.6/site-packages/sklearn/linear_model/coordinate_descent.py:491: ConvergenceWarning: Objective did not converge. You might want to increase the number of iterations. Fitting data with very small alpha may cause precision problems.\n",
      "  ConvergenceWarning)\n",
      "/anaconda2/envs/env/lib/python3.6/site-packages/sklearn/linear_model/coordinate_descent.py:491: ConvergenceWarning: Objective did not converge. You might want to increase the number of iterations. Fitting data with very small alpha may cause precision problems.\n",
      "  ConvergenceWarning)\n",
      "/anaconda2/envs/env/lib/python3.6/site-packages/sklearn/linear_model/coordinate_descent.py:491: ConvergenceWarning: Objective did not converge. You might want to increase the number of iterations. Fitting data with very small alpha may cause precision problems.\n",
      "  ConvergenceWarning)\n"
     ]
    },
    {
     "name": "stdout",
     "output_type": "stream",
     "text": [
      "start ensemble\n"
     ]
    },
    {
     "name": "stderr",
     "output_type": "stream",
     "text": [
      "/anaconda2/envs/env/lib/python3.6/site-packages/sklearn/linear_model/coordinate_descent.py:491: ConvergenceWarning: Objective did not converge. You might want to increase the number of iterations. Fitting data with very small alpha may cause precision problems.\n",
      "  ConvergenceWarning)\n",
      "/anaconda2/envs/env/lib/python3.6/site-packages/sklearn/linear_model/coordinate_descent.py:491: ConvergenceWarning: Objective did not converge. You might want to increase the number of iterations. Fitting data with very small alpha may cause precision problems.\n",
      "  ConvergenceWarning)\n",
      "/anaconda2/envs/env/lib/python3.6/site-packages/sklearn/linear_model/coordinate_descent.py:491: ConvergenceWarning: Objective did not converge. You might want to increase the number of iterations. Fitting data with very small alpha may cause precision problems.\n",
      "  ConvergenceWarning)\n",
      "/anaconda2/envs/env/lib/python3.6/site-packages/sklearn/linear_model/coordinate_descent.py:491: ConvergenceWarning: Objective did not converge. You might want to increase the number of iterations. Fitting data with very small alpha may cause precision problems.\n",
      "  ConvergenceWarning)\n"
     ]
    },
    {
     "name": "stdout",
     "output_type": "stream",
     "text": [
      "0:[-112.91058947 -115.10910131 -122.01581689 -117.5734522 ]\n"
     ]
    },
    {
     "name": "stderr",
     "output_type": "stream",
     "text": [
      "/anaconda2/envs/env/lib/python3.6/site-packages/sklearn/linear_model/coordinate_descent.py:491: ConvergenceWarning: Objective did not converge. You might want to increase the number of iterations. Fitting data with very small alpha may cause precision problems.\n",
      "  ConvergenceWarning)\n"
     ]
    },
    {
     "name": "stdout",
     "output_type": "stream",
     "text": [
      "1:[-17.82438182 -15.41087173 -20.27349871 -19.72727548]\n",
      "2:[-26.89115933 -26.16703207 -28.12583985 -28.92121573]\n"
     ]
    },
    {
     "data": {
      "text/plain": [
       "array([693.139  , 685.6526 , 700.13654, ..., 683.0149 , 685.7438 ,\n",
       "       682.89087], dtype=float32)"
      ]
     },
     "execution_count": 23,
     "metadata": {},
     "output_type": "execute_result"
    }
   ],
   "source": [
    "get_prediction(X_train, X_test,groups, y_train)"
   ]
  },
  {
   "cell_type": "code",
   "execution_count": 20,
   "metadata": {},
   "outputs": [],
   "source": [
    "def transform_target(target):\n",
    "    return target\n",
    "\n",
    "def get_prediction(train_cont, test_cont, train_group, y_train, constant = 701.4750):\n",
    "    np.random.seed(17)\n",
    "    random.seed(17)\n",
    "    y_train = transform_target(y_train)\n",
    "    time_serie_pred = get_n_tower_predictions(\n",
    "        6, train_cont, y_train,test_cont, train_group\n",
    "    ).values.reshape(-1,1)\n",
    "    time_serie_pred = np.squeeze(time_serie_pred)\n",
    "    delta = constant - np.mean(time_serie_pred)\n",
    "    final_pred = time_serie_pred+delta\n",
    "    return final_pred"
   ]
  },
  {
   "cell_type": "code",
   "execution_count": 378,
   "metadata": {},
   "outputs": [
    {
     "name": "stdout",
     "output_type": "stream",
     "text": [
      "{'Примечание', 'Агент закачки', 'Фирма ГРП', 'Станок-качалка', 'Тип газосепаратора'} dropped\n",
      "Нефть, т dropped\n",
      "['ТП(ГРП) Дебит жидкости', 'Дебит жидкости', 'Нефть, м3', 'Жидкость, м3', 'ГП - Общий прирост Qн', 'ТП(ИДН) Дебит жидкости', 'ТП(ГРП) Дебит жидкости скорр-ый', 'ТП(ИДН) Дебит жидкости скорр-ый'] dropped\n",
      "(8975, 139)\n",
      "(412, 139)\n",
      "False\n",
      "False\n"
     ]
    }
   ],
   "source": [
    "X_train, Y, X_test, group, order = get_clean_data(get_train(), get_test(), cut=False)"
   ]
  },
  {
   "cell_type": "code",
   "execution_count": 226,
   "metadata": {},
   "outputs": [],
   "source": [
    "create_submission(\"all_data_log_linear_corrected.csv\", preds_final)"
   ]
  },
  {
   "cell_type": "code",
   "execution_count": 379,
   "metadata": {},
   "outputs": [
    {
     "data": {
      "text/plain": [
       "(8975, 883)"
      ]
     },
     "execution_count": 379,
     "metadata": {},
     "output_type": "execute_result"
    }
   ],
   "source": [
    "X_train.shape"
   ]
  },
  {
   "cell_type": "code",
   "execution_count": 380,
   "metadata": {},
   "outputs": [
    {
     "data": {
      "text/plain": [
       "(412, 883)"
      ]
     },
     "execution_count": 380,
     "metadata": {},
     "output_type": "execute_result"
    }
   ],
   "source": [
    "X_test.shape"
   ]
  },
  {
   "cell_type": "code",
   "execution_count": 381,
   "metadata": {},
   "outputs": [
    {
     "data": {
      "text/plain": [
       "array([ 935, 3556, 1145, 2288, 8105, 8106,  893,  893, 6388, 4998, 8159,\n",
       "       6303, 4854, 4472, 3457, 8159, 4125, 3667, 1161, 3596, 8159, 4728,\n",
       "       4728, 3310, 3310, 6894, 4664, 7538, 3271, 3272, 6894, 3392, 2260,\n",
       "       4998, 5550, 4854, 4854, 3170, 8687, 6388, 3383, 3383, 1173, 2918,\n",
       "       3577, 4394, 3554, 6119, 3805, 3805, 1229, 1230, 4397, 3595, 4397,\n",
       "       2690, 4362, 6390, 1550, 1550, 1550, 1550, 1551, 1551, 1551, 1551,\n",
       "       7226, 7226, 5154, 3793, 8651, 2618, 3596, 1251, 4854,  629, 6422,\n",
       "       6279, 1147, 3170, 3383, 2132, 4123, 4124, 4125, 1145, 5172, 5154,\n",
       "       8687, 6939, 5963, 2132, 2288, 5694, 5695, 5696, 5697, 7879, 4728,\n",
       "       4728, 1891, 1391, 7538,  300,  300, 7130, 4125, 4125, 2691, 5000,\n",
       "       3170, 1145, 2216, 5026, 5154, 5000, 5000,  581, 3595, 7685, 6388,\n",
       "       6388, 3691, 7957, 4746, 4746,  221, 6939, 3383, 8159,  935, 1389,\n",
       "       8651, 6388, 4394, 3457, 3457, 1121, 1121, 1121, 5526, 6279, 4728,\n",
       "       3595, 6387, 6881, 6881, 6881, 7681, 2438, 5617, 5617, 3391, 8651,\n",
       "       4496, 3555, 1891, 3865, 5000, 3271, 3272, 6894, 3691, 3992, 8159,\n",
       "       3853, 3853, 3853, 6914, 6917, 3865, 6387, 4397, 4568, 4628, 4051,\n",
       "       4051, 3555, 2132, 4051, 2408, 1251, 1251, 3691, 3691, 3691, 1389,\n",
       "       4728, 4722, 2936, 2438, 6938, 7640, 4640, 3667, 5466, 5468, 6119,\n",
       "       1173, 4394, 3457, 3461, 6914, 4958, 2342, 1526, 1526, 6894, 3457,\n",
       "       3461, 2691, 4394, 6303,  537,  917,  935,  294, 3595, 6938, 2216,\n",
       "       2090, 2216, 2217, 2218, 3383, 3383, 2444, 2445, 2446, 2447, 4394,\n",
       "       1574, 1574, 8702, 1576, 8699, 8699, 8708, 1580, 8705, 8705, 8706,\n",
       "       8705, 3697, 6135, 6135, 5136, 3556, 4496, 7142, 7143, 7144, 7145,\n",
       "       7142, 7143, 7144, 7145, 8888, 8888, 2793, 2793, 7879, 7879, 7879,\n",
       "       7879, 7879, 2225, 2226, 2216, 2223, 4854,  402, 6351, 4854, 8435,\n",
       "       8435, 6042,  864,  865,  866, 5136, 2343, 6387, 4568, 4628, 2216,\n",
       "       3996, 3996, 3871, 4640, 4442, 3553, 6159, 4362, 7919, 7640, 6894,\n",
       "       1391, 3667, 4854, 5551, 3271, 3272, 3273, 3271, 3272, 3273, 3271,\n",
       "       3272, 3273,  669,  670,  671,  672, 6914, 6914, 6894, 6894, 5000,\n",
       "       2912, 2066, 4950, 4956, 2216, 6387, 3271, 3272, 6894, 4568, 3679,\n",
       "       3679, 4536, 4536, 4536, 4998, 1145, 4371, 4998,  939, 3609, 3610,\n",
       "       3611, 3612, 5136, 3691, 7674, 6280,  402, 4498, 4498, 4496, 6279,\n",
       "       1622, 1622, 1622, 1622, 1622, 1622, 4671, 1145, 7490, 7491, 7492,\n",
       "       7493, 6159, 3596, 4958, 4298, 4299, 4300, 4301, 4298, 4299, 4300,\n",
       "       4301, 4298, 4299, 4300, 4301, 3271, 3273, 2612, 3727, 6948, 6948,\n",
       "       6948, 6948, 3271, 3272, 4628,  300, 3570, 3570, 3570, 3570, 7514,\n",
       "       2618, 2618, 6894, 3170, 7124, 2132, 6894, 5154, 3457, 3459, 3457,\n",
       "       3459, 3457, 3459, 3457, 3459])"
      ]
     },
     "execution_count": 381,
     "metadata": {},
     "output_type": "execute_result"
    }
   ],
   "source": [
    "from sklearn.metrics.pairwise import cosine_similarity\n",
    "def get_most_similar(x1,x2):\n",
    "    matr = cosine_similarity(x1,x2)\n",
    "    return np.argmax(matr, axis = 0)\n",
    "\n",
    "similar_to_test  = get_most_similar(X_train,X_test)\n",
    "similar_to_test"
   ]
  },
  {
   "cell_type": "code",
   "execution_count": 382,
   "metadata": {},
   "outputs": [],
   "source": [
    "target_group = group.loc[similar_to_test]\n",
    "target_group = target_groups.values.ravel()\n",
    "test_sim_idx = group[group.isin(target_group).values]"
   ]
  },
  {
   "cell_type": "code",
   "execution_count": 383,
   "metadata": {},
   "outputs": [
    {
     "name": "stderr",
     "output_type": "stream",
     "text": [
      "/anaconda2/envs/env/lib/python3.6/site-packages/ipykernel/__main__.py:1: FutureWarning: \n",
      "Passing list-likes to .loc or [] with any missing label will raise\n",
      "KeyError in the future, you can use .reindex() as an alternative.\n",
      "\n",
      "See the documentation here:\n",
      "https://pandas.pydata.org/pandas-docs/stable/indexing.html#deprecate-loc-reindex-listlike\n",
      "  if __name__ == '__main__':\n"
     ]
    }
   ],
   "source": [
    "true_test = pd.concat([X_train.loc[test_sim_idx.index]], axis=1)"
   ]
  },
  {
   "cell_type": "code",
   "execution_count": 387,
   "metadata": {},
   "outputs": [
    {
     "name": "stdout",
     "output_type": "stream",
     "text": [
      "Нефть, т dropped\n",
      "(452, 884)\n",
      "(452,)\n"
     ]
    }
   ],
   "source": [
    "X_sim_test,y_sim_test,constant = get_cleaned_test(true_test)"
   ]
  },
  {
   "cell_type": "code",
   "execution_count": 388,
   "metadata": {},
   "outputs": [
    {
     "data": {
      "text/plain": [
       "(2108, 885)"
      ]
     },
     "execution_count": 388,
     "metadata": {},
     "output_type": "execute_result"
    }
   ],
   "source": [
    "true_test.shape"
   ]
  },
  {
   "cell_type": "code",
   "execution_count": null,
   "metadata": {},
   "outputs": [],
   "source": []
  },
  {
   "cell_type": "code",
   "execution_count": null,
   "metadata": {},
   "outputs": [],
   "source": []
  },
  {
   "cell_type": "code",
   "execution_count": 362,
   "metadata": {},
   "outputs": [
    {
     "data": {
      "text/plain": [
       "(39, 884)"
      ]
     },
     "execution_count": 362,
     "metadata": {},
     "output_type": "execute_result"
    }
   ],
   "source": [
    "X_sim_test.shape"
   ]
  },
  {
   "cell_type": "code",
   "execution_count": 373,
   "metadata": {},
   "outputs": [],
   "source": [
    "X_sim_train = X_train.drop(index=true_test.index)\n",
    "y_sim_train = Y.drop(index=true_test.index)"
   ]
  },
  {
   "cell_type": "code",
   "execution_count": null,
   "metadata": {},
   "outputs": [],
   "source": []
  },
  {
   "cell_type": "code",
   "execution_count": 153,
   "metadata": {},
   "outputs": [],
   "source": [
    "def get_cleaned_test(test, size=6):\n",
    "    test, y_test = get_target(test)\n",
    "    test, y_test = clean_non_targeted([test], y_test)\n",
    "    X_idx = []\n",
    "    y_idx = []\n",
    "    group = test.groupby([\"Скважина\"])\n",
    "    for name, group in group:\n",
    "        if len(group)!= size:\n",
    "            continue\n",
    "        X_idx.append(group.index[0])\n",
    "        y_idx.extend(group.index)\n",
    "    if X_idx and y_idx:\n",
    "        test = test.loc[X_idx]\n",
    "        y_test = y_test[y_idx]\n",
    "        y_test = transform_target(y_test)\n",
    "        constant = np.mean(y_test.values)\n",
    "        return test, y_test, constant\n",
    "    else:\n",
    "        return None, None, None"
   ]
  },
  {
   "cell_type": "code",
   "execution_count": 154,
   "metadata": {},
   "outputs": [],
   "source": [
    "def cross_validate(train, n_folds = 4):\n",
    "    errors = []\n",
    "    k_fold = KFold(n_splits=n_folds, random_state=17, shuffle=True)\n",
    "    for tr_ix, test_ix in k_fold.split(train):\n",
    "        print(\"new fold started\")\n",
    "        train_cv = train.iloc[tr_ix]\n",
    "        test_cv = train.iloc[test_ix]\n",
    "        test_cv, y_test, constant = get_cleaned_test(test_cv)\n",
    "        test_preds = get_prediction(train_cv, test_cv, constant=constant)\n",
    "        error=mean_absolute_error(y_true=y_test, y_pred=test_preds)\n",
    "        print(\"fold error:%s\" % error)\n",
    "        errors.append(error)\n",
    "    print(\"overall error: %s\" % np.mean(errors))\n",
    "    print(errors)"
   ]
  },
  {
   "cell_type": "code",
   "execution_count": 157,
   "metadata": {},
   "outputs": [
    {
     "name": "stdout",
     "output_type": "stream",
     "text": [
      "new fold started\n",
      "Нефть, т dropped\n",
      "(1767, 152)\n",
      "(1767,)\n"
     ]
    },
    {
     "name": "stderr",
     "output_type": "stream",
     "text": [
      "/anaconda2/envs/env/lib/python3.6/site-packages/ipykernel/__main__.py:3: SettingWithCopyWarning: \n",
      "A value is trying to be set on a copy of a slice from a DataFrame.\n",
      "Try using .loc[row_indexer,col_indexer] = value instead\n",
      "\n",
      "See the caveats in the documentation: http://pandas.pydata.org/pandas-docs/stable/indexing.html#indexing-view-versus-copy\n",
      "  app.launch_new_instance()\n"
     ]
    },
    {
     "name": "stdout",
     "output_type": "stream",
     "text": [
      "{'Причина простоя.1', 'Тип дополнительного оборудования', 'Примечание', 'Мероприятия', 'Агент закачки', 'Фирма ГРП', 'Станок-качалка', 'Тип газосепаратора', 'Тип скважины', 'Марка ПЭД', 'КНС'} dropped\n",
      "Нефть, т dropped\n",
      "[] dropped\n",
      "(6731, 141)\n",
      "(21, 141)\n",
      "False\n",
      "False\n",
      "(2032, 822)\n",
      "(2032, 1)\n",
      "(2032, 22)\n",
      "(2032,)\n",
      "start ensemble\n",
      "start ensemble\n",
      "0:[-5.26750854 -4.83628815 -5.44675178 -5.61317239]\n",
      "1:[-4.33734318 -5.41715682 -9.47807375 -4.81749278]\n",
      "2:[-3.19747215 -4.08130162 -6.49122146 -3.92387238]\n",
      "fold error:318.788289397709\n",
      "new fold started\n",
      "Нефть, т dropped\n",
      "(1771, 152)\n",
      "(1771,)\n"
     ]
    },
    {
     "name": "stderr",
     "output_type": "stream",
     "text": [
      "/anaconda2/envs/env/lib/python3.6/site-packages/ipykernel/__main__.py:3: SettingWithCopyWarning: \n",
      "A value is trying to be set on a copy of a slice from a DataFrame.\n",
      "Try using .loc[row_indexer,col_indexer] = value instead\n",
      "\n",
      "See the caveats in the documentation: http://pandas.pydata.org/pandas-docs/stable/indexing.html#indexing-view-versus-copy\n",
      "  app.launch_new_instance()\n"
     ]
    },
    {
     "name": "stdout",
     "output_type": "stream",
     "text": [
      "{'Ток рабочий', 'Дата запуска после КРС', 'Динамическая высота', 'Удельный коэффициент', 'Мероприятия', 'Тип насоса', 'Тип ГЗУ', 'Диаметр дополнительного оборудования', 'Станок-качалка', 'Пласт МЭР', 'объемный коэффициент', 'Дата ввода в эксплуатацию', 'SKIN', 'ГП(ИДН) Дебит жидкости', 'ТП - SKIN', 'КНС', 'Характеристический дебит жидкости', 'Глубина верхних дыр перфорации', 'Длина хода плунжера ШГН', 'Глубина спуска', 'Температура пласта', 'Фонтан через насос', 'ГП(ГРП) Дебит жидкости скорр-ый', 'Давление на приеме', 'Напор', 'Мощность ПЭД', 'Способ эксплуатации', 'ДНС', 'ТП(ИДН) Дебит жидкости скорр-ый', 'Диаметр НКТ', 'Удлинение', 'Диаметр плунжера', 'Вязкость нефти в пластовых условиях', 'I X/X', 'Дата пуска', 'Тип газосепаратора', 'Высота перфорации', 'Неустановившийся режим', 'JD факт', 'Номер бригады', 'Глубина спуска доп. оборудования', 'ТП(ГРП) Дебит жидкости скорр-ый', 'Причина простоя.1', 'Состояние на конец месяца', 'Производительность ЭЦН', 'Газовый фактор', 'КН закрепленный', 'Агент закачки', 'Коэффициент сепарации', 'Фирма ГРП', 'Затрубное давление', 'Пластовое давление', 'Давление наcыщения', 'Ток номинальный', 'Тип дополнительного оборудования', 'Плотность раствора глушения', 'Плотность воды', 'Группа фонда', 'ГП(ГРП) Дебит жидкости', 'ГП - Общий прирост Qн', 'ТП - Забойное давление', 'Частота', 'Дата ГРП', 'Время в накоплении', 'Время до псевдоуст-ся режима', 'ТП(ИДН) Дебит жидкости', 'Диаметр штуцера', 'К пр от стимуляции', 'Обводненность', 'ТП(ГРП) Дебит жидкости', 'Куст', 'Глубина текущего забоя', 'Число качаний ШГН', 'ГП - Забойное давление', 'Забойное давление', 'Тип скважины', 'Вязкость жидкости в пласт. условиях', 'ГП(ИДН) Дебит жидкости скорр-ый', 'Замерное забойное давление', 'Примечание', 'Коэффициент подачи насоса', 'Диаметр экспл.колонны', 'Нефтенасыщенная толщина', 'Время в работе', 'ГП(ИДН) Прирост дефита нефти', 'КВЧ', 'ТП - JD опт.', 'Вязкость воды в пластовых условиях', 'Нерентабельная', 'Дебит жидкости', 'Коэффициент продуктивности', 'Буферное давление', 'Радиус контура питания', 'Давление в линии', 'Марка ПЭД', 'Дата останова', 'Пластовое давление начальное', 'Плотность нефти', 'Глубина спуска.1', 'Назначение по проекту'} dropped\n",
      "Нефть, т dropped\n",
      "[] dropped\n",
      "(6731, 52)\n",
      "(22, 52)\n",
      "False\n",
      "False\n",
      "(2012, 417)\n",
      "(2012, 1)\n",
      "(2012, 9)\n",
      "(2012,)\n",
      "start ensemble\n",
      "start ensemble\n",
      "0:[-6.29967645 -5.53930405 -6.29546958 -5.72214285]\n",
      "1:[-6.79710881 -4.3161996  -5.27638158 -7.88461498]\n",
      "2:[-4.18501752 -3.07306604 -3.83273679 -4.63565204]\n",
      "fold error:239.65920534076108\n",
      "new fold started\n",
      "Нефть, т dropped\n",
      "(1789, 152)\n",
      "(1789,)\n"
     ]
    },
    {
     "name": "stderr",
     "output_type": "stream",
     "text": [
      "/anaconda2/envs/env/lib/python3.6/site-packages/ipykernel/__main__.py:3: SettingWithCopyWarning: \n",
      "A value is trying to be set on a copy of a slice from a DataFrame.\n",
      "Try using .loc[row_indexer,col_indexer] = value instead\n",
      "\n",
      "See the caveats in the documentation: http://pandas.pydata.org/pandas-docs/stable/indexing.html#indexing-view-versus-copy\n",
      "  app.launch_new_instance()\n"
     ]
    },
    {
     "name": "stdout",
     "output_type": "stream",
     "text": [
      "{'Причина простоя.1', 'Тип дополнительного оборудования', 'Примечание', 'Мероприятия', 'Агент закачки', 'Фирма ГРП', 'Станок-качалка', 'Тип газосепаратора', 'Дата ГРП', 'Марка ПЭД', 'КНС'} dropped\n",
      "Нефть, т dropped\n",
      "[] dropped\n",
      "(6731, 141)\n",
      "(19, 141)\n",
      "False\n",
      "False\n",
      "(1982, 818)\n",
      "(1982, 1)\n",
      "(1982, 23)\n",
      "(1982,)\n",
      "start ensemble\n",
      "start ensemble\n",
      "0:[-5.08773347 -5.15452572 -5.30366483 -5.61329658]\n",
      "1:[-4.36949906 -4.34746183 -7.24693657 -9.16310249]\n",
      "2:[-3.1495162  -3.59596181 -6.98730615 -5.93493193]\n",
      "fold error:275.3102597206517\n",
      "new fold started\n",
      "Нефть, т dropped\n",
      "(1788, 152)\n",
      "(1788,)\n"
     ]
    },
    {
     "name": "stderr",
     "output_type": "stream",
     "text": [
      "/anaconda2/envs/env/lib/python3.6/site-packages/ipykernel/__main__.py:3: SettingWithCopyWarning: \n",
      "A value is trying to be set on a copy of a slice from a DataFrame.\n",
      "Try using .loc[row_indexer,col_indexer] = value instead\n",
      "\n",
      "See the caveats in the documentation: http://pandas.pydata.org/pandas-docs/stable/indexing.html#indexing-view-versus-copy\n",
      "  app.launch_new_instance()\n"
     ]
    },
    {
     "name": "stdout",
     "output_type": "stream",
     "text": [
      "{'Ток рабочий', 'Дата запуска после КРС', 'Динамическая высота', 'Удельный коэффициент', 'Мероприятия', 'Тип насоса', 'Тип ГЗУ', 'Диаметр дополнительного оборудования', 'Станок-качалка', 'Пласт МЭР', 'объемный коэффициент', 'Дата ввода в эксплуатацию', 'SKIN', 'ГП(ИДН) Дебит жидкости', 'ТП - SKIN', 'КНС', 'Характеристический дебит жидкости', 'Глубина верхних дыр перфорации', 'Длина хода плунжера ШГН', 'Глубина спуска', 'Температура пласта', 'Фонтан через насос', 'ГП(ГРП) Дебит жидкости скорр-ый', 'Давление на приеме', 'Напор', 'Мощность ПЭД', 'Способ эксплуатации', 'ДНС', 'ТП(ИДН) Дебит жидкости скорр-ый', 'Диаметр НКТ', 'Удлинение', 'Диаметр плунжера', 'Вязкость нефти в пластовых условиях', 'I X/X', 'Дата пуска', 'Тип газосепаратора', 'Высота перфорации', 'Неустановившийся режим', 'JD факт', 'Номер бригады', 'Глубина спуска доп. оборудования', 'ТП(ГРП) Дебит жидкости скорр-ый', 'Причина простоя.1', 'Состояние на конец месяца', 'Производительность ЭЦН', 'Газовый фактор', 'КН закрепленный', 'Агент закачки', 'Коэффициент сепарации', 'Фирма ГРП', 'Затрубное давление', 'Пластовое давление', 'Давление наcыщения', 'Ток номинальный', 'Тип дополнительного оборудования', 'Плотность раствора глушения', 'Плотность воды', 'Группа фонда', 'ГП(ГРП) Дебит жидкости', 'ГП - Общий прирост Qн', 'ТП - Забойное давление', 'Частота', 'Дата ГРП', 'Время в накоплении', 'Время до псевдоуст-ся режима', 'ТП(ИДН) Дебит жидкости', 'Диаметр штуцера', 'К пр от стимуляции', 'Обводненность', 'ТП(ГРП) Дебит жидкости', 'Куст', 'Глубина текущего забоя', 'Число качаний ШГН', 'ГП - Забойное давление', 'Забойное давление', 'Тип скважины', 'Вязкость жидкости в пласт. условиях', 'ГП(ИДН) Дебит жидкости скорр-ый', 'Замерное забойное давление', 'Примечание', 'Коэффициент подачи насоса', 'Диаметр экспл.колонны', 'Нефтенасыщенная толщина', 'Время в работе', 'ГП(ИДН) Прирост дефита нефти', 'КВЧ', 'ТП - JD опт.', 'Вязкость воды в пластовых условиях', 'Нерентабельная', 'Дебит жидкости', 'Коэффициент продуктивности', 'Буферное давление', 'Радиус контура питания', 'Давление в линии', 'Марка ПЭД', 'Дата останова', 'Пластовое давление начальное', 'Плотность нефти', 'Глубина спуска.1', 'Назначение по проекту'} dropped\n",
      "Нефть, т dropped\n",
      "[] dropped\n",
      "(6732, 52)\n",
      "(22, 52)\n",
      "False\n",
      "False\n",
      "(2008, 414)\n",
      "(2008, 1)\n",
      "(2008, 9)\n",
      "(2008,)\n",
      "start ensemble\n",
      "start ensemble\n",
      "0:[-5.68703568 -6.49575902 -6.42996474 -6.21227857]\n",
      "1:[-4.93711129 -7.39048035 -4.35301169 -7.16972364]\n",
      "2:[-3.62100685 -5.65832055 -3.79769213 -4.61700544]\n",
      "fold error:428.3436989385431\n",
      "overall error: 315.52536334941624\n",
      "[318.788289397709, 239.65920534076108, 275.3102597206517, 428.3436989385431]\n"
     ]
    }
   ],
   "source": [
    "cross_validate(get_train())"
   ]
  },
  {
   "cell_type": "code",
   "execution_count": 27,
   "metadata": {},
   "outputs": [
    {
     "data": {
      "text/plain": [
       "[290.4273996641578, 335.9788732308109, 127.15651752895779, 447.18180271246496]"
      ]
     },
     "execution_count": 27,
     "metadata": {},
     "output_type": "execute_result"
    }
   ],
   "source": [
    "299.720573012412\n",
    "[289.9811313784219, 335.9357574203388, 126.81710257918746, 446.1483006716997]\n",
    "300.25068988386926\n",
    "[290.65788832253554, 336.1340891623984, 127.1327437987151, 447.07803825182793]\n",
    "300.18614828409784\n",
    "[290.4273996641578, 335.9788732308109, 127.15651752895779, 447.18180271246496]\n",
    "285.9852514405545\n",
    "[267.45969725620597, 281.4598397521973, 81.43385848363239, 513.5876102701824]\n",
    "260.7050305503842\n",
    "[285.48734338760374, 240.13236792105218, 238.9836193061597, 226.74571254057042, 312.176109596535]\n",
    "294.66398402441115\n",
    "[240.20572041829428, 346.64098253522604, 298.8145652553014, 292.994667888823]\n",
    "295.00947591811894\n",
    "[240.35139353434244, 347.16105438232427, 298.9804015289791, 293.54505422682985]\n",
    "295.90190843312\n",
    "[241.25445229554788, 348.402697652181, 299.64674013168093, 294.30374365307034]\n",
    "295.3792892683586\n",
    "[241.22872128217648, 347.65355759393606, 299.4774894011967, 293.15738879612513]\n",
    "295.1825753026131\n",
    "[241.04178057548327, 346.85150514148535, 299.4132816278367, 293.4237338656471]\n",
    "294.9022548526955\n",
    "[241.1999166009365, 345.8461416771299, 299.4364936368428, 293.1264674958728]\n",
    "293.59822052331515\n",
    "[240.6871044182667, 345.6373588043017, 298.5003662020143, 289.5680526686779]\n",
    "295.0485831301902\n",
    "[242.15174558199368, 345.12844017392115, 299.55880542573476, 293.3553413391113]\n",
    "295.3146868490794\n",
    "[241.1199405924479, 347.18048281715033, 299.70953150189115, 293.2487924848284]\n",
    "295.39453709307753\n",
    "[242.4517316143329, 345.3109058634441, 299.8078347972083, 294.0076760973249]\n",
    "295.9224823257018\n",
    "[242.46150878123748, 346.54313555036276, 300.30083731030663, 294.38444766090026]\n",
    "315.52536334941624\n",
    "[318.788289397709, 239.65920534076108, 275.3102597206517, 428.3436989385431]\n",
    "\n",
    "\n",
    "#logarithmic\n",
    "0.8513609468749455\n",
    "[1.3160352156536677, 0.46891223857426984, 0.9269136348798445, 0.693582698392]"
   ]
  },
  {
   "cell_type": "code",
   "execution_count": 167,
   "metadata": {},
   "outputs": [
    {
     "name": "stdout",
     "output_type": "stream",
     "text": [
      "{'Примечание', 'Агент закачки', 'Фирма ГРП', 'Станок-качалка', 'Тип газосепаратора'} dropped\n",
      "Нефть, т dropped\n",
      "['ТП(ГРП) Дебит жидкости', 'Дебит жидкости', 'Нефть, м3', 'Жидкость, м3', 'ГП - Общий прирост Qн', 'ТП(ИДН) Дебит жидкости', 'ТП(ГРП) Дебит жидкости скорр-ый', 'ТП(ИДН) Дебит жидкости скорр-ый'] dropped\n",
      "(8975, 139)\n",
      "(412, 139)\n",
      "False\n",
      "False\n",
      "(2201, 883)\n",
      "(2201, 1)\n",
      "(2201, 28)\n",
      "(2201,)\n"
     ]
    }
   ],
   "source": [
    "X_train, y_train, X_test, group = get_clean_data(get_train(),get_test())"
   ]
  },
  {
   "cell_type": "code",
   "execution_count": 179,
   "metadata": {},
   "outputs": [
    {
     "name": "stderr",
     "output_type": "stream",
     "text": [
      "/anaconda2/envs/env/lib/python3.6/site-packages/sklearn/linear_model/coordinate_descent.py:491: ConvergenceWarning: Objective did not converge. You might want to increase the number of iterations. Fitting data with very small alpha may cause precision problems.\n",
      "  ConvergenceWarning)\n",
      "/anaconda2/envs/env/lib/python3.6/site-packages/sklearn/linear_model/coordinate_descent.py:491: ConvergenceWarning: Objective did not converge. You might want to increase the number of iterations. Fitting data with very small alpha may cause precision problems.\n",
      "  ConvergenceWarning)\n",
      "/anaconda2/envs/env/lib/python3.6/site-packages/sklearn/linear_model/coordinate_descent.py:491: ConvergenceWarning: Objective did not converge. You might want to increase the number of iterations. Fitting data with very small alpha may cause precision problems.\n",
      "  ConvergenceWarning)\n",
      "/anaconda2/envs/env/lib/python3.6/site-packages/sklearn/linear_model/coordinate_descent.py:491: ConvergenceWarning: Objective did not converge. You might want to increase the number of iterations. Fitting data with very small alpha may cause precision problems.\n",
      "  ConvergenceWarning)\n",
      "/anaconda2/envs/env/lib/python3.6/site-packages/sklearn/linear_model/coordinate_descent.py:491: ConvergenceWarning: Objective did not converge. You might want to increase the number of iterations. Fitting data with very small alpha may cause precision problems.\n",
      "  ConvergenceWarning)\n",
      "/anaconda2/envs/env/lib/python3.6/site-packages/sklearn/linear_model/coordinate_descent.py:491: ConvergenceWarning: Objective did not converge. You might want to increase the number of iterations. Fitting data with very small alpha may cause precision problems.\n",
      "  ConvergenceWarning)\n",
      "/anaconda2/envs/env/lib/python3.6/site-packages/sklearn/linear_model/coordinate_descent.py:491: ConvergenceWarning: Objective did not converge. You might want to increase the number of iterations. Fitting data with very small alpha may cause precision problems.\n",
      "  ConvergenceWarning)\n",
      "/anaconda2/envs/env/lib/python3.6/site-packages/sklearn/linear_model/coordinate_descent.py:491: ConvergenceWarning: Objective did not converge. You might want to increase the number of iterations. Fitting data with very small alpha may cause precision problems.\n",
      "  ConvergenceWarning)\n",
      "/anaconda2/envs/env/lib/python3.6/site-packages/sklearn/linear_model/coordinate_descent.py:491: ConvergenceWarning: Objective did not converge. You might want to increase the number of iterations. Fitting data with very small alpha may cause precision problems.\n",
      "  ConvergenceWarning)\n",
      "/anaconda2/envs/env/lib/python3.6/site-packages/sklearn/linear_model/coordinate_descent.py:491: ConvergenceWarning: Objective did not converge. You might want to increase the number of iterations. Fitting data with very small alpha may cause precision problems.\n",
      "  ConvergenceWarning)\n",
      "/anaconda2/envs/env/lib/python3.6/site-packages/sklearn/linear_model/coordinate_descent.py:491: ConvergenceWarning: Objective did not converge. You might want to increase the number of iterations. Fitting data with very small alpha may cause precision problems.\n",
      "  ConvergenceWarning)\n",
      "/anaconda2/envs/env/lib/python3.6/site-packages/sklearn/linear_model/coordinate_descent.py:491: ConvergenceWarning: Objective did not converge. You might want to increase the number of iterations. Fitting data with very small alpha may cause precision problems.\n",
      "  ConvergenceWarning)\n",
      "/anaconda2/envs/env/lib/python3.6/site-packages/sklearn/linear_model/coordinate_descent.py:491: ConvergenceWarning: Objective did not converge. You might want to increase the number of iterations. Fitting data with very small alpha may cause precision problems.\n",
      "  ConvergenceWarning)\n",
      "/anaconda2/envs/env/lib/python3.6/site-packages/sklearn/linear_model/coordinate_descent.py:491: ConvergenceWarning: Objective did not converge. You might want to increase the number of iterations. Fitting data with very small alpha may cause precision problems.\n",
      "  ConvergenceWarning)\n",
      "/anaconda2/envs/env/lib/python3.6/site-packages/sklearn/linear_model/coordinate_descent.py:491: ConvergenceWarning: Objective did not converge. You might want to increase the number of iterations. Fitting data with very small alpha may cause precision problems.\n",
      "  ConvergenceWarning)\n",
      "/anaconda2/envs/env/lib/python3.6/site-packages/sklearn/linear_model/coordinate_descent.py:491: ConvergenceWarning: Objective did not converge. You might want to increase the number of iterations. Fitting data with very small alpha may cause precision problems.\n",
      "  ConvergenceWarning)\n",
      "/anaconda2/envs/env/lib/python3.6/site-packages/sklearn/linear_model/coordinate_descent.py:491: ConvergenceWarning: Objective did not converge. You might want to increase the number of iterations. Fitting data with very small alpha may cause precision problems.\n",
      "  ConvergenceWarning)\n",
      "/anaconda2/envs/env/lib/python3.6/site-packages/sklearn/linear_model/coordinate_descent.py:491: ConvergenceWarning: Objective did not converge. You might want to increase the number of iterations. Fitting data with very small alpha may cause precision problems.\n",
      "  ConvergenceWarning)\n",
      "/anaconda2/envs/env/lib/python3.6/site-packages/sklearn/linear_model/coordinate_descent.py:491: ConvergenceWarning: Objective did not converge. You might want to increase the number of iterations. Fitting data with very small alpha may cause precision problems.\n",
      "  ConvergenceWarning)\n",
      "/anaconda2/envs/env/lib/python3.6/site-packages/sklearn/linear_model/coordinate_descent.py:491: ConvergenceWarning: Objective did not converge. You might want to increase the number of iterations. Fitting data with very small alpha may cause precision problems.\n",
      "  ConvergenceWarning)\n",
      "/anaconda2/envs/env/lib/python3.6/site-packages/sklearn/linear_model/coordinate_descent.py:491: ConvergenceWarning: Objective did not converge. You might want to increase the number of iterations. Fitting data with very small alpha may cause precision problems.\n",
      "  ConvergenceWarning)\n",
      "/anaconda2/envs/env/lib/python3.6/site-packages/sklearn/linear_model/coordinate_descent.py:491: ConvergenceWarning: Objective did not converge. You might want to increase the number of iterations. Fitting data with very small alpha may cause precision problems.\n",
      "  ConvergenceWarning)\n",
      "/anaconda2/envs/env/lib/python3.6/site-packages/sklearn/linear_model/coordinate_descent.py:491: ConvergenceWarning: Objective did not converge. You might want to increase the number of iterations. Fitting data with very small alpha may cause precision problems.\n",
      "  ConvergenceWarning)\n",
      "/anaconda2/envs/env/lib/python3.6/site-packages/sklearn/linear_model/coordinate_descent.py:491: ConvergenceWarning: Objective did not converge. You might want to increase the number of iterations. Fitting data with very small alpha may cause precision problems.\n",
      "  ConvergenceWarning)\n",
      "/anaconda2/envs/env/lib/python3.6/site-packages/sklearn/linear_model/coordinate_descent.py:491: ConvergenceWarning: Objective did not converge. You might want to increase the number of iterations. Fitting data with very small alpha may cause precision problems.\n",
      "  ConvergenceWarning)\n",
      "/anaconda2/envs/env/lib/python3.6/site-packages/sklearn/linear_model/coordinate_descent.py:491: ConvergenceWarning: Objective did not converge. You might want to increase the number of iterations. Fitting data with very small alpha may cause precision problems.\n",
      "  ConvergenceWarning)\n",
      "/anaconda2/envs/env/lib/python3.6/site-packages/sklearn/linear_model/coordinate_descent.py:491: ConvergenceWarning: Objective did not converge. You might want to increase the number of iterations. Fitting data with very small alpha may cause precision problems.\n",
      "  ConvergenceWarning)\n",
      "/anaconda2/envs/env/lib/python3.6/site-packages/sklearn/linear_model/coordinate_descent.py:491: ConvergenceWarning: Objective did not converge. You might want to increase the number of iterations. Fitting data with very small alpha may cause precision problems.\n",
      "  ConvergenceWarning)\n",
      "/anaconda2/envs/env/lib/python3.6/site-packages/sklearn/linear_model/coordinate_descent.py:491: ConvergenceWarning: Objective did not converge. You might want to increase the number of iterations. Fitting data with very small alpha may cause precision problems.\n",
      "  ConvergenceWarning)\n"
     ]
    },
    {
     "name": "stderr",
     "output_type": "stream",
     "text": [
      "/anaconda2/envs/env/lib/python3.6/site-packages/sklearn/linear_model/coordinate_descent.py:491: ConvergenceWarning: Objective did not converge. You might want to increase the number of iterations. Fitting data with very small alpha may cause precision problems.\n",
      "  ConvergenceWarning)\n",
      "/anaconda2/envs/env/lib/python3.6/site-packages/sklearn/linear_model/coordinate_descent.py:491: ConvergenceWarning: Objective did not converge. You might want to increase the number of iterations. Fitting data with very small alpha may cause precision problems.\n",
      "  ConvergenceWarning)\n",
      "/anaconda2/envs/env/lib/python3.6/site-packages/sklearn/linear_model/coordinate_descent.py:491: ConvergenceWarning: Objective did not converge. You might want to increase the number of iterations. Fitting data with very small alpha may cause precision problems.\n",
      "  ConvergenceWarning)\n",
      "/anaconda2/envs/env/lib/python3.6/site-packages/sklearn/linear_model/coordinate_descent.py:491: ConvergenceWarning: Objective did not converge. You might want to increase the number of iterations. Fitting data with very small alpha may cause precision problems.\n",
      "  ConvergenceWarning)\n",
      "/anaconda2/envs/env/lib/python3.6/site-packages/sklearn/linear_model/coordinate_descent.py:491: ConvergenceWarning: Objective did not converge. You might want to increase the number of iterations. Fitting data with very small alpha may cause precision problems.\n",
      "  ConvergenceWarning)\n",
      "/anaconda2/envs/env/lib/python3.6/site-packages/sklearn/linear_model/coordinate_descent.py:491: ConvergenceWarning: Objective did not converge. You might want to increase the number of iterations. Fitting data with very small alpha may cause precision problems.\n",
      "  ConvergenceWarning)\n",
      "/anaconda2/envs/env/lib/python3.6/site-packages/sklearn/linear_model/coordinate_descent.py:491: ConvergenceWarning: Objective did not converge. You might want to increase the number of iterations. Fitting data with very small alpha may cause precision problems.\n",
      "  ConvergenceWarning)\n",
      "/anaconda2/envs/env/lib/python3.6/site-packages/sklearn/linear_model/coordinate_descent.py:491: ConvergenceWarning: Objective did not converge. You might want to increase the number of iterations. Fitting data with very small alpha may cause precision problems.\n",
      "  ConvergenceWarning)\n",
      "/anaconda2/envs/env/lib/python3.6/site-packages/sklearn/linear_model/coordinate_descent.py:491: ConvergenceWarning: Objective did not converge. You might want to increase the number of iterations. Fitting data with very small alpha may cause precision problems.\n",
      "  ConvergenceWarning)\n",
      "/anaconda2/envs/env/lib/python3.6/site-packages/sklearn/linear_model/coordinate_descent.py:491: ConvergenceWarning: Objective did not converge. You might want to increase the number of iterations. Fitting data with very small alpha may cause precision problems.\n",
      "  ConvergenceWarning)\n",
      "/anaconda2/envs/env/lib/python3.6/site-packages/sklearn/linear_model/coordinate_descent.py:491: ConvergenceWarning: Objective did not converge. You might want to increase the number of iterations. Fitting data with very small alpha may cause precision problems.\n",
      "  ConvergenceWarning)\n",
      "/anaconda2/envs/env/lib/python3.6/site-packages/sklearn/linear_model/coordinate_descent.py:491: ConvergenceWarning: Objective did not converge. You might want to increase the number of iterations. Fitting data with very small alpha may cause precision problems.\n",
      "  ConvergenceWarning)\n",
      "/anaconda2/envs/env/lib/python3.6/site-packages/sklearn/linear_model/coordinate_descent.py:491: ConvergenceWarning: Objective did not converge. You might want to increase the number of iterations. Fitting data with very small alpha may cause precision problems.\n",
      "  ConvergenceWarning)\n",
      "/anaconda2/envs/env/lib/python3.6/site-packages/sklearn/linear_model/coordinate_descent.py:491: ConvergenceWarning: Objective did not converge. You might want to increase the number of iterations. Fitting data with very small alpha may cause precision problems.\n",
      "  ConvergenceWarning)\n",
      "/anaconda2/envs/env/lib/python3.6/site-packages/sklearn/linear_model/coordinate_descent.py:491: ConvergenceWarning: Objective did not converge. You might want to increase the number of iterations. Fitting data with very small alpha may cause precision problems.\n",
      "  ConvergenceWarning)\n",
      "/anaconda2/envs/env/lib/python3.6/site-packages/sklearn/linear_model/coordinate_descent.py:491: ConvergenceWarning: Objective did not converge. You might want to increase the number of iterations. Fitting data with very small alpha may cause precision problems.\n",
      "  ConvergenceWarning)\n",
      "/anaconda2/envs/env/lib/python3.6/site-packages/sklearn/linear_model/coordinate_descent.py:491: ConvergenceWarning: Objective did not converge. You might want to increase the number of iterations. Fitting data with very small alpha may cause precision problems.\n",
      "  ConvergenceWarning)\n",
      "/anaconda2/envs/env/lib/python3.6/site-packages/sklearn/linear_model/coordinate_descent.py:491: ConvergenceWarning: Objective did not converge. You might want to increase the number of iterations. Fitting data with very small alpha may cause precision problems.\n",
      "  ConvergenceWarning)\n",
      "/anaconda2/envs/env/lib/python3.6/site-packages/sklearn/linear_model/coordinate_descent.py:491: ConvergenceWarning: Objective did not converge. You might want to increase the number of iterations. Fitting data with very small alpha may cause precision problems.\n",
      "  ConvergenceWarning)\n",
      "/anaconda2/envs/env/lib/python3.6/site-packages/sklearn/linear_model/coordinate_descent.py:491: ConvergenceWarning: Objective did not converge. You might want to increase the number of iterations. Fitting data with very small alpha may cause precision problems.\n",
      "  ConvergenceWarning)\n",
      "/anaconda2/envs/env/lib/python3.6/site-packages/sklearn/linear_model/coordinate_descent.py:491: ConvergenceWarning: Objective did not converge. You might want to increase the number of iterations. Fitting data with very small alpha may cause precision problems.\n",
      "  ConvergenceWarning)\n",
      "/anaconda2/envs/env/lib/python3.6/site-packages/sklearn/linear_model/coordinate_descent.py:491: ConvergenceWarning: Objective did not converge. You might want to increase the number of iterations. Fitting data with very small alpha may cause precision problems.\n",
      "  ConvergenceWarning)\n",
      "/anaconda2/envs/env/lib/python3.6/site-packages/sklearn/linear_model/coordinate_descent.py:491: ConvergenceWarning: Objective did not converge. You might want to increase the number of iterations. Fitting data with very small alpha may cause precision problems.\n",
      "  ConvergenceWarning)\n",
      "/anaconda2/envs/env/lib/python3.6/site-packages/sklearn/linear_model/coordinate_descent.py:491: ConvergenceWarning: Objective did not converge. You might want to increase the number of iterations. Fitting data with very small alpha may cause precision problems.\n",
      "  ConvergenceWarning)\n",
      "/anaconda2/envs/env/lib/python3.6/site-packages/sklearn/linear_model/coordinate_descent.py:491: ConvergenceWarning: Objective did not converge. You might want to increase the number of iterations. Fitting data with very small alpha may cause precision problems.\n",
      "  ConvergenceWarning)\n",
      "/anaconda2/envs/env/lib/python3.6/site-packages/sklearn/linear_model/coordinate_descent.py:491: ConvergenceWarning: Objective did not converge. You might want to increase the number of iterations. Fitting data with very small alpha may cause precision problems.\n",
      "  ConvergenceWarning)\n",
      "/anaconda2/envs/env/lib/python3.6/site-packages/sklearn/linear_model/coordinate_descent.py:491: ConvergenceWarning: Objective did not converge. You might want to increase the number of iterations. Fitting data with very small alpha may cause precision problems.\n",
      "  ConvergenceWarning)\n",
      "/anaconda2/envs/env/lib/python3.6/site-packages/sklearn/linear_model/coordinate_descent.py:491: ConvergenceWarning: Objective did not converge. You might want to increase the number of iterations. Fitting data with very small alpha may cause precision problems.\n",
      "  ConvergenceWarning)\n",
      "/anaconda2/envs/env/lib/python3.6/site-packages/sklearn/linear_model/coordinate_descent.py:491: ConvergenceWarning: Objective did not converge. You might want to increase the number of iterations. Fitting data with very small alpha may cause precision problems.\n",
      "  ConvergenceWarning)\n"
     ]
    },
    {
     "name": "stderr",
     "output_type": "stream",
     "text": [
      "/anaconda2/envs/env/lib/python3.6/site-packages/sklearn/linear_model/coordinate_descent.py:491: ConvergenceWarning: Objective did not converge. You might want to increase the number of iterations. Fitting data with very small alpha may cause precision problems.\n",
      "  ConvergenceWarning)\n",
      "/anaconda2/envs/env/lib/python3.6/site-packages/sklearn/linear_model/coordinate_descent.py:491: ConvergenceWarning: Objective did not converge. You might want to increase the number of iterations. Fitting data with very small alpha may cause precision problems.\n",
      "  ConvergenceWarning)\n",
      "/anaconda2/envs/env/lib/python3.6/site-packages/sklearn/linear_model/coordinate_descent.py:491: ConvergenceWarning: Objective did not converge. You might want to increase the number of iterations. Fitting data with very small alpha may cause precision problems.\n",
      "  ConvergenceWarning)\n",
      "/anaconda2/envs/env/lib/python3.6/site-packages/sklearn/linear_model/coordinate_descent.py:491: ConvergenceWarning: Objective did not converge. You might want to increase the number of iterations. Fitting data with very small alpha may cause precision problems.\n",
      "  ConvergenceWarning)\n",
      "/anaconda2/envs/env/lib/python3.6/site-packages/sklearn/linear_model/coordinate_descent.py:491: ConvergenceWarning: Objective did not converge. You might want to increase the number of iterations. Fitting data with very small alpha may cause precision problems.\n",
      "  ConvergenceWarning)\n",
      "/anaconda2/envs/env/lib/python3.6/site-packages/sklearn/linear_model/coordinate_descent.py:491: ConvergenceWarning: Objective did not converge. You might want to increase the number of iterations. Fitting data with very small alpha may cause precision problems.\n",
      "  ConvergenceWarning)\n",
      "/anaconda2/envs/env/lib/python3.6/site-packages/sklearn/linear_model/coordinate_descent.py:491: ConvergenceWarning: Objective did not converge. You might want to increase the number of iterations. Fitting data with very small alpha may cause precision problems.\n",
      "  ConvergenceWarning)\n",
      "/anaconda2/envs/env/lib/python3.6/site-packages/sklearn/linear_model/coordinate_descent.py:491: ConvergenceWarning: Objective did not converge. You might want to increase the number of iterations. Fitting data with very small alpha may cause precision problems.\n",
      "  ConvergenceWarning)\n",
      "/anaconda2/envs/env/lib/python3.6/site-packages/sklearn/linear_model/coordinate_descent.py:491: ConvergenceWarning: Objective did not converge. You might want to increase the number of iterations. Fitting data with very small alpha may cause precision problems.\n",
      "  ConvergenceWarning)\n",
      "/anaconda2/envs/env/lib/python3.6/site-packages/sklearn/linear_model/coordinate_descent.py:491: ConvergenceWarning: Objective did not converge. You might want to increase the number of iterations. Fitting data with very small alpha may cause precision problems.\n",
      "  ConvergenceWarning)\n",
      "/anaconda2/envs/env/lib/python3.6/site-packages/sklearn/linear_model/coordinate_descent.py:491: ConvergenceWarning: Objective did not converge. You might want to increase the number of iterations. Fitting data with very small alpha may cause precision problems.\n",
      "  ConvergenceWarning)\n",
      "/anaconda2/envs/env/lib/python3.6/site-packages/sklearn/linear_model/coordinate_descent.py:491: ConvergenceWarning: Objective did not converge. You might want to increase the number of iterations. Fitting data with very small alpha may cause precision problems.\n",
      "  ConvergenceWarning)\n",
      "/anaconda2/envs/env/lib/python3.6/site-packages/sklearn/linear_model/coordinate_descent.py:491: ConvergenceWarning: Objective did not converge. You might want to increase the number of iterations. Fitting data with very small alpha may cause precision problems.\n",
      "  ConvergenceWarning)\n",
      "/anaconda2/envs/env/lib/python3.6/site-packages/sklearn/linear_model/coordinate_descent.py:491: ConvergenceWarning: Objective did not converge. You might want to increase the number of iterations. Fitting data with very small alpha may cause precision problems.\n",
      "  ConvergenceWarning)\n",
      "/anaconda2/envs/env/lib/python3.6/site-packages/sklearn/linear_model/coordinate_descent.py:491: ConvergenceWarning: Objective did not converge. You might want to increase the number of iterations. Fitting data with very small alpha may cause precision problems.\n",
      "  ConvergenceWarning)\n",
      "/anaconda2/envs/env/lib/python3.6/site-packages/sklearn/linear_model/coordinate_descent.py:491: ConvergenceWarning: Objective did not converge. You might want to increase the number of iterations. Fitting data with very small alpha may cause precision problems.\n",
      "  ConvergenceWarning)\n",
      "/anaconda2/envs/env/lib/python3.6/site-packages/sklearn/linear_model/coordinate_descent.py:491: ConvergenceWarning: Objective did not converge. You might want to increase the number of iterations. Fitting data with very small alpha may cause precision problems.\n",
      "  ConvergenceWarning)\n",
      "/anaconda2/envs/env/lib/python3.6/site-packages/sklearn/linear_model/coordinate_descent.py:491: ConvergenceWarning: Objective did not converge. You might want to increase the number of iterations. Fitting data with very small alpha may cause precision problems.\n",
      "  ConvergenceWarning)\n",
      "/anaconda2/envs/env/lib/python3.6/site-packages/sklearn/linear_model/coordinate_descent.py:491: ConvergenceWarning: Objective did not converge. You might want to increase the number of iterations. Fitting data with very small alpha may cause precision problems.\n",
      "  ConvergenceWarning)\n",
      "/anaconda2/envs/env/lib/python3.6/site-packages/sklearn/linear_model/coordinate_descent.py:491: ConvergenceWarning: Objective did not converge. You might want to increase the number of iterations. Fitting data with very small alpha may cause precision problems.\n",
      "  ConvergenceWarning)\n",
      "/anaconda2/envs/env/lib/python3.6/site-packages/sklearn/linear_model/coordinate_descent.py:491: ConvergenceWarning: Objective did not converge. You might want to increase the number of iterations. Fitting data with very small alpha may cause precision problems.\n",
      "  ConvergenceWarning)\n",
      "/anaconda2/envs/env/lib/python3.6/site-packages/sklearn/linear_model/coordinate_descent.py:491: ConvergenceWarning: Objective did not converge. You might want to increase the number of iterations. Fitting data with very small alpha may cause precision problems.\n",
      "  ConvergenceWarning)\n"
     ]
    },
    {
     "data": {
      "text/plain": [
       "<matplotlib.collections.PathCollection at 0x1a1793bb38>"
      ]
     },
     "execution_count": 179,
     "metadata": {},
     "output_type": "execute_result"
    },
    {
     "data": {
      "image/png": "[encoded data removed]",
      "text/plain": [
       "<Figure size 432x288 with 1 Axes>"
      ]
     },
     "metadata": {},
     "output_type": "display_data"
    }
   ],
   "source": [
    "\n",
    "scores =[]\n",
    "for a in np.linspace(0.001, 0.1, 20):\n",
    "    scores.append(np.mean(-cross_val_score(Lasso(alpha=a),X_train, y_train, n_jobs=-1, \n",
    "                                   scoring=\"neg_mean_absolute_error\", cv=get_fold())))\n",
    "plt.scatter(np.linspace(0.001, 0.1, 20),scores)"
   ]
  },
  {
   "cell_type": "code",
   "execution_count": 185,
   "metadata": {},
   "outputs": [
    {
     "name": "stdout",
     "output_type": "stream",
     "text": [
      "Fitting 5 folds for each of 36 candidates, totalling 180 fits\n"
     ]
    },
    {
     "name": "stderr",
     "output_type": "stream",
     "text": [
      "[Parallel(n_jobs=-1)]: Done  42 tasks      | elapsed: 12.6min\n",
      "[Parallel(n_jobs=-1)]: Done 180 out of 180 | elapsed: 19.7min finished\n"
     ]
    },
    {
     "name": "stdout",
     "output_type": "stream",
     "text": [
      "RandomForestRegressor(bootstrap=True, criterion='mse', max_depth=None,\n",
      "           max_features='auto', max_leaf_nodes=None,\n",
      "           min_impurity_decrease=0.0, min_impurity_split=None,\n",
      "           min_samples_leaf=1, min_samples_split=3,\n",
      "           min_weight_fraction_leaf=0.0, n_estimators=700, n_jobs=1,\n",
      "           oob_score=False, random_state=None, verbose=0, warm_start=False)\n"
     ]
    }
   ],
   "source": [
    "from sklearn.grid_search import GridSearchCV\n",
    "# Set the parameters by cross-validation\n",
    "tuned_parameters = {'n_estimators': [500, 700, 1000], 'max_depth': [None, 1, 2, 3], 'min_samples_split': [2, 3, 4]}\n",
    "\n",
    "# clf = ensemble.RandomForestRegressor(n_estimators=500, n_jobs=1, verbose=1)\n",
    "clf = GridSearchCV(RandomForestRegressor(), tuned_parameters, cv=5, scoring=\"neg_mean_absolute_error\", n_jobs=-1, verbose=1)\n",
    "clf.fit(X_train, y_train)\n",
    "print(clf.best_estimator_)\n"
   ]
  },
  {
   "cell_type": "code",
   "execution_count": 190,
   "metadata": {},
   "outputs": [
    {
     "name": "stderr",
     "output_type": "stream",
     "text": [
      "/anaconda2/envs/env/lib/python3.6/site-packages/sklearn/linear_model/coordinate_descent.py:491: ConvergenceWarning: Objective did not converge. You might want to increase the number of iterations. Fitting data with very small alpha may cause precision problems.\n",
      "  ConvergenceWarning)\n",
      "/anaconda2/envs/env/lib/python3.6/site-packages/sklearn/linear_model/coordinate_descent.py:491: ConvergenceWarning: Objective did not converge. You might want to increase the number of iterations. Fitting data with very small alpha may cause precision problems.\n",
      "  ConvergenceWarning)\n",
      "/anaconda2/envs/env/lib/python3.6/site-packages/sklearn/linear_model/coordinate_descent.py:491: ConvergenceWarning: Objective did not converge. You might want to increase the number of iterations. Fitting data with very small alpha may cause precision problems.\n",
      "  ConvergenceWarning)\n",
      "/anaconda2/envs/env/lib/python3.6/site-packages/sklearn/linear_model/coordinate_descent.py:491: ConvergenceWarning: Objective did not converge. You might want to increase the number of iterations. Fitting data with very small alpha may cause precision problems.\n",
      "  ConvergenceWarning)\n",
      "/anaconda2/envs/env/lib/python3.6/site-packages/sklearn/linear_model/coordinate_descent.py:491: ConvergenceWarning: Objective did not converge. You might want to increase the number of iterations. Fitting data with very small alpha may cause precision problems.\n",
      "  ConvergenceWarning)\n",
      "/anaconda2/envs/env/lib/python3.6/site-packages/sklearn/linear_model/coordinate_descent.py:491: ConvergenceWarning: Objective did not converge. You might want to increase the number of iterations. Fitting data with very small alpha may cause precision problems.\n",
      "  ConvergenceWarning)\n",
      "/anaconda2/envs/env/lib/python3.6/site-packages/sklearn/linear_model/coordinate_descent.py:491: ConvergenceWarning: Objective did not converge. You might want to increase the number of iterations. Fitting data with very small alpha may cause precision problems.\n",
      "  ConvergenceWarning)\n",
      "/anaconda2/envs/env/lib/python3.6/site-packages/sklearn/linear_model/coordinate_descent.py:491: ConvergenceWarning: Objective did not converge. You might want to increase the number of iterations. Fitting data with very small alpha may cause precision problems.\n",
      "  ConvergenceWarning)\n",
      "/anaconda2/envs/env/lib/python3.6/site-packages/sklearn/linear_model/coordinate_descent.py:491: ConvergenceWarning: Objective did not converge. You might want to increase the number of iterations. Fitting data with very small alpha may cause precision problems.\n",
      "  ConvergenceWarning)\n",
      "/anaconda2/envs/env/lib/python3.6/site-packages/sklearn/linear_model/coordinate_descent.py:491: ConvergenceWarning: Objective did not converge. You might want to increase the number of iterations. Fitting data with very small alpha may cause precision problems.\n",
      "  ConvergenceWarning)\n",
      "/anaconda2/envs/env/lib/python3.6/site-packages/sklearn/linear_model/coordinate_descent.py:491: ConvergenceWarning: Objective did not converge. You might want to increase the number of iterations. Fitting data with very small alpha may cause precision problems.\n",
      "  ConvergenceWarning)\n",
      "/anaconda2/envs/env/lib/python3.6/site-packages/sklearn/linear_model/coordinate_descent.py:491: ConvergenceWarning: Objective did not converge. You might want to increase the number of iterations. Fitting data with very small alpha may cause precision problems.\n",
      "  ConvergenceWarning)\n",
      "/anaconda2/envs/env/lib/python3.6/site-packages/sklearn/linear_model/coordinate_descent.py:491: ConvergenceWarning: Objective did not converge. You might want to increase the number of iterations. Fitting data with very small alpha may cause precision problems.\n",
      "  ConvergenceWarning)\n",
      "/anaconda2/envs/env/lib/python3.6/site-packages/sklearn/linear_model/coordinate_descent.py:491: ConvergenceWarning: Objective did not converge. You might want to increase the number of iterations. Fitting data with very small alpha may cause precision problems.\n",
      "  ConvergenceWarning)\n",
      "/anaconda2/envs/env/lib/python3.6/site-packages/sklearn/linear_model/coordinate_descent.py:491: ConvergenceWarning: Objective did not converge. You might want to increase the number of iterations. Fitting data with very small alpha may cause precision problems.\n",
      "  ConvergenceWarning)\n",
      "/anaconda2/envs/env/lib/python3.6/site-packages/sklearn/linear_model/coordinate_descent.py:491: ConvergenceWarning: Objective did not converge. You might want to increase the number of iterations. Fitting data with very small alpha may cause precision problems.\n",
      "  ConvergenceWarning)\n",
      "/anaconda2/envs/env/lib/python3.6/site-packages/sklearn/linear_model/coordinate_descent.py:491: ConvergenceWarning: Objective did not converge. You might want to increase the number of iterations. Fitting data with very small alpha may cause precision problems.\n",
      "  ConvergenceWarning)\n",
      "/anaconda2/envs/env/lib/python3.6/site-packages/sklearn/linear_model/coordinate_descent.py:491: ConvergenceWarning: Objective did not converge. You might want to increase the number of iterations. Fitting data with very small alpha may cause precision problems.\n",
      "  ConvergenceWarning)\n",
      "/anaconda2/envs/env/lib/python3.6/site-packages/sklearn/linear_model/coordinate_descent.py:491: ConvergenceWarning: Objective did not converge. You might want to increase the number of iterations. Fitting data with very small alpha may cause precision problems.\n",
      "  ConvergenceWarning)\n",
      "/anaconda2/envs/env/lib/python3.6/site-packages/sklearn/linear_model/coordinate_descent.py:491: ConvergenceWarning: Objective did not converge. You might want to increase the number of iterations. Fitting data with very small alpha may cause precision problems.\n",
      "  ConvergenceWarning)\n",
      "/anaconda2/envs/env/lib/python3.6/site-packages/sklearn/linear_model/coordinate_descent.py:491: ConvergenceWarning: Objective did not converge. You might want to increase the number of iterations. Fitting data with very small alpha may cause precision problems.\n",
      "  ConvergenceWarning)\n",
      "/anaconda2/envs/env/lib/python3.6/site-packages/sklearn/linear_model/coordinate_descent.py:491: ConvergenceWarning: Objective did not converge. You might want to increase the number of iterations. Fitting data with very small alpha may cause precision problems.\n",
      "  ConvergenceWarning)\n",
      "/anaconda2/envs/env/lib/python3.6/site-packages/sklearn/linear_model/coordinate_descent.py:491: ConvergenceWarning: Objective did not converge. You might want to increase the number of iterations. Fitting data with very small alpha may cause precision problems.\n",
      "  ConvergenceWarning)\n",
      "/anaconda2/envs/env/lib/python3.6/site-packages/sklearn/linear_model/coordinate_descent.py:491: ConvergenceWarning: Objective did not converge. You might want to increase the number of iterations. Fitting data with very small alpha may cause precision problems.\n",
      "  ConvergenceWarning)\n",
      "/anaconda2/envs/env/lib/python3.6/site-packages/sklearn/linear_model/coordinate_descent.py:491: ConvergenceWarning: Objective did not converge. You might want to increase the number of iterations. Fitting data with very small alpha may cause precision problems.\n",
      "  ConvergenceWarning)\n",
      "/anaconda2/envs/env/lib/python3.6/site-packages/sklearn/linear_model/coordinate_descent.py:491: ConvergenceWarning: Objective did not converge. You might want to increase the number of iterations. Fitting data with very small alpha may cause precision problems.\n",
      "  ConvergenceWarning)\n",
      "/anaconda2/envs/env/lib/python3.6/site-packages/sklearn/linear_model/coordinate_descent.py:491: ConvergenceWarning: Objective did not converge. You might want to increase the number of iterations. Fitting data with very small alpha may cause precision problems.\n",
      "  ConvergenceWarning)\n",
      "/anaconda2/envs/env/lib/python3.6/site-packages/sklearn/linear_model/coordinate_descent.py:491: ConvergenceWarning: Objective did not converge. You might want to increase the number of iterations. Fitting data with very small alpha may cause precision problems.\n",
      "  ConvergenceWarning)\n",
      "/anaconda2/envs/env/lib/python3.6/site-packages/sklearn/linear_model/coordinate_descent.py:491: ConvergenceWarning: Objective did not converge. You might want to increase the number of iterations. Fitting data with very small alpha may cause precision problems.\n",
      "  ConvergenceWarning)\n"
     ]
    },
    {
     "name": "stderr",
     "output_type": "stream",
     "text": [
      "/anaconda2/envs/env/lib/python3.6/site-packages/sklearn/linear_model/coordinate_descent.py:491: ConvergenceWarning: Objective did not converge. You might want to increase the number of iterations. Fitting data with very small alpha may cause precision problems.\n",
      "  ConvergenceWarning)\n",
      "/anaconda2/envs/env/lib/python3.6/site-packages/sklearn/linear_model/coordinate_descent.py:491: ConvergenceWarning: Objective did not converge. You might want to increase the number of iterations. Fitting data with very small alpha may cause precision problems.\n",
      "  ConvergenceWarning)\n",
      "/anaconda2/envs/env/lib/python3.6/site-packages/sklearn/linear_model/coordinate_descent.py:491: ConvergenceWarning: Objective did not converge. You might want to increase the number of iterations. Fitting data with very small alpha may cause precision problems.\n",
      "  ConvergenceWarning)\n",
      "/anaconda2/envs/env/lib/python3.6/site-packages/sklearn/linear_model/coordinate_descent.py:491: ConvergenceWarning: Objective did not converge. You might want to increase the number of iterations. Fitting data with very small alpha may cause precision problems.\n",
      "  ConvergenceWarning)\n",
      "/anaconda2/envs/env/lib/python3.6/site-packages/sklearn/linear_model/coordinate_descent.py:491: ConvergenceWarning: Objective did not converge. You might want to increase the number of iterations. Fitting data with very small alpha may cause precision problems.\n",
      "  ConvergenceWarning)\n",
      "/anaconda2/envs/env/lib/python3.6/site-packages/sklearn/linear_model/coordinate_descent.py:491: ConvergenceWarning: Objective did not converge. You might want to increase the number of iterations. Fitting data with very small alpha may cause precision problems.\n",
      "  ConvergenceWarning)\n",
      "/anaconda2/envs/env/lib/python3.6/site-packages/sklearn/linear_model/coordinate_descent.py:491: ConvergenceWarning: Objective did not converge. You might want to increase the number of iterations. Fitting data with very small alpha may cause precision problems.\n",
      "  ConvergenceWarning)\n",
      "/anaconda2/envs/env/lib/python3.6/site-packages/sklearn/linear_model/coordinate_descent.py:491: ConvergenceWarning: Objective did not converge. You might want to increase the number of iterations. Fitting data with very small alpha may cause precision problems.\n",
      "  ConvergenceWarning)\n",
      "/anaconda2/envs/env/lib/python3.6/site-packages/sklearn/linear_model/coordinate_descent.py:491: ConvergenceWarning: Objective did not converge. You might want to increase the number of iterations. Fitting data with very small alpha may cause precision problems.\n",
      "  ConvergenceWarning)\n",
      "/anaconda2/envs/env/lib/python3.6/site-packages/sklearn/linear_model/coordinate_descent.py:491: ConvergenceWarning: Objective did not converge. You might want to increase the number of iterations. Fitting data with very small alpha may cause precision problems.\n",
      "  ConvergenceWarning)\n",
      "/anaconda2/envs/env/lib/python3.6/site-packages/sklearn/linear_model/coordinate_descent.py:491: ConvergenceWarning: Objective did not converge. You might want to increase the number of iterations. Fitting data with very small alpha may cause precision problems.\n",
      "  ConvergenceWarning)\n",
      "/anaconda2/envs/env/lib/python3.6/site-packages/sklearn/linear_model/coordinate_descent.py:491: ConvergenceWarning: Objective did not converge. You might want to increase the number of iterations. Fitting data with very small alpha may cause precision problems.\n",
      "  ConvergenceWarning)\n",
      "/anaconda2/envs/env/lib/python3.6/site-packages/sklearn/linear_model/coordinate_descent.py:491: ConvergenceWarning: Objective did not converge. You might want to increase the number of iterations. Fitting data with very small alpha may cause precision problems.\n",
      "  ConvergenceWarning)\n",
      "/anaconda2/envs/env/lib/python3.6/site-packages/sklearn/linear_model/coordinate_descent.py:491: ConvergenceWarning: Objective did not converge. You might want to increase the number of iterations. Fitting data with very small alpha may cause precision problems.\n",
      "  ConvergenceWarning)\n",
      "/anaconda2/envs/env/lib/python3.6/site-packages/sklearn/linear_model/coordinate_descent.py:491: ConvergenceWarning: Objective did not converge. You might want to increase the number of iterations. Fitting data with very small alpha may cause precision problems.\n",
      "  ConvergenceWarning)\n",
      "/anaconda2/envs/env/lib/python3.6/site-packages/sklearn/linear_model/coordinate_descent.py:491: ConvergenceWarning: Objective did not converge. You might want to increase the number of iterations. Fitting data with very small alpha may cause precision problems.\n",
      "  ConvergenceWarning)\n",
      "/anaconda2/envs/env/lib/python3.6/site-packages/sklearn/linear_model/coordinate_descent.py:491: ConvergenceWarning: Objective did not converge. You might want to increase the number of iterations. Fitting data with very small alpha may cause precision problems.\n",
      "  ConvergenceWarning)\n",
      "/anaconda2/envs/env/lib/python3.6/site-packages/sklearn/linear_model/coordinate_descent.py:491: ConvergenceWarning: Objective did not converge. You might want to increase the number of iterations. Fitting data with very small alpha may cause precision problems.\n",
      "  ConvergenceWarning)\n",
      "/anaconda2/envs/env/lib/python3.6/site-packages/sklearn/linear_model/coordinate_descent.py:491: ConvergenceWarning: Objective did not converge. You might want to increase the number of iterations. Fitting data with very small alpha may cause precision problems.\n",
      "  ConvergenceWarning)\n",
      "/anaconda2/envs/env/lib/python3.6/site-packages/sklearn/linear_model/coordinate_descent.py:491: ConvergenceWarning: Objective did not converge. You might want to increase the number of iterations. Fitting data with very small alpha may cause precision problems.\n",
      "  ConvergenceWarning)\n",
      "/anaconda2/envs/env/lib/python3.6/site-packages/sklearn/linear_model/coordinate_descent.py:491: ConvergenceWarning: Objective did not converge. You might want to increase the number of iterations. Fitting data with very small alpha may cause precision problems.\n",
      "  ConvergenceWarning)\n",
      "/anaconda2/envs/env/lib/python3.6/site-packages/sklearn/linear_model/coordinate_descent.py:491: ConvergenceWarning: Objective did not converge. You might want to increase the number of iterations. Fitting data with very small alpha may cause precision problems.\n",
      "  ConvergenceWarning)\n",
      "/anaconda2/envs/env/lib/python3.6/site-packages/sklearn/linear_model/coordinate_descent.py:491: ConvergenceWarning: Objective did not converge. You might want to increase the number of iterations. Fitting data with very small alpha may cause precision problems.\n",
      "  ConvergenceWarning)\n",
      "/anaconda2/envs/env/lib/python3.6/site-packages/sklearn/linear_model/coordinate_descent.py:491: ConvergenceWarning: Objective did not converge. You might want to increase the number of iterations. Fitting data with very small alpha may cause precision problems.\n",
      "  ConvergenceWarning)\n",
      "/anaconda2/envs/env/lib/python3.6/site-packages/sklearn/linear_model/coordinate_descent.py:491: ConvergenceWarning: Objective did not converge. You might want to increase the number of iterations. Fitting data with very small alpha may cause precision problems.\n",
      "  ConvergenceWarning)\n",
      "/anaconda2/envs/env/lib/python3.6/site-packages/sklearn/linear_model/coordinate_descent.py:491: ConvergenceWarning: Objective did not converge. You might want to increase the number of iterations. Fitting data with very small alpha may cause precision problems.\n",
      "  ConvergenceWarning)\n",
      "/anaconda2/envs/env/lib/python3.6/site-packages/sklearn/linear_model/coordinate_descent.py:491: ConvergenceWarning: Objective did not converge. You might want to increase the number of iterations. Fitting data with very small alpha may cause precision problems.\n",
      "  ConvergenceWarning)\n",
      "/anaconda2/envs/env/lib/python3.6/site-packages/sklearn/linear_model/coordinate_descent.py:491: ConvergenceWarning: Objective did not converge. You might want to increase the number of iterations. Fitting data with very small alpha may cause precision problems.\n",
      "  ConvergenceWarning)\n",
      "/anaconda2/envs/env/lib/python3.6/site-packages/sklearn/linear_model/coordinate_descent.py:491: ConvergenceWarning: Objective did not converge. You might want to increase the number of iterations. Fitting data with very small alpha may cause precision problems.\n",
      "  ConvergenceWarning)\n"
     ]
    },
    {
     "name": "stderr",
     "output_type": "stream",
     "text": [
      "/anaconda2/envs/env/lib/python3.6/site-packages/sklearn/linear_model/coordinate_descent.py:491: ConvergenceWarning: Objective did not converge. You might want to increase the number of iterations. Fitting data with very small alpha may cause precision problems.\n",
      "  ConvergenceWarning)\n",
      "/anaconda2/envs/env/lib/python3.6/site-packages/sklearn/linear_model/coordinate_descent.py:491: ConvergenceWarning: Objective did not converge. You might want to increase the number of iterations. Fitting data with very small alpha may cause precision problems.\n",
      "  ConvergenceWarning)\n",
      "/anaconda2/envs/env/lib/python3.6/site-packages/sklearn/linear_model/coordinate_descent.py:491: ConvergenceWarning: Objective did not converge. You might want to increase the number of iterations. Fitting data with very small alpha may cause precision problems.\n",
      "  ConvergenceWarning)\n",
      "/anaconda2/envs/env/lib/python3.6/site-packages/sklearn/linear_model/coordinate_descent.py:491: ConvergenceWarning: Objective did not converge. You might want to increase the number of iterations. Fitting data with very small alpha may cause precision problems.\n",
      "  ConvergenceWarning)\n",
      "/anaconda2/envs/env/lib/python3.6/site-packages/sklearn/linear_model/coordinate_descent.py:491: ConvergenceWarning: Objective did not converge. You might want to increase the number of iterations. Fitting data with very small alpha may cause precision problems.\n",
      "  ConvergenceWarning)\n",
      "/anaconda2/envs/env/lib/python3.6/site-packages/sklearn/linear_model/coordinate_descent.py:491: ConvergenceWarning: Objective did not converge. You might want to increase the number of iterations. Fitting data with very small alpha may cause precision problems.\n",
      "  ConvergenceWarning)\n",
      "/anaconda2/envs/env/lib/python3.6/site-packages/sklearn/linear_model/coordinate_descent.py:491: ConvergenceWarning: Objective did not converge. You might want to increase the number of iterations. Fitting data with very small alpha may cause precision problems.\n",
      "  ConvergenceWarning)\n",
      "/anaconda2/envs/env/lib/python3.6/site-packages/sklearn/linear_model/coordinate_descent.py:491: ConvergenceWarning: Objective did not converge. You might want to increase the number of iterations. Fitting data with very small alpha may cause precision problems.\n",
      "  ConvergenceWarning)\n",
      "/anaconda2/envs/env/lib/python3.6/site-packages/sklearn/linear_model/coordinate_descent.py:491: ConvergenceWarning: Objective did not converge. You might want to increase the number of iterations. Fitting data with very small alpha may cause precision problems.\n",
      "  ConvergenceWarning)\n",
      "/anaconda2/envs/env/lib/python3.6/site-packages/sklearn/linear_model/coordinate_descent.py:491: ConvergenceWarning: Objective did not converge. You might want to increase the number of iterations. Fitting data with very small alpha may cause precision problems.\n",
      "  ConvergenceWarning)\n",
      "/anaconda2/envs/env/lib/python3.6/site-packages/sklearn/linear_model/coordinate_descent.py:491: ConvergenceWarning: Objective did not converge. You might want to increase the number of iterations. Fitting data with very small alpha may cause precision problems.\n",
      "  ConvergenceWarning)\n",
      "/anaconda2/envs/env/lib/python3.6/site-packages/sklearn/linear_model/coordinate_descent.py:491: ConvergenceWarning: Objective did not converge. You might want to increase the number of iterations. Fitting data with very small alpha may cause precision problems.\n",
      "  ConvergenceWarning)\n",
      "/anaconda2/envs/env/lib/python3.6/site-packages/sklearn/linear_model/coordinate_descent.py:491: ConvergenceWarning: Objective did not converge. You might want to increase the number of iterations. Fitting data with very small alpha may cause precision problems.\n",
      "  ConvergenceWarning)\n",
      "/anaconda2/envs/env/lib/python3.6/site-packages/sklearn/linear_model/coordinate_descent.py:491: ConvergenceWarning: Objective did not converge. You might want to increase the number of iterations. Fitting data with very small alpha may cause precision problems.\n",
      "  ConvergenceWarning)\n",
      "/anaconda2/envs/env/lib/python3.6/site-packages/sklearn/linear_model/coordinate_descent.py:491: ConvergenceWarning: Objective did not converge. You might want to increase the number of iterations. Fitting data with very small alpha may cause precision problems.\n",
      "  ConvergenceWarning)\n",
      "/anaconda2/envs/env/lib/python3.6/site-packages/sklearn/linear_model/coordinate_descent.py:491: ConvergenceWarning: Objective did not converge. You might want to increase the number of iterations. Fitting data with very small alpha may cause precision problems.\n",
      "  ConvergenceWarning)\n",
      "/anaconda2/envs/env/lib/python3.6/site-packages/sklearn/linear_model/coordinate_descent.py:491: ConvergenceWarning: Objective did not converge. You might want to increase the number of iterations. Fitting data with very small alpha may cause precision problems.\n",
      "  ConvergenceWarning)\n",
      "/anaconda2/envs/env/lib/python3.6/site-packages/sklearn/linear_model/coordinate_descent.py:491: ConvergenceWarning: Objective did not converge. You might want to increase the number of iterations. Fitting data with very small alpha may cause precision problems.\n",
      "  ConvergenceWarning)\n",
      "/anaconda2/envs/env/lib/python3.6/site-packages/sklearn/linear_model/coordinate_descent.py:491: ConvergenceWarning: Objective did not converge. You might want to increase the number of iterations. Fitting data with very small alpha may cause precision problems.\n",
      "  ConvergenceWarning)\n",
      "/anaconda2/envs/env/lib/python3.6/site-packages/sklearn/linear_model/coordinate_descent.py:491: ConvergenceWarning: Objective did not converge. You might want to increase the number of iterations. Fitting data with very small alpha may cause precision problems.\n",
      "  ConvergenceWarning)\n",
      "/anaconda2/envs/env/lib/python3.6/site-packages/sklearn/linear_model/coordinate_descent.py:491: ConvergenceWarning: Objective did not converge. You might want to increase the number of iterations. Fitting data with very small alpha may cause precision problems.\n",
      "  ConvergenceWarning)\n",
      "/anaconda2/envs/env/lib/python3.6/site-packages/sklearn/linear_model/coordinate_descent.py:491: ConvergenceWarning: Objective did not converge. You might want to increase the number of iterations. Fitting data with very small alpha may cause precision problems.\n",
      "  ConvergenceWarning)\n"
     ]
    },
    {
     "name": "stdout",
     "output_type": "stream",
     "text": [
      "CPU times: user 3.5 s, sys: 1.63 s, total: 5.13 s\n",
      "Wall time: 34.3 s\n"
     ]
    },
    {
     "data": {
      "image/png": "[encoded data removed]",
      "text/plain": [
       "<Figure size 432x288 with 1 Axes>"
      ]
     },
     "metadata": {},
     "output_type": "display_data"
    }
   ],
   "source": [
    "%%time\n",
    "scores =[]\n",
    "for a in np.linspace(0.001, 0.1, 20):\n",
    "    scores.append(np.mean(-cross_val_score(Lasso(alpha=a),np.ascontiguousarray(X_train.values), np.ascontiguousarray(y_train.values), n_jobs=-1, \n",
    "                                   scoring=\"neg_mean_absolute_error\", cv=get_fold())))\n",
    "plt.scatter(np.linspace(0.001, 0.1, 20),scores)"
   ]
  }
 ],
 "metadata": {
  "kernelspec": {
   "display_name": "Python [conda env:env]",
   "language": "python",
   "name": "conda-env-env-py"
  },
  "language_info": {
   "codemirror_mode": {
    "name": "ipython",
    "version": 3
   },
   "file_extension": ".py",
   "mimetype": "text/x-python",
   "name": "python",
   "nbconvert_exporter": "python",
   "pygments_lexer": "ipython3",
   "version": "3.6.6"
  }
 },
 "nbformat": 4,
 "nbformat_minor": 2
}
